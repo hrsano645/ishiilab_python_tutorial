{
 "metadata": {
  "kernelspec": {
   "display_name": "Python 3",
   "language": "python",
   "name": "python3"
  },
  "language_info": {
   "codemirror_mode": {
    "name": "ipython",
    "version": 3
   },
   "file_extension": ".py",
   "mimetype": "text/x-python",
   "name": "python",
   "nbconvert_exporter": "python",
   "pygments_lexer": "ipython3",
   "version": "3.4.3"
  },
  "name": "",
  "signature": "sha256:db1de281057be1cf6cfed4b724df16ef4b8b060651dd4e4d510cd56535f23eaf"
 },
 "nbformat": 3,
 "nbformat_minor": 0,
 "worksheets": [
  {
   "cells": [
    {
     "cell_type": "markdown",
     "metadata": {},
     "source": [
      "# \u6f14\u7fd2:CSV\u30e2\u30b8\u30e5\u30fc\u30eb\u3092\u4f7f\u3063\u3066\u30c7\u30fc\u30bf\u96c6\u8a08\n",
      "\n",
      "\u30b5\u30f3\u30d7\u30eb\u30c7\u30fc\u30bf\u3092\u4f7f\u3063\u3066\u30c7\u30fc\u30bf\u96c6\u8a08\u51e6\u7406\u3092\u5b9f\u88c5\u3057\u3066\u307f\u307e\u3059\u3002\n",
      "\n",
      "\u3053\u306e\u6f14\u7fd2\u4e2d\u306b\u597d\u304d\u306a\u30c7\u30fc\u30bf\u3092\u4f7f\u3063\u3066\u96c6\u8a08\u51e6\u7406\u3092\u3057\u3066\u3082\u3089\u3063\u3066\u69cb\u3044\u307e\u305b\u3093\u3002\n",
      "\n",
      "\n",
      "\n",
      "## \u8ab2\u984c\u306e\u30c7\u30fc\u30bf\u306b\u4ed8\u3044\u3066\n",
      "\n",
      "[\u653f\u5e9c\u7d71\u8a08\u306e\u7dcf\u5408\u7a93\u53e3 e-state](http://www.e-stat.go.jp/SG1/estat/eStatTopPortal.do)\u306b\u3042\u308b \u300c\u5e73\u621022\u5e74\u56fd\u52e2\u8abf\u67fb/\u4eba\u53e3\u7b49\u57fa\u672c\u96c6\u8a08\uff08\u7537\u5973\u30fb\u5e74\u9f62\u30fb\u914d\u5076\u95a2\u4fc2\uff0c\u4e16\u5e2f\u306e\u69cb\u6210\uff0c\u4f4f\u5c45\u306e\u72b6\u614b\u306a\u3069\uff09/\u5168\u56fd\u7d50\u679c\u300d\u3088\u308a\u3001\u8868\u756a\u53f7 3-1 \u300c\u5e74\u9f62(\u5404\u6b73)\uff0c\u7537\u5973\u5225\u4eba\u53e3\uff0c\u5e74\u9f62\u5225\u5272\u5408\uff0c\u5e73\u5747\u5e74\u9f62\u53ca\u3073\u5e74\u9f62\u4e2d\u4f4d\u6570(\u7dcf\u6570\u53ca\u3073\u65e5\u672c\u4eba)\uff0d\u5168\u56fd\u203b\uff0c\u5168\u56fd\u5e02\u90e8\u203b\uff0c\u5168\u56fd\u90e1\u90e8\u203b\uff0c\u90fd\u9053\u5e9c\u770c\uff0c20\u5927\u90fd\u5e02\u300d \u306e\u4e00\u90e8\u3092\u62bd\u51fa\u3057\u3066\u5229\u7528\u3057\u3066\u3044\u307e\u3059\u3002\n",
      "\n",
      "[\u7d71\u8a08\u8868\u4e00\u89a7\u3000\u653f\u5e9c\u7d71\u8a08\u306e\u7dcf\u5408\u7a93\u53e3\u3000GL08020103](http://www.e-stat.go.jp/SG1/estat/GL08020103.do?_toGL08020103_&tclassID=000001034991&cycleCode=0&requestSender=search)"
     ]
    },
    {
     "cell_type": "markdown",
     "metadata": {},
     "source": [
      "# CSV\u30e2\u30b8\u30e5\u30fc\u30eb\u3068\u306f\n",
      "\n",
      "CSV\u30d5\u30a1\u30a4\u30eb\u3092\u8aad\u307f\u8fbc\u3080/\u66f8\u304d\u51fa\u3059\u305f\u3081\u306e\u30e2\u30b8\u30e5\u30fc\u30eb\u3067\u3059\u3002\n",
      "\n",
      "[14.1. csv \u2014 CSV \u30d5\u30a1\u30a4\u30eb\u306e\u8aad\u307f\u66f8\u304d \u2014 Python 3.4.3 \u30c9\u30ad\u30e5\u30e1\u30f3\u30c8](http://docs.python.jp/3/library/csv.html)"
     ]
    },
    {
     "cell_type": "markdown",
     "metadata": {},
     "source": [
      "##CSV\u30e2\u30b8\u30e5\u30fc\u30eb\u306e\u30a4\u30f3\u30dd\u30fc\u30c8\n",
      "\n",
      "CSV\u30e2\u30b8\u30e5\u30fc\u30eb\u306fPython\u306e\u6a19\u6e96\u30e9\u30a4\u30d6\u30e9\u30ea\u306b\u540c\u68b1\u3055\u308c\u3066\u3044\u308b\u306e\u3067\u3001\u30a4\u30f3\u30dd\u30fc\u30c8\u3057\u3066\u5229\u7528\u3057\u307e\u3059\u3002"
     ]
    },
    {
     "cell_type": "code",
     "collapsed": false,
     "input": [
      "import csv"
     ],
     "language": "python",
     "metadata": {},
     "outputs": [],
     "prompt_number": 1
    },
    {
     "cell_type": "markdown",
     "metadata": {},
     "source": [
      "##CSV\u30d5\u30a1\u30a4\u30eb\u306e\u8aad\u307f\u8fbc\u307f\n",
      "\n",
      "CSV\u30d5\u30a1\u30a4\u30eb\u306e\u8aad\u307f\u8fbc\u307f\u306f\u3001Python\u306e\u7d44\u307f\u8fbc\u307f\u95a2\u6570\u306b\u3042\u308bopen\u95a2\u6570\u3092\u4f7f\u3044\u30d5\u30a1\u30a4\u30eb\u3092\u958b\u3044\u305f\u4e0a\u3067\u3001csv.reader\u306b\u30bb\u30c3\u30c8\u3057\u307e\u3059\u3002\n",
      "\n",
      "\u30bb\u30c3\u30c8\u3057\u305f\u5f8c\u306f\u3001\u30ea\u30b9\u30c8\u5f62\u5f0f\u3068\u540c\u3058\u3088\u3046\u306b\u5229\u7528\u3067\u304d\u307e\u3059\u304c\u3001\u30d5\u30a1\u30a4\u30eb\u3092\u958b\u3044\u3066\u3044\u308b\u72b6\u614b\u306a\u306e\u3067\u3001\u30ea\u30b9\u30c8\u5f62\u5f0f\u306b\u30b3\u30d4\u30fc\u3057\u307e\u3059\u3002\n",
      "\n"
     ]
    },
    {
     "cell_type": "markdown",
     "metadata": {},
     "source": [
      "# \u8ab2\u984c1\n",
      "\n",
      "\u4ee5\u4e0b\u306e\u7d50\u679c\u304c\u5e30\u3063\u3066\u304f\u308b\u3088\u3046\u306a\u51e6\u7406\u3092\u4f5c\u6210\u3057\u3066\u4e0b\u3055\u3044\u3002\n",
      "(\u95a2\u6570\u3092\u4f7f\u3063\u3066\u547c\u3073\u51fa\u3057\u3066\u3082\u826f\u3044\u3057\u3001\u30bb\u30eb\u306e\u4e2d\u3067\u5b8c\u7d50\u3057\u3066\u3082\u69cb\u3044\u307e\u305b\u3093\uff09\n",
      "\n",
      "\n",
      "\u4ee5\u4e0b\u306e\u30c7\u30fc\u30bf\u304c\u3042\u308a\u307e\u3059\u3002\u5217\u540d\u306f\u2192\u304b\u3089\u533a\u540d\u3001\u4eba\u53e3\u3001\u9762\u7a4d\uff08km2\uff09\u3068\u306a\u308a\u307e\u3059\n",
      "\u533a\u540d\u3054\u3068\u306e\u4eba\u53e3\u3068\u9762\u7a4d\uff08km2\uff09\u3092\u4f7f\u3063\u30661km2\u5f53\u305f\u308a\u306e\u4eba\u53e3\u5bc6\u5ea6\u3092\u6c42\u3081\u3066\u4e0b\u3055\u3044\u3002\n",
      "\n",
      "```\n",
      "\u845b\u98fe\u533a,442586,34.79\n",
      "\u6c5f\u6238\u5ddd\u533a,678967,49.76\n",
      "\u6c5f\u6771\u533a,460819,39.94\n",
      "\u6e2f\u533a,205131,20.34\n",
      "\u65b0\u5bbf\u533a,326309,18.23\n",
      "\u6749\u4e26\u533a,549569,34.02\n",
      "\u4e16\u7530\u8c37\u533a,877138,58.08\n",
      "\u8db3\u7acb\u533a,683426,53.2\n",
      "\u5927\u7530\u533a,693373,59.46\n",
      "\u4e2d\u91ce\u533a,314750,15.59\n",
      "\u753a\u7530\u5e02,426987,71.63\n",
      "\u8abf\u5e03\u5e02,223593,21.53\n",
      "\u516b\u738b\u5b50\u5e02,580053,186.31\n",
      "\u677f\u6a4b\u533a,535824,32.17\n",
      "\u54c1\u5ddd\u533a,365302,22.72\n",
      "\u5e9c\u4e2d\u5e02,255506,29.34\n",
      "\u6587\u4eac\u533a,206626,11.31\n",
      "\u8c4a\u5cf6\u533a,284678,13.01\n",
      "\u5317\u533a,335544,20.59\n",
      "\u58a8\u7530\u533a,247606,13.75\n",
      "\u76ee\u9ed2\u533a,268330,14.7\n",
      "\u7df4\u99ac\u533a,716124,48.16\n",
      "```\n",
      "\n",
      "\u3053\u308c\u3068\u540c\u3058\u30d5\u30a1\u30a4\u30eb\u306f\u3001 `./exam/csv/exam_data.csv` \u3068\u3044\u3046\u540d\u524d\u3067\u3059\u3002\n",
      "\n",
      "## \u7d50\u679c\u4f8b\n",
      "\n",
      "```\n",
      "\u845b\u98fe\u533a,12721.6\n",
      "\u6c5f\u6238\u5ddd\u533a,13644.8\n",
      "\u6c5f\u6771\u533a,11537.8\n",
      "\u6e2f\u533a,10085.1\n",
      "\u65b0\u5bbf\u533a,17899.6\n",
      "\u6749\u4e26\u533a,16154.3\n",
      "\u4e16\u7530\u8c37\u533a,15102.2\n",
      "\u8db3\u7acb\u533a,12846.4\n",
      "\u5927\u7530\u533a,11661.2\n",
      "\u4e2d\u91ce\u533a,20189.2\n",
      "\u753a\u7530\u5e02,5961\n",
      "\u8abf\u5e03\u5e02,10385.2\n",
      "\u516b\u738b\u5b50\u5e02,3113.4\n",
      "\u677f\u6a4b\u533a,16656\n",
      "\u54c1\u5ddd\u533a,16078.4\n",
      "\u5e9c\u4e2d\u5e02,8708.5\n",
      "\u6587\u4eac\u533a,18269.3\n",
      "\u8c4a\u5cf6\u533a,21881.5\n",
      "\u5317\u533a,16296.5\n",
      "\u58a8\u7530\u533a,18007.7\n",
      "\u76ee\u9ed2\u533a,18253.7\n",
      "\u7df4\u99ac\u533a,14869.7\n",
      "\n",
      "\n",
      "```"
     ]
    },
    {
     "cell_type": "markdown",
     "metadata": {},
     "source": [
      "# \u8ab2\u984c1 \u7b54\u3048\n",
      "\n",
      "CSV\u30d5\u30a1\u30a4\u30eb\u3092\u8aad\u307f\u8fbc\u3093\u3067\u3001\u8a08\u7b97\u3055\u305b\u305f\u7d50\u679c\u3092print\u6587\u3092\u4f7f\u3063\u3066\u51fa\u529b\u3057\u307e\u3059\u3002  \n",
      "open\u95a2\u6570\u3067\u30d5\u30a1\u30a4\u30eb\u3092\u958b\u304d\u3001csv.reader\u3067csv\u30d5\u30a1\u30a4\u30eb\u3092Python\u5074\u3067\u6271\u3048\u308b\u3088\u3046\u306b\u3059\u308b\u3002\n",
      "\n",
      "csv.reader\u306b\u3064\u3044\u3066\u306f\u3053\u3061\u3089\u3092\u53c2\u7167\u4e0b\u3055\u3044\u3002\n",
      "\n",
      "http://docs.python.jp/3.4/library/csv.html?highlight=csv.reader#csv.reader"
     ]
    },
    {
     "cell_type": "code",
     "collapsed": false,
     "input": [
      "import csv"
     ],
     "language": "python",
     "metadata": {},
     "outputs": [],
     "prompt_number": 2
    },
    {
     "cell_type": "markdown",
     "metadata": {},
     "source": [
      "for\u6587\u3067\u8a08\u7b97\u3057\u3066\u8a08\u7b97\u7d50\u679c\u3092\u51fa\u529b\u3057\u307e\u3059\u3002  \n",
      "CSV\u5185\u306b\u3042\u308b\u5024\u306f\u5168\u3066\u6587\u5b57\u5217\u306a\u305f\u3081\u3001\u6570\u5b57\u306fint\u95a2\u6570\u304bfloat\u95a2\u6570\u3092\u4f7f\u3063\u3066\u6574\u6570\u3084\u6d6e\u52d5\u5c0f\u6570\u70b9\u306b\u3057\u3066\u8a08\u7b97\u3057\u307e\u3059\u3002\n",
      "\n",
      "\u4eca\u56de\u306f\u5c11\u6570\u3092\u542b\u3080\u306e\u3067float\u95a2\u6570\u3092\u4f7f\u3044\u307e\u3059\u3002\n",
      "\n",
      "\u8a08\u7b97\u7d50\u679c\u3092\u66f8\u304d\u51fa\u3059\u969b\u306b\u3001str\u95a2\u6570\u3092\u4f7f\u3063\u3066\u6587\u5b57\u5217\u306b\u5909\u63db\u3057\u3066\u3044\u307e\u3059\u3002+\u6f14\u7b97\u5b50\u3067\u6587\u5b57\u5217\u7d50\u5408\u3092\u3055\u305b\u308b\u5834\u5408\u306f\u4e92\u3044\uff08\u3082\u3057\u304f\u306f\u3059\u3079\u3066\uff09\u304c\u6587\u5b57\u5217\u3067\u3042\u308b\u5fc5\u8981\u304c\u6709\u308b\u305f\u3081\u3067\u3059\u3002\n",
      "\n",
      "\u4ee5\u4e0b\u306b\u89e3\u7b54\u4f8b\u3068\u540c\u3058\u7d50\u679c\u3068\u306a\u308b\u4f8b\u3092\u63d0\u793a\u3057\u307e\u3059\u3002\n",
      "\n",
      "\u88dc\u8db3\u3068\u3057\u3066\u3001\u89e3\u7b54\u4f8b\u306e\u901a\u308a\u306e\u5c0f\u6570\u70b9\u306e\u7d50\u679c\u306f\u5024\u3092\u4e38\u3081\u8fbc\u3080\u5fc5\u8981\u304c\u3042\u308a\u307e\u3059\u3002\u5024\u3092\u4e38\u3081\u8fbc\u307f\u305f\u3044\u5834\u5408\u306fround\u95a2\u6570\u304c\u5229\u7528\u3067\u304d\u307e\u3059\u3002\n",
      "\n",
      "http://docs.python.jp/3.4/library/functions.html?highlight=round#round"
     ]
    },
    {
     "cell_type": "code",
     "collapsed": false,
     "input": [
      "# \u4fbf\u5b9c\u4e0aCSV\u306e\u884c\u5217\u3092ist\u95a2\u6570\u3092\u4f7f\u3063\u3066\u30ea\u30b9\u30c8(\u884c)\u306e\u4e2d\u306e\u30ea\u30b9\u30c8(\u5217)\u306b\u3059\u308b\u305f\u3081\u306b\u5909\u6570\u306b\u5165\u308c\u3066\u3044\u308b\n",
      "\n",
      "with open(\"./exam/csv/exam_data.csv\", encoding=\"utf-8\") as fobj:\n",
      "    csv_reader = csv.reader(fobj)\n",
      "    exam_data = list(csv_reader)\n",
      "\n",
      "for row in exam_data:\n",
      "    calc_result = float(row[1])/float(row[2])\n",
      "    # round\u95a2\u6570\u3092\u4f7f\u3063\u3066\u5c0f\u6570\u70b91\u6841\u5206\u306b\u4e38\u3081\u8fbc\u3093\u3067\u3044\u308b\n",
      "    print(row[0] + \",\" + str(round(calc_result,1)))"
     ],
     "language": "python",
     "metadata": {},
     "outputs": [
      {
       "output_type": "stream",
       "stream": "stdout",
       "text": [
        "\u845b\u98fe\u533a,12721.6\n",
        "\u6c5f\u6238\u5ddd\u533a,13644.8\n",
        "\u6c5f\u6771\u533a,11537.8\n",
        "\u6e2f\u533a,10085.1\n",
        "\u65b0\u5bbf\u533a,17899.6\n",
        "\u6749\u4e26\u533a,16154.3\n",
        "\u4e16\u7530\u8c37\u533a,15102.2\n",
        "\u8db3\u7acb\u533a,12846.4\n",
        "\u5927\u7530\u533a,11661.2\n",
        "\u4e2d\u91ce\u533a,20189.2\n",
        "\u753a\u7530\u5e02,5961.0\n",
        "\u8abf\u5e03\u5e02,10385.2\n",
        "\u516b\u738b\u5b50\u5e02,3113.4\n",
        "\u677f\u6a4b\u533a,16656.0\n",
        "\u54c1\u5ddd\u533a,16078.4\n",
        "\u5e9c\u4e2d\u5e02,8708.5\n",
        "\u6587\u4eac\u533a,18269.3\n",
        "\u8c4a\u5cf6\u533a,21881.5\n",
        "\u5317\u533a,16296.5\n",
        "\u58a8\u7530\u533a,18007.7\n",
        "\u76ee\u9ed2\u533a,18253.7\n",
        "\u7df4\u99ac\u533a,14869.7\n"
       ]
      }
     ],
     "prompt_number": 3
    },
    {
     "cell_type": "markdown",
     "metadata": {},
     "source": [
      "\u51e6\u7406\u3092\u307e\u3068\u3081\u305f\u77ed\u3044\u4f8b\u3092\u793a\u3057\u307e\u3059\u3002\n",
      "\n",
      "csv_reader\u3092for\u6587\u3067\u5404\u884c\u3078\u30a2\u30af\u30bb\u30b9\u3057\u3001\u8a08\u7b97\u3057\u305f\u7d50\u679c\u3092print\u3057\u3066\u3044\u307e\u3059\u3002"
     ]
    },
    {
     "cell_type": "code",
     "collapsed": false,
     "input": [
      "with open(\"./exam/csv/exam_data.csv\", encoding=\"utf-8\") as fobj:\n",
      "    csv_reader = csv.reader(fobj)\n",
      "    for row in csv_reader:\n",
      "        calc_result = float(row[1])/float(row[2])\n",
      "        print(\"{},{:.1f}\".format(row[0], round(calc_result,1)))"
     ],
     "language": "python",
     "metadata": {},
     "outputs": [
      {
       "output_type": "stream",
       "stream": "stdout",
       "text": [
        "\u845b\u98fe\u533a,12721.6\n",
        "\u6c5f\u6238\u5ddd\u533a,13644.8\n",
        "\u6c5f\u6771\u533a,11537.8\n",
        "\u6e2f\u533a,10085.1\n",
        "\u65b0\u5bbf\u533a,17899.6\n",
        "\u6749\u4e26\u533a,16154.3\n",
        "\u4e16\u7530\u8c37\u533a,15102.2\n",
        "\u8db3\u7acb\u533a,12846.4\n",
        "\u5927\u7530\u533a,11661.2\n",
        "\u4e2d\u91ce\u533a,20189.2\n",
        "\u753a\u7530\u5e02,5961.0\n",
        "\u8abf\u5e03\u5e02,10385.2\n",
        "\u516b\u738b\u5b50\u5e02,3113.4\n",
        "\u677f\u6a4b\u533a,16656.0\n",
        "\u54c1\u5ddd\u533a,16078.4\n",
        "\u5e9c\u4e2d\u5e02,8708.5\n",
        "\u6587\u4eac\u533a,18269.3\n",
        "\u8c4a\u5cf6\u533a,21881.5\n",
        "\u5317\u533a,16296.5\n",
        "\u58a8\u7530\u533a,18007.7\n",
        "\u76ee\u9ed2\u533a,18253.7\n",
        "\u7df4\u99ac\u533a,14869.7\n"
       ]
      }
     ],
     "prompt_number": 4
    },
    {
     "cell_type": "markdown",
     "metadata": {},
     "source": [
      "# \u8ab2\u984c2\n",
      "\n",
      "\u4ee5\u4e0b\u306e\u7d50\u679c\u304c\u5e30\u3063\u3066\u304f\u308b\u3088\u3046\u306a\u51e6\u7406\u3092\u4f5c\u6210\u3057\u3066\u4e0b\u3055\u3044\u3002\n",
      "(\u95a2\u6570\u3092\u4f7f\u3063\u3066\u547c\u3073\u51fa\u3057\u3066\u3082\u826f\u3044\u3057\u3001\u30bb\u30eb\u306e\u4e2d\u3067\u5b8c\u7d50\u3057\u3066\u3082\u69cb\u3044\u307e\u305b\u3093\uff09\n",
      "\n",
      "\u6f14\u984c1\u3068\u4ee5\u4e0b\u306e\u968e\u7d1a\u3092\u4f7f\u3063\u3066\u3001\u4eba\u53e3\u5bc6\u5ea6\u306e\u5ea6\u6570\u5206\u5e03\u3092\u4f5c\u3063\u3066\u4e0b\u3055\u3044\u3002\n",
      "\n",
      "```\n",
      "10000\n",
      "12000\n",
      "14000\n",
      "16000\n",
      "18000\n",
      "20000\n",
      "30000\n",
      "```\n",
      "\n",
      "\u5ea6\u6570\u5206\u5e03\u3068\u306f\u3001\u968e\u7d1a\u306b\u5c5e\u3059\u308b\u30c7\u30fc\u30bf\u306e\u51fa\u73fe\u6570\u3092\u6570\u3048\u3066\u968e\u7d1a\u3054\u3068\u306b\u96c6\u8a08\u3055\u308c\u305f\u30ea\u30b9\u30c8\u3067\u3059\n",
      "\n",
      "<a href=\"https://ja.wikipedia.org/wiki/%E5%BA%A6%E6%95%B0%E5%88%86%E5%B8%83\">\u5ea6\u6570\u5206\u5e03 - Wikipedia</a>\n",
      "\n",
      "\n",
      "## \u7d50\u679c\u4f8b\n",
      "\n",
      "```\n",
      "10000,3\n",
      "12000,4\n",
      "14000,3\n",
      "16000,2\n",
      "18000,5\n",
      "20000,3\n",
      "30000,2\n",
      "\n",
      "```"
     ]
    },
    {
     "cell_type": "markdown",
     "metadata": {},
     "source": [
      "# \u8ab2\u984c2 \u7b54\u3048\n",
      "\n",
      "\u4ee5\u4e0b\u306b\u51e6\u7406\u306e\u4f8b\u3092\u793a\u3057\u307e\u3059\u3002\u307e\u305a\u6700\u521d\u306b\u8ab2\u984c1\u306e\u4eba\u53e3\u5bc6\u5ea6\u306e\u7d50\u679c\u3092\u6271\u3044\u3084\u3059\u3044\u3088\u3046\u306b\u3001\u884c\u5217\u306e\u30ea\u30b9\u30c8\u3092\u4f5c\u6210\u3057\u307e\u3059\u3002"
     ]
    },
    {
     "cell_type": "code",
     "collapsed": false,
     "input": [
      "# \u8f9e\u66f8\u3092\u4f5c\u6210\u3057\u3001\u8ab2\u984c1\u306e\u4eba\u53e3\u5bc6\u5ea6\u306e\u7d50\u679c\u3092\u5165\u308c\u307e\u3059\u3002\n",
      "\n",
      "exam1_results = []\n",
      "\n",
      "# \u8ab2\u984c1\u306e\u7b54\u3048\u3092\u6539\u5909\u3057\u3066\u3044\u308b\n",
      "with open(\"./exam/csv/exam_data.csv\", encoding=\"utf-8\") as fobj:\n",
      "    csv_reader = csv.reader(fobj)\n",
      "    for row in csv_reader:\n",
      "        calc_result = float(row[1])/float(row[2])\n",
      "        exam1_results.append([row[0],calc_result])\n",
      "        \n",
      "# \u884c\u5217\u306e\u30ea\u30b9\u30c8\u306e\u5185\u5bb9\u3092\u51fa\u529b\u3059\u308b\u3068\u3053\u3046\u306a\u308a\u307e\u3059\u3002\n",
      "print(exam1_results)"
     ],
     "language": "python",
     "metadata": {},
     "outputs": [
      {
       "output_type": "stream",
       "stream": "stdout",
       "text": [
        "[['\u845b\u98fe\u533a', 12721.644150617994], ['\u6c5f\u6238\u5ddd\u533a', 13644.835209003217], ['\u6c5f\u6771\u533a', 11537.781672508763], ['\u6e2f\u533a', 10085.103244837757], ['\u65b0\u5bbf\u533a', 17899.561162918268], ['\u6749\u4e26\u533a', 16154.29159318048], ['\u4e16\u7530\u8c37\u533a', 15102.23829201102], ['\u8db3\u7acb\u533a', 12846.353383458645], ['\u5927\u7530\u533a', 11661.167171207535], ['\u4e2d\u91ce\u533a', 20189.22386144965], ['\u753a\u7530\u5e02', 5961.007957559682], ['\u8abf\u5e03\u5e02', 10385.183464932652], ['\u516b\u738b\u5b50\u5e02', 3113.375556867586], ['\u677f\u6a4b\u533a', 16656.014920733604], ['\u54c1\u5ddd\u533a', 16078.43309859155], ['\u5e9c\u4e2d\u5e02', 8708.452624403544], ['\u6587\u4eac\u533a', 18269.319186560566], ['\u8c4a\u5cf6\u533a', 21881.475787855496], ['\u5317\u533a', 16296.454589606605], ['\u58a8\u7530\u533a', 18007.70909090909], ['\u76ee\u9ed2\u533a', 18253.74149659864], ['\u7df4\u99ac\u533a', 14869.684385382061]]\n"
       ]
      }
     ],
     "prompt_number": 5
    },
    {
     "cell_type": "markdown",
     "metadata": {},
     "source": [
      "for\u6587\u3068if\u6587\u3092\u4f7f\u3063\u3066\u30011\u884c\u3065\u3064\u5024\u3092\u968e\u7d1a\u306b\u5f53\u3066\u306f\u307e\u308b\u304b\u8abf\u3079\u307e\u3059\u3002"
     ]
    },
    {
     "cell_type": "code",
     "collapsed": false,
     "input": [
      "# \u5ea6\u6570\u5206\u5e03\u306e\u7d50\u679c\u3092\u4fdd\u6301\u3059\u308b\u30ea\u30b9\u30c8\u3092\u4f5c\u6210\u3059\u308b\u3002\n",
      "# \u30ea\u30b9\u30c8\u306e\u4e2d\u306b\u30ea\u30b9\u30c8\u3092\u4f5c\u308a\u3001\u884c\u5217\u3092\u8868\u73fe\u3057\u3066\u3044\u308b\u3002\n",
      "\n",
      "exam2_results = [[\"10000\",0],\n",
      "                                [\"12000\",0],\n",
      "                                [\"14000\",0],\n",
      "                                [\"16000\",0],\n",
      "                                [\"18000\",0],\n",
      "                                [\"20000\",0],\n",
      "                                [\"30000\",0]]\n",
      "\n",
      "#  \u968e\u7d1a\u306e\u7bc4\u56f2\u306b\u3057\u305f\u304c\u3063\u3066\u5ea6\u6570\u5206\u5e03\u3092\u6c42\u3081\u307e\u3059\u3002\n",
      "\n",
      "for row in exam1_results:\n",
      "    density = row[1]\n",
      "    if density > 0 and  density <= 10000:\n",
      "        exam2_results[0][1] += 1\n",
      "    elif density > 10001 and  density <=  12000:\n",
      "        exam2_results[1][1] += 1\n",
      "    elif density > 12001 and  density <=  14000:\n",
      "        exam2_results[2][1] += 1\n",
      "    elif density > 14001 and  density <=  16000:\n",
      "        exam2_results[3][1] += 1\n",
      "    elif density > 16001 and  density <=  18000:\n",
      "        exam2_results[4][1] += 1\n",
      "    elif density > 18001 and  density <=  20000:\n",
      "        exam2_results[5][1] += 1\n",
      "    else:\n",
      "        exam2_results[6][1] += 1\n",
      "        \n",
      "# \u96c6\u8a08\u3057\u305f\u30ea\u30b9\u30c8\u3092\u8868\u793a\u3059\u308b\u3068\u3053\u3046\u306a\u308a\u307e\u3059\u3002\n",
      "print(exam2_results)"
     ],
     "language": "python",
     "metadata": {},
     "outputs": [
      {
       "output_type": "stream",
       "stream": "stdout",
       "text": [
        "[['10000', 3], ['12000', 4], ['14000', 3], ['16000', 2], ['18000', 5], ['20000', 3], ['30000', 2]]\n"
       ]
      }
     ],
     "prompt_number": 6
    },
    {
     "cell_type": "code",
     "collapsed": false,
     "input": [
      "# \u6700\u5f8c\u306b\u89e3\u7b54\u4f8b\u3068\u540c\u3058\u3088\u3046\u306a\u51fa\u529b\u3092\u3057\u307e\u3059\u3002\n",
      "\n",
      "for row in exam2_results:\n",
      "    print(row[0] + \",\" + str(row[1]))"
     ],
     "language": "python",
     "metadata": {},
     "outputs": [
      {
       "output_type": "stream",
       "stream": "stdout",
       "text": [
        "10000,3\n",
        "12000,4\n",
        "14000,3\n",
        "16000,2\n",
        "18000,5\n",
        "20000,3\n",
        "30000,2\n"
       ]
      }
     ],
     "prompt_number": 7
    },
    {
     "cell_type": "markdown",
     "metadata": {},
     "source": [
      "# \u8ab2\u984c3\n",
      "\n",
      "\u8ab2\u984c1\u3092CSV\u30d5\u30a1\u30a4\u30eb\u306e\u5f62\u5f0f\u306b\u66f8\u304d\u51fa\u3057\u3066\u304f\u3060\u3055\u3044\u3002\n",
      "\n",
      "CSV\u30d5\u30a1\u30a4\u30eb\u540d:result.csv"
     ]
    },
    {
     "cell_type": "markdown",
     "metadata": {},
     "source": [
      "#\u8ab2\u984c3 \u7b54\u3048\n",
      "\n",
      "\u8ab2\u984c1\u306e\u7d50\u679c\u3092CSV\u30d5\u30a1\u30a4\u30eb\u3078\u66f8\u304d\u51fa\u3057\u307e\u3059\u3002\n",
      "\n",
      "csv\u30d5\u30a1\u30a4\u30eb\u306e\u66f8\u304d\u51fa\u3057\u306f\u3001open\u95a2\u6570\u3067\u30d5\u30a1\u30a4\u30eb\u3092\u958b\u304d\u3001csv.writer\u3067CSV\u30d5\u30a1\u30a4\u30eb\u306e\u30d5\u30a9\u30fc\u30de\u30c3\u30c8\u3092\u8a2d\u5b9a\u3057\u3066\u66f8\u304d\u51fa\u3057\u307e\u3059\u3002  \n",
      "CSV\u30d5\u30a1\u30a4\u30eb\u306e\u6587\u5b57\u30b3\u30fc\u30c9\u306futf-8\u3092\u8a2d\u5b9a\u3057\u307e\u3057\u305f\u3002"
     ]
    },
    {
     "cell_type": "code",
     "collapsed": false,
     "input": [
      "# \u8ab2\u984c1\u306e\u30c7\u30fc\u30bf\u3092\u4f5c\u6210\u3059\u308b\n",
      "exam1_results = []\n",
      "\n",
      "with open(\"./exam/csv/exam_data.csv\", encoding=\"utf-8\") as fobj:\n",
      "    csv_reader = csv.reader(fobj)\n",
      "    for row in csv_reader:\n",
      "        calc_result = float(row[1])/float(row[2])\n",
      "        exam1_results.append([row[0],round(calc_result,1)])\n",
      "        \n",
      "print(exam1_results)"
     ],
     "language": "python",
     "metadata": {},
     "outputs": [
      {
       "output_type": "stream",
       "stream": "stdout",
       "text": [
        "[['\u845b\u98fe\u533a', 12721.6], ['\u6c5f\u6238\u5ddd\u533a', 13644.8], ['\u6c5f\u6771\u533a', 11537.8], ['\u6e2f\u533a', 10085.1], ['\u65b0\u5bbf\u533a', 17899.6], ['\u6749\u4e26\u533a', 16154.3], ['\u4e16\u7530\u8c37\u533a', 15102.2], ['\u8db3\u7acb\u533a', 12846.4], ['\u5927\u7530\u533a', 11661.2], ['\u4e2d\u91ce\u533a', 20189.2], ['\u753a\u7530\u5e02', 5961.0], ['\u8abf\u5e03\u5e02', 10385.2], ['\u516b\u738b\u5b50\u5e02', 3113.4], ['\u677f\u6a4b\u533a', 16656.0], ['\u54c1\u5ddd\u533a', 16078.4], ['\u5e9c\u4e2d\u5e02', 8708.5], ['\u6587\u4eac\u533a', 18269.3], ['\u8c4a\u5cf6\u533a', 21881.5], ['\u5317\u533a', 16296.5], ['\u58a8\u7530\u533a', 18007.7], ['\u76ee\u9ed2\u533a', 18253.7], ['\u7df4\u99ac\u533a', 14869.7]]\n"
       ]
      }
     ],
     "prompt_number": 12
    },
    {
     "cell_type": "code",
     "collapsed": false,
     "input": [
      "# \u30d5\u30a1\u30a4\u30eb\u3092\u4fdd\u5b58\u3057\u307e\u3059\u3002\u30c6\u30ad\u30b9\u30c8+\u4e0a\u66f8\u304d\u30e2\u30fc\u30c9\u306a\u306e\u3067\u3001\"w\"\u306e\u307f\uff08\"wt\")\u6307\u5b9a\u3057\u307e\u3059\u3002\n",
      "\n",
      "with open(\"csv_exam3_result.csv\",\"w\", encoding=\"utf-8\") as fobj:\n",
      "    # csv.writer\u306e\u30c7\u30d5\u30a9\u30eb\u30c8\u5f15\u6570\u306fexcel\u3067\u6271\u3044\u6613\u3044\u30d5\u30a9\u30fc\u30de\u30c3\u30c8\u8a2d\u5b9a\u306a\u306e\u3067\u3001\u6307\u5b9a\u306a\u3057\u3067\u4f5c\u6210\n",
      "    csv_writer = csv.writer(fobj)\n",
      "    csv_writer.writerows(exam1_results)"
     ],
     "language": "python",
     "metadata": {},
     "outputs": [],
     "prompt_number": 11
    },
    {
     "cell_type": "code",
     "collapsed": false,
     "input": [
      "# \u30d5\u30a1\u30a4\u30eb\u3092ipython notebook\u3067\u8868\u793a\u3057\u307e\u3059\u3002\n",
      "%cat csv_exam3_result.csv"
     ],
     "language": "python",
     "metadata": {},
     "outputs": [
      {
       "output_type": "stream",
       "stream": "stdout",
       "text": [
        "\u845b\u98fe\u533a,12721.6\r",
        "\r\n",
        "\u6c5f\u6238\u5ddd\u533a,13644.8\r",
        "\r\n",
        "\u6c5f\u6771\u533a,11537.8\r",
        "\r\n",
        "\u6e2f\u533a,10085.1\r",
        "\r\n",
        "\u65b0\u5bbf\u533a,17899.6\r",
        "\r\n",
        "\u6749\u4e26\u533a,16154.3\r",
        "\r\n",
        "\u4e16\u7530\u8c37\u533a,15102.2\r",
        "\r\n",
        "\u8db3\u7acb\u533a,12846.4\r",
        "\r\n",
        "\u5927\u7530\u533a,11661.2\r",
        "\r\n",
        "\u4e2d\u91ce\u533a,20189.2\r",
        "\r\n",
        "\u753a\u7530\u5e02,5961.0\r",
        "\r\n",
        "\u8abf\u5e03\u5e02,10385.2\r",
        "\r\n",
        "\u516b\u738b\u5b50\u5e02,3113.4\r",
        "\r\n",
        "\u677f\u6a4b\u533a,16656.0\r",
        "\r\n",
        "\u54c1\u5ddd\u533a,16078.4\r",
        "\r\n",
        "\u5e9c\u4e2d\u5e02,8708.5\r",
        "\r\n",
        "\u6587\u4eac\u533a,18269.3\r",
        "\r\n",
        "\u8c4a\u5cf6\u533a,21881.5\r",
        "\r\n",
        "\u5317\u533a,16296.5\r",
        "\r\n",
        "\u58a8\u7530\u533a,18007.7\r",
        "\r\n",
        "\u76ee\u9ed2\u533a,18253.7\r",
        "\r\n",
        "\u7df4\u99ac\u533a,14869.7\r",
        "\r\n"
       ]
      }
     ],
     "prompt_number": 10
    }
   ],
   "metadata": {}
  }
 ]
}