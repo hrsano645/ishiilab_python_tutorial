{
 "metadata": {
  "kernelspec": {
   "display_name": "Python 3",
   "language": "python",
   "name": "python3"
  },
  "language_info": {
   "codemirror_mode": {
    "name": "ipython",
    "version": 3
   },
   "file_extension": ".py",
   "mimetype": "text/x-python",
   "name": "python",
   "nbconvert_exporter": "python",
   "pygments_lexer": "ipython3",
   "version": "3.4.3"
  },
  "name": "",
  "signature": "sha256:d8cd31b8c5c82621b10f046fcfbee2831fecb2ba19e6239d16252ff5fc8b3c83"
 },
 "nbformat": 3,
 "nbformat_minor": 0,
 "worksheets": [
  {
   "cells": [
    {
     "cell_type": "markdown",
     "metadata": {},
     "source": [
      "# \u6f14\u7fd2:CSV\u30e2\u30b8\u30e5\u30fc\u30eb\u3092\u4f7f\u3063\u3066\u30c7\u30fc\u30bf\u96c6\u8a08\n",
      "\n",
      "\u30b5\u30f3\u30d7\u30eb\u30c7\u30fc\u30bf\u3092\u4f7f\u3063\u3066\u30c7\u30fc\u30bf\u96c6\u8a08\u51e6\u7406\u3092\u5b9f\u88c5\u3057\u3066\u307f\u307e\u3059\u3002\n",
      "\n",
      "\u3053\u306e\u6f14\u7fd2\u4e2d\u306b\u597d\u304d\u306a\u30c7\u30fc\u30bf\u3092\u4f7f\u3063\u3066\u96c6\u8a08\u51e6\u7406\u3092\u3057\u3066\u3082\u3089\u3063\u3066\u69cb\u3044\u307e\u305b\u3093\u3002\n",
      "\n",
      "\n",
      "\n",
      "## \u8ab2\u984c\u306e\u30c7\u30fc\u30bf\u306b\u4ed8\u3044\u3066\n",
      "\n",
      "[\u653f\u5e9c\u7d71\u8a08\u306e\u7dcf\u5408\u7a93\u53e3 e-state](http://www.e-stat.go.jp/SG1/estat/eStatTopPortal.do)\u306b\u3042\u308b \u300c\u5e73\u621022\u5e74\u56fd\u52e2\u8abf\u67fb/\u4eba\u53e3\u7b49\u57fa\u672c\u96c6\u8a08\uff08\u7537\u5973\u30fb\u5e74\u9f62\u30fb\u914d\u5076\u95a2\u4fc2\uff0c\u4e16\u5e2f\u306e\u69cb\u6210\uff0c\u4f4f\u5c45\u306e\u72b6\u614b\u306a\u3069\uff09/\u5168\u56fd\u7d50\u679c\u300d\u3088\u308a\u3001\u8868\u756a\u53f7 3-1 \u300c\u5e74\u9f62(\u5404\u6b73)\uff0c\u7537\u5973\u5225\u4eba\u53e3\uff0c\u5e74\u9f62\u5225\u5272\u5408\uff0c\u5e73\u5747\u5e74\u9f62\u53ca\u3073\u5e74\u9f62\u4e2d\u4f4d\u6570(\u7dcf\u6570\u53ca\u3073\u65e5\u672c\u4eba)\uff0d\u5168\u56fd\u203b\uff0c\u5168\u56fd\u5e02\u90e8\u203b\uff0c\u5168\u56fd\u90e1\u90e8\u203b\uff0c\u90fd\u9053\u5e9c\u770c\uff0c20\u5927\u90fd\u5e02\u300d \u306e\u4e00\u90e8\u3092\u62bd\u51fa\u3057\u3066\u5229\u7528\u3057\u3066\u3044\u307e\u3059\u3002\n",
      "\n",
      "[\u7d71\u8a08\u8868\u4e00\u89a7\u3000\u653f\u5e9c\u7d71\u8a08\u306e\u7dcf\u5408\u7a93\u53e3\u3000GL08020103](http://www.e-stat.go.jp/SG1/estat/GL08020103.do?_toGL08020103_&tclassID=000001034991&cycleCode=0&requestSender=search)"
     ]
    },
    {
     "cell_type": "markdown",
     "metadata": {},
     "source": [
      "# CSV\u30e2\u30b8\u30e5\u30fc\u30eb\u3068\u306f\n",
      "\n",
      "CSV\u30d5\u30a1\u30a4\u30eb\u3092\u8aad\u307f\u8fbc\u3080/\u66f8\u304d\u51fa\u3059\u305f\u3081\u306e\u30e2\u30b8\u30e5\u30fc\u30eb\u3067\u3059\u3002\n",
      "\n",
      "[14.1. csv \u2014 CSV \u30d5\u30a1\u30a4\u30eb\u306e\u8aad\u307f\u66f8\u304d \u2014 Python 3.4.3 \u30c9\u30ad\u30e5\u30e1\u30f3\u30c8](http://docs.python.jp/3/library/csv.html)"
     ]
    },
    {
     "cell_type": "markdown",
     "metadata": {},
     "source": [
      "##CSV\u30e2\u30b8\u30e5\u30fc\u30eb\u306e\u30a4\u30f3\u30dd\u30fc\u30c8\n",
      "\n",
      "CSV\u30e2\u30b8\u30e5\u30fc\u30eb\u306fPython\u306e\u6a19\u6e96\u30e9\u30a4\u30d6\u30e9\u30ea\u306b\u540c\u68b1\u3055\u308c\u3066\u3044\u308b\u306e\u3067\u3001\u30a4\u30f3\u30dd\u30fc\u30c8\u3057\u3066\u5229\u7528\u3057\u307e\u3059\u3002"
     ]
    },
    {
     "cell_type": "code",
     "collapsed": false,
     "input": [
      "import csv"
     ],
     "language": "python",
     "metadata": {},
     "outputs": [],
     "prompt_number": 1
    },
    {
     "cell_type": "markdown",
     "metadata": {},
     "source": [
      "##CSV\u30d5\u30a1\u30a4\u30eb\u306e\u8aad\u307f\u8fbc\u307f\n",
      "\n",
      "CSV\u30d5\u30a1\u30a4\u30eb\u306e\u8aad\u307f\u8fbc\u307f\u306f\u3001Python\u306e\u7d44\u307f\u8fbc\u307f\u95a2\u6570\u306b\u3042\u308bopen\u95a2\u6570\u3092\u4f7f\u3044\u30d5\u30a1\u30a4\u30eb\u3092\u958b\u3044\u305f\u4e0a\u3067\u3001csv.reader\u306b\u30bb\u30c3\u30c8\u3057\u307e\u3059\u3002\n",
      "\n",
      "\u30bb\u30c3\u30c8\u3057\u305f\u5f8c\u306f\u3001\u30ea\u30b9\u30c8\u5f62\u5f0f\u3068\u540c\u3058\u3088\u3046\u306b\u5229\u7528\u3067\u304d\u307e\u3059\u304c\u3001\u30d5\u30a1\u30a4\u30eb\u3092\u958b\u3044\u3066\u3044\u308b\u72b6\u614b\u306a\u306e\u3067\u3001\u30ea\u30b9\u30c8\u5f62\u5f0f\u306b\u30b3\u30d4\u30fc\u3057\u307e\u3059\u3002\n",
      "\n",
      "### \u30d2\u30f3\u30c8\n",
      "\n",
      "CSV\u30e2\u30b8\u30e5\u30fc\u30eb\u306fPython\u516c\u5f0f\u30c9\u30ad\u30e5\u30e1\u30f3\u30c8\u3088\u308a\u4f7f\u3044\u65b9\u3092\u5b66\u3076\u3053\u3068\u304c\u51fa\u6765\u307e\u3059\u3002\n",
      "\n",
      "[14.1. csv \u2014 CSV \u30d5\u30a1\u30a4\u30eb\u306e\u8aad\u307f\u66f8\u304d \u2014 Python 3.4.3 \u30c9\u30ad\u30e5\u30e1\u30f3\u30c8](http://docs.python.jp/3/library/csv.html)"
     ]
    },
    {
     "cell_type": "markdown",
     "metadata": {},
     "source": [
      "# \u6f14\u984c1\n",
      "\n",
      "\u4ee5\u4e0b\u306e\u7d50\u679c\u304c\u5e30\u3063\u3066\u304f\u308b\u3088\u3046\u306a\u51e6\u7406\u3092\u4f5c\u6210\u3057\u3066\u4e0b\u3055\u3044\u3002\n",
      "(\u95a2\u6570\u3092\u4f7f\u3063\u3066\u547c\u3073\u51fa\u3057\u3066\u3082\u826f\u3044\u3057\u3001\u30bb\u30eb\u306e\u4e2d\u3067\u5b8c\u7d50\u3057\u3066\u3082\u69cb\u3044\u307e\u305b\u3093\uff09\n",
      "\n",
      "\n",
      "\u4ee5\u4e0b\u306e\u30c7\u30fc\u30bf\u304c\u3042\u308a\u307e\u3059\u3002\u5217\u540d\u306f\u2192\u304b\u3089\u533a\u540d\u3001\u4eba\u53e3\u3001\u9762\u7a4d\uff08km2\uff09\u3068\u306a\u308a\u307e\u3059\n",
      "\u533a\u540d\u3054\u3068\u306e\u4eba\u53e3\u3068\u9762\u7a4d\uff08km2\uff09\u3092\u4f7f\u3063\u30661km2\u5f53\u305f\u308a\u306e\u4eba\u53e3\u5bc6\u5ea6\u3092\u6c42\u3081\u3066\u4e0b\u3055\u3044\u3002\n",
      "\n",
      "```\n",
      "\u845b\u98fe\u533a,442586,34.79\n",
      "\u6c5f\u6238\u5ddd\u533a,678967,49.76\n",
      "\u6c5f\u6771\u533a,460819,39.94\n",
      "\u6e2f\u533a,205131,20.34\n",
      "\u65b0\u5bbf\u533a,326309,18.23\n",
      "\u6749\u4e26\u533a,549569,34.02\n",
      "\u4e16\u7530\u8c37\u533a,877138,58.08\n",
      "\u8db3\u7acb\u533a,683426,53.2\n",
      "\u5927\u7530\u533a,693373,59.46\n",
      "\u4e2d\u91ce\u533a,314750,15.59\n",
      "\u753a\u7530\u5e02,426987,71.63\n",
      "\u8abf\u5e03\u5e02,223593,21.53\n",
      "\u516b\u738b\u5b50\u5e02,580053,186.31\n",
      "\u677f\u6a4b\u533a,535824,32.17\n",
      "\u54c1\u5ddd\u533a,365302,22.72\n",
      "\u5e9c\u4e2d\u5e02,255506,29.34\n",
      "\u6587\u4eac\u533a,206626,11.31\n",
      "\u8c4a\u5cf6\u533a,284678,13.01\n",
      "\u5317\u533a,335544,20.59\n",
      "\u58a8\u7530\u533a,247606,13.75\n",
      "\u76ee\u9ed2\u533a,268330,14.7\n",
      "\u7df4\u99ac\u533a,716124,48.16\n",
      "```\n",
      "\n",
      "\u3053\u308c\u3068\u540c\u3058\u30d5\u30a1\u30a4\u30eb\u306f\u3001 `./exam/csv/exam_data.csv` \u3068\u3044\u3046\u540d\u524d\u3067\u3059\u3002\n",
      "\n",
      "## \u7d50\u679c\u4f8b\n",
      "\n",
      "```\n",
      "\u845b\u98fe\u533a,12721.6\n",
      "\u6c5f\u6238\u5ddd\u533a,13644.8\n",
      "\u6c5f\u6771\u533a,11537.8\n",
      "\u6e2f\u533a,10085.1\n",
      "\u65b0\u5bbf\u533a,17899.6\n",
      "\u6749\u4e26\u533a,16154.3\n",
      "\u4e16\u7530\u8c37\u533a,15102.2\n",
      "\u8db3\u7acb\u533a,12846.4\n",
      "\u5927\u7530\u533a,11661.2\n",
      "\u4e2d\u91ce\u533a,20189.2\n",
      "\u753a\u7530\u5e02,5961\n",
      "\u8abf\u5e03\u5e02,10385.2\n",
      "\u516b\u738b\u5b50\u5e02,3113.4\n",
      "\u677f\u6a4b\u533a,16656\n",
      "\u54c1\u5ddd\u533a,16078.4\n",
      "\u5e9c\u4e2d\u5e02,8708.5\n",
      "\u6587\u4eac\u533a,18269.3\n",
      "\u8c4a\u5cf6\u533a,21881.5\n",
      "\u5317\u533a,16296.5\n",
      "\u58a8\u7530\u533a,18007.7\n",
      "\u76ee\u9ed2\u533a,18253.7\n",
      "\u7df4\u99ac\u533a,14869.7\n",
      "\n",
      "\n",
      "```"
     ]
    },
    {
     "cell_type": "code",
     "collapsed": true,
     "input": [],
     "language": "python",
     "metadata": {},
     "outputs": [],
     "prompt_number": null
    },
    {
     "cell_type": "markdown",
     "metadata": {},
     "source": [
      "# \u6f14\u984c2\n",
      "\n",
      "\u4ee5\u4e0b\u306e\u7d50\u679c\u304c\u5e30\u3063\u3066\u304f\u308b\u3088\u3046\u306a\u51e6\u7406\u3092\u4f5c\u6210\u3057\u3066\u4e0b\u3055\u3044\u3002\n",
      "(\u95a2\u6570\u3092\u4f7f\u3063\u3066\u547c\u3073\u51fa\u3057\u3066\u3082\u826f\u3044\u3057\u3001\u30bb\u30eb\u306e\u4e2d\u3067\u5b8c\u7d50\u3057\u3066\u3082\u69cb\u3044\u307e\u305b\u3093\uff09\n",
      "\n",
      "\u6f14\u984c1\u3068\u4ee5\u4e0b\u306e\u968e\u7d1a\u3092\u4f7f\u3063\u3066\u3001\u4eba\u53e3\u5bc6\u5ea6\u306e\u5ea6\u6570\u5206\u5e03\u3092\u4f5c\u3063\u3066\u4e0b\u3055\u3044\u3002\n",
      "\n",
      "```\n",
      "10000\n",
      "12000\n",
      "14000\n",
      "16000\n",
      "18000\n",
      "20000\n",
      "30000\n",
      "```\n",
      "\n",
      "\u5ea6\u6570\u5206\u5e03\u3068\u306f\u3001\u968e\u7d1a\u306b\u5c5e\u3059\u308b\u30c7\u30fc\u30bf\u306e\u51fa\u73fe\u6570\u3092\u6570\u3048\u3066\u968e\u7d1a\u3054\u3068\u306b\u96c6\u8a08\u3055\u308c\u305f\u30ea\u30b9\u30c8\u3067\u3059\n",
      "\n",
      "<a href=\"https://ja.wikipedia.org/wiki/%E5%BA%A6%E6%95%B0%E5%88%86%E5%B8%83\">\u5ea6\u6570\u5206\u5e03 - Wikipedia</a>\n",
      "\n",
      "\n",
      "## \u7d50\u679c\u4f8b\n",
      "\n",
      "```\n",
      "10000,3\n",
      "12000,4\n",
      "14000,3\n",
      "16000,2\n",
      "18000,5\n",
      "20000,3\n",
      "30000,2\n",
      "\n",
      "```"
     ]
    },
    {
     "cell_type": "code",
     "collapsed": true,
     "input": [],
     "language": "python",
     "metadata": {},
     "outputs": [],
     "prompt_number": null
    },
    {
     "cell_type": "markdown",
     "metadata": {},
     "source": [
      "# \u6f14\u984c3\n",
      "\n",
      "\u6f14\u984c1\u3092CSV\u30d5\u30a1\u30a4\u30eb\u306e\u5f62\u5f0f\u306b\u66f8\u304d\u51fa\u3057\u3066\u304f\u3060\u3055\u3044\u3002\n",
      "\n",
      "CSV\u30d5\u30a1\u30a4\u30eb\u540d:result.csv"
     ]
    },
    {
     "cell_type": "code",
     "collapsed": false,
     "input": [],
     "language": "python",
     "metadata": {},
     "outputs": []
    }
   ],
   "metadata": {}
  }
 ]
}