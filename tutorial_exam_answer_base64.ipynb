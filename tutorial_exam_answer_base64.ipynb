{
 "metadata": {
  "name": "",
  "signature": "sha256:1e8abb558050d5636284955fe085c771b267da112fc02fb26e19b00537e5d5c1"
 },
 "nbformat": 3,
 "nbformat_minor": 0,
 "worksheets": [
  {
   "cells": [
    {
     "cell_type": "markdown",
     "metadata": {},
     "source": [
      "# Base64\u30e2\u30b8\u30e5\u30fc\u30eb\u3067\u30c7\u30fc\u30bf\u306e\u30a8\u30f3\u30b3\u30fc\u30c9\u30fb\u30c7\u30b3\u30fc\u30c9\n",
      "\n",
      "Base64\u30e2\u30b8\u30e5\u30fc\u30eb\u306f\u3001\u30c7\u30fc\u30bf\u3092\u82f1\u6570\u5b57\u306e\u307f\u306e\u6587\u5b57\u5217\u306b\u7f6e\u304d\u63db\u3048\u308b\uff08\u7b26\u53f7\u5316/\u30a8\u30f3\u30b3\u30fc\u30c9\uff09\u3001\u30a8\u30f3\u30b3\u30fc\u30c9\u3057\u305fbase64\u306e\u6587\u5b57\u5217\u3092\u30c7\u30fc\u30bf\u306b\u5fa9\u5143\uff08\u5fa9\u53f7\u5316/\u30c7\u30b3\u30fc\u30c9\uff09\u3059\u308b\u30e2\u30b8\u30e5\u30fc\u30eb\u3067\u3059\u3002\n",
      "\n",
      "## \u53c2\u8003\n",
      "\n",
      "[19.6. base64 \u2014 Base16, Base32, Base64, Base85 Data Encodings \u2014 Python 3.4.3 \u30c9\u30ad\u30e5\u30e1\u30f3\u30c8](http://docs.python.jp/3/library/base64.html)\n",
      "\n",
      "[BASE64\u3068\u306f - \u610f\u5473/\u89e3\u8aac/\u8aac\u660e/\u5b9a\u7fa9 \uff1a IT\u7528\u8a9e\u8f9e\u5178](http://e-words.jp/w/BASE64.html)"
     ]
    },
    {
     "cell_type": "markdown",
     "metadata": {},
     "source": [
      "# \u8ab2\u984c1\n",
      "\n",
      "\u4ee5\u4e0b\u306e\u6587\u5b57\u5217\u3092base64\u30e2\u30b8\u30e5\u30fc\u30eb\u3092\u4f7f\u3063\u3066\u30a8\u30f3\u30b3\u30fc\u30c9\u3057\u3066\u4e0b\u3055\u3044\u3002\u307e\u305f\u3001\u5404\u81ea\u3067\u597d\u304d\u306a\u6587\u5b57\u5217\u3092\u30a8\u30f3\u30b3\u30fc\u30c9\u3001\u30c7\u30b3\u30fc\u30c9\u3057\u3066\u4e0b\u3055\u3044\u3002\n",
      "\n",
      "\u4f8b\u3068\u3057\u3066\u3001\u554f\u984c\u6587\u3092\u30a8\u30f3\u30b3\u30fc\u30c9\u3057\u305f\u7d50\u679c\u3092\u8f09\u305b\u3066\u304a\u304d\u307e\u3059\u3002base64\u3067\u30a8\u30f3\u30b3\u30fc\u30c9\u3055\u308c\u305f\u6587\u5b57\u5217\u306f\u3001utf-8\u306e\u6587\u5b57\u30b3\u30fc\u30c9\u3067\u30a8\u30f3\u30b3\u30fc\u30c9\u3055\u308c\u3066\u3044\u307e\u3059\u3002\n",
      "\n",
      "```\n",
      "\u4ee5\u4e0b\u306e\u6587\u5b57\u5217\u3092base64\u30e2\u30b8\u30e5\u30fc\u30eb\u3092\u4f7f\u3063\u3066\u30a8\u30f3\u30b3\u30fc\u30c9\u3057\u3066\u4e0b\u3055\u3044\u3002\u307e\u305f\u3001\u5404\u81ea\u3067\u81ea\u7531\u306b\u6587\u5b57\u5217\u3092\u30a8\u30f3\u30b3\u30fc\u30c9\u3001\u30c7\u30b3\u30fc\u30c9\u3057\u3066\u4e0b\u3055\u3044\u3002\n",
      "```\n",
      "\u2193\n",
      "```\n",
      "b'5Lul5LiL44Gu5paH5a2X5YiX44KSYmFzZTY044Oi44K444Ol44O844Or44KS5L2/44Gj44Gm44Ko44Oz44Kz44O844OJ44GX44Gm5LiL44GV44GE44CC44G+44Gf44CB5ZCE6Ieq44Gn6Ieq55Sx44Gr5paH5a2X5YiX44KS44Ko44Oz44Kz44O844OJ44CB44OH44Kz44O844OJ44GX44Gm5LiL44GV44GE44CC'\n",
      "```"
     ]
    },
    {
     "cell_type": "markdown",
     "metadata": {},
     "source": [
      "# \u8ab2\u984c1 \u7b54\u3048\n",
      "\n",
      "base64\u30e2\u30b8\u30e5\u30fc\u30eb\u3067Python\u306estr\u6587\u5b57\u5217\u3092\u30a8\u30f3\u30b3\u30fc\u30c9\u3057\u305f\u3044\u5834\u5408\u3001\u82f1\u6570\u5b57(ASCII\u6587\u5b57\u5217)\u4ee5\u5916\u306e\u6587\u5b57\u5217\u3092\u542b\u3080\u5834\u5408\u3001\u305d\u306estr\u6587\u5b57\u5217\u3092\u7279\u5b9a\u306e\u6587\u5b57\u30b3\u30fc\u30c9\u5411\u3051\u306b\u30c7\u30b3\u30fc\u30c9\u51e6\u7406\u3057\u3066\u304b\u3089base64\u30e2\u30b8\u30e5\u30fc\u30eb\u3092\u4f7f\u3046\u5fc5\u8981\u304c\u3042\u308a\u307e\u3059\u3002\n",
      "\n",
      "\u9006\u306b\u3001base64\u3067\u30a8\u30f3\u30b3\u30fc\u30c9\u3055\u308c\u305f\u6587\u5b57\u5217\u3092str\u6587\u5b57\u5217\u306b\u3059\u308b\u5834\u5408\u3001base64\u3067\u30c7\u30b3\u30fc\u30c9\u3055\u308c\u305f\u6587\u5b57\u5217\u306e\u5143\u306e\u6587\u5b57\u30b3\u30fc\u30c9\u304c\u5fc5\u8981\u306b\u306a\u308a\u307e\u3059\u3002"
     ]
    },
    {
     "cell_type": "code",
     "collapsed": false,
     "input": [
      "import base64"
     ],
     "language": "python",
     "metadata": {},
     "outputs": [],
     "prompt_number": 1
    },
    {
     "cell_type": "code",
     "collapsed": false,
     "input": [
      "# \u554f\u984c\u6587\u306e\u6587\u5b57\u5217\u3092\u5909\u6570\u306b\u30bb\u30c3\u30c8\n",
      "\n",
      "\n",
      "exam1_str = \"\u4ee5\u4e0b\u306e\u6587\u5b57\u5217\u3092base64\u30e2\u30b8\u30e5\u30fc\u30eb\u3092\u4f7f\u3063\u3066\u30a8\u30f3\u30b3\u30fc\u30c9\u3057\u3066\u4e0b\u3055\u3044\u3002\u307e\u305f\u3001\u5404\u81ea\u3067\u81ea\u7531\u306b\u6587\u5b57\u5217\u3092\u30a8\u30f3\u30b3\u30fc\u30c9\u3001\u30c7\u30b3\u30fc\u30c9\u3057\u3066\u4e0b\u3055\u3044\u3002\"\n",
      "print(\"exam1_str = {}\".format(exam1_str))\n",
      "\n",
      "# exam1_str\u306fpython\u5185\u3067\u6271\u3046\u305f\u3081\u306estr\u6587\u5b57\u5217\u3002\n",
      "# base64\u30e2\u30b8\u30e5\u30fc\u30eb\u306fbyte\u6587\u5b57\u5217\u3057\u304b\u6271\u3048\u306a\u3044\u306e\u3067\u3001str\u6587\u5b57\u5217\u3092python\u306eutf-8\u306b\u30a8\u30f3\u30b3\u30fc\u30c9\u3057\u305f\u5f8c\u306bbase64\u3067\u30a8\u30f3\u30b3\u30fc\u30c9\u3057\u307e\u3059\u3002\n",
      "exam1_encode_utf8 = exam1_str.encode(\"utf-8\")\n",
      "print(\"exam1_encode_utf8 = {}\".format(exam1_encode_utf8))\n",
      "\n",
      "print(\"\\n\")\n",
      "\n",
      "import base64\n",
      "exam1_encode_b64_utf8str = base64.b64encode(exam1_encode_utf8)\n",
      "print(\"exam1_encode_b64_utf8str = {}\".format(exam1_encode_b64_utf8str))"
     ],
     "language": "python",
     "metadata": {},
     "outputs": [
      {
       "output_type": "stream",
       "stream": "stdout",
       "text": [
        "exam1_str = \u4ee5\u4e0b\u306e\u6587\u5b57\u5217\u3092base64\u30e2\u30b8\u30e5\u30fc\u30eb\u3092\u4f7f\u3063\u3066\u30a8\u30f3\u30b3\u30fc\u30c9\u3057\u3066\u4e0b\u3055\u3044\u3002\u307e\u305f\u3001\u5404\u81ea\u3067\u81ea\u7531\u306b\u6587\u5b57\u5217\u3092\u30a8\u30f3\u30b3\u30fc\u30c9\u3001\u30c7\u30b3\u30fc\u30c9\u3057\u3066\u4e0b\u3055\u3044\u3002\n",
        "exam1_encode_utf8 = b'\\xe4\\xbb\\xa5\\xe4\\xb8\\x8b\\xe3\\x81\\xae\\xe6\\x96\\x87\\xe5\\xad\\x97\\xe5\\x88\\x97\\xe3\\x82\\x92base64\\xe3\\x83\\xa2\\xe3\\x82\\xb8\\xe3\\x83\\xa5\\xe3\\x83\\xbc\\xe3\\x83\\xab\\xe3\\x82\\x92\\xe4\\xbd\\xbf\\xe3\\x81\\xa3\\xe3\\x81\\xa6\\xe3\\x82\\xa8\\xe3\\x83\\xb3\\xe3\\x82\\xb3\\xe3\\x83\\xbc\\xe3\\x83\\x89\\xe3\\x81\\x97\\xe3\\x81\\xa6\\xe4\\xb8\\x8b\\xe3\\x81\\x95\\xe3\\x81\\x84\\xe3\\x80\\x82\\xe3\\x81\\xbe\\xe3\\x81\\x9f\\xe3\\x80\\x81\\xe5\\x90\\x84\\xe8\\x87\\xaa\\xe3\\x81\\xa7\\xe8\\x87\\xaa\\xe7\\x94\\xb1\\xe3\\x81\\xab\\xe6\\x96\\x87\\xe5\\xad\\x97\\xe5\\x88\\x97\\xe3\\x82\\x92\\xe3\\x82\\xa8\\xe3\\x83\\xb3\\xe3\\x82\\xb3\\xe3\\x83\\xbc\\xe3\\x83\\x89\\xe3\\x80\\x81\\xe3\\x83\\x87\\xe3\\x82\\xb3\\xe3\\x83\\xbc\\xe3\\x83\\x89\\xe3\\x81\\x97\\xe3\\x81\\xa6\\xe4\\xb8\\x8b\\xe3\\x81\\x95\\xe3\\x81\\x84\\xe3\\x80\\x82'\n",
        "\n",
        "\n",
        "exam1_encode_b64_utf8str = b'5Lul5LiL44Gu5paH5a2X5YiX44KSYmFzZTY044Oi44K444Ol44O844Or44KS5L2/44Gj44Gm44Ko44Oz44Kz44O844OJ44GX44Gm5LiL44GV44GE44CC44G+44Gf44CB5ZCE6Ieq44Gn6Ieq55Sx44Gr5paH5a2X5YiX44KS44Ko44Oz44Kz44O844OJ44CB44OH44Kz44O844OJ44GX44Gm5LiL44GV44GE44CC'\n"
       ]
      }
     ],
     "prompt_number": 2
    },
    {
     "cell_type": "code",
     "collapsed": false,
     "input": [
      "#  base64\u3067\u30a8\u30f3\u30b3\u30fc\u30c9\u3055\u308c\u305f\u6587\u5b57\u5217\u3092\u30c7\u30b3\u30fc\u30c9\u3057\u3066Python\u306estr\u6587\u5b57\u5217\u306b\u3059\u308b\n",
      "# \u4e0a\u306e\u30bb\u30eb\u3067\u5b9f\u884c\u3057\u305fexam1_encode_b64_utf8str \u3092\u4f7f\u3046\u3002\n",
      "\n",
      "decode_b64str = base64.b64decode(exam1_encode_b64_utf8str)\n",
      "print(\"decode_b64str = {}\".format(decode_b64str))\n",
      "\n",
      "decode_b64_utf8str = decode_b64str.decode(\"utf-8\")\n",
      "print(\"decode_b64_utf8str = {}\".format(decode_b64_utf8str))\n",
      "\n",
      "print(\"\\n\")\n",
      "\n",
      "# \u3053\u306e\u30b3\u30fc\u30c9\u306f\u3001base64\u3067\u30c7\u30b3\u30fc\u30c9\u3057\u305futf-8\u3067\u30a8\u30f3\u30b3\u30fc\u30c9\u3055\u308c\u305f\u6587\u5b57\u5217\u3092Python\u306estr\u6587\u5b57\u5217\u306b\u3059\u308b\u305f\u3081\u306e\u51e6\u7406\u3092\u3064\u306a\u3052\u3066\u884c\u3063\u3066\u308b\u3002\n",
      "decode_b64_oneliner = base64.b64decode(exam1_encode_b64_utf8str).decode(\"utf-8\")\n",
      "print(\"decode_b64_oneliner= {}\".format(decode_b64_oneliner))"
     ],
     "language": "python",
     "metadata": {},
     "outputs": [
      {
       "output_type": "stream",
       "stream": "stdout",
       "text": [
        "decode_b64str = b'\\xe4\\xbb\\xa5\\xe4\\xb8\\x8b\\xe3\\x81\\xae\\xe6\\x96\\x87\\xe5\\xad\\x97\\xe5\\x88\\x97\\xe3\\x82\\x92base64\\xe3\\x83\\xa2\\xe3\\x82\\xb8\\xe3\\x83\\xa5\\xe3\\x83\\xbc\\xe3\\x83\\xab\\xe3\\x82\\x92\\xe4\\xbd\\xbf\\xe3\\x81\\xa3\\xe3\\x81\\xa6\\xe3\\x82\\xa8\\xe3\\x83\\xb3\\xe3\\x82\\xb3\\xe3\\x83\\xbc\\xe3\\x83\\x89\\xe3\\x81\\x97\\xe3\\x81\\xa6\\xe4\\xb8\\x8b\\xe3\\x81\\x95\\xe3\\x81\\x84\\xe3\\x80\\x82\\xe3\\x81\\xbe\\xe3\\x81\\x9f\\xe3\\x80\\x81\\xe5\\x90\\x84\\xe8\\x87\\xaa\\xe3\\x81\\xa7\\xe8\\x87\\xaa\\xe7\\x94\\xb1\\xe3\\x81\\xab\\xe6\\x96\\x87\\xe5\\xad\\x97\\xe5\\x88\\x97\\xe3\\x82\\x92\\xe3\\x82\\xa8\\xe3\\x83\\xb3\\xe3\\x82\\xb3\\xe3\\x83\\xbc\\xe3\\x83\\x89\\xe3\\x80\\x81\\xe3\\x83\\x87\\xe3\\x82\\xb3\\xe3\\x83\\xbc\\xe3\\x83\\x89\\xe3\\x81\\x97\\xe3\\x81\\xa6\\xe4\\xb8\\x8b\\xe3\\x81\\x95\\xe3\\x81\\x84\\xe3\\x80\\x82'\n",
        "decode_b64_utf8str = \u4ee5\u4e0b\u306e\u6587\u5b57\u5217\u3092base64\u30e2\u30b8\u30e5\u30fc\u30eb\u3092\u4f7f\u3063\u3066\u30a8\u30f3\u30b3\u30fc\u30c9\u3057\u3066\u4e0b\u3055\u3044\u3002\u307e\u305f\u3001\u5404\u81ea\u3067\u81ea\u7531\u306b\u6587\u5b57\u5217\u3092\u30a8\u30f3\u30b3\u30fc\u30c9\u3001\u30c7\u30b3\u30fc\u30c9\u3057\u3066\u4e0b\u3055\u3044\u3002\n",
        "\n",
        "\n",
        "decode_b64_oneliner= \u4ee5\u4e0b\u306e\u6587\u5b57\u5217\u3092base64\u30e2\u30b8\u30e5\u30fc\u30eb\u3092\u4f7f\u3063\u3066\u30a8\u30f3\u30b3\u30fc\u30c9\u3057\u3066\u4e0b\u3055\u3044\u3002\u307e\u305f\u3001\u5404\u81ea\u3067\u81ea\u7531\u306b\u6587\u5b57\u5217\u3092\u30a8\u30f3\u30b3\u30fc\u30c9\u3001\u30c7\u30b3\u30fc\u30c9\u3057\u3066\u4e0b\u3055\u3044\u3002\n"
       ]
      }
     ],
     "prompt_number": 3
    },
    {
     "cell_type": "markdown",
     "metadata": {},
     "source": [
      "# \u8ab2\u984c2\n",
      "\n",
      "\u4ee5\u4e0b\u306e\u6587\u5b57\u5217\u306fjpeg\u30d5\u30a1\u30a4\u30eb\u3067\u3059\u3002\u30c7\u30b3\u30fc\u30c9\u3057\u3066jpg\u30d5\u30a1\u30a4\u30eb\u3068\u3057\u3066\u4fdd\u5b58\u3057\u3066\u4e0b\u3055\u3044\u3002\u753b\u50cf\u3092\u958b\u304f\u3053\u3068\u304c\u53ef\u80fd\u304b\u3082\u78ba\u8a8d\u3057\u3066\u4e0b\u3055\u3044\u3002\n",
      "\n",
      "```\n",
      "b'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'\n",
      "\n",
      "```\n"
     ]
    },
    {
     "cell_type": "markdown",
     "metadata": {},
     "source": [
      "# \u8ab2\u984c2 \u7b54\u3048\n",
      "\n",
      "\u554f\u984c\u6587\u306bjpeg\u306e\u753b\u50cf\u3067\u3042\u308ajpg\u30d5\u30a1\u30a4\u30eb\u3067\u4fdd\u5b58\u3059\u308b\u3068\u3055\u308c\u3066\u3044\u308b\u3002\n",
      "\n",
      "\u307e\u305ajpeg\u5f62\u5f0f\u3089\u3057\u3044base64\u306e\u6587\u5b57\u5217\u3092\u30c7\u30b3\u30fc\u30c9\u3059\u308b\u3002\u305d\u306e\u5f8copen\u95a2\u6570\u3092\u4f7f\u3063\u3066\u30d5\u30a1\u30a4\u30eb\u3068\u3057\u3066\u4fdd\u5b58\u3057\u307e\u3059\u3002"
     ]
    },
    {
     "cell_type": "code",
     "collapsed": false,
     "input": [
      "# base64\u30e2\u30b8\u30e5\u30fc\u30eb\u3067\u554f\u984c\u6587\u306ebase64\u6587\u5b57\u5217\u3092\u30c7\u30b3\u30fc\u30c9\u3059\u308b\u3002\n",
      "\n",
      "b64_jpg_str = b'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'\n",
      "\n",
      "decoded_jpg_str = base64.b64decode(b64_jpg_str)\n",
      "\n",
      "# \u9577\u3044\u306e\u3067\u6570\u6587\u5b57\u307e\u3067\u306e\u51fa\u529b\u306b\u3057\u3066\u3044\u307e\u3059\u3002\u4e2d\u8eab\u306f\u30d0\u30a4\u30ca\u30ea\u30c7\u30fc\u30bf\u3067\u3059\u3002\n",
      "print(\"decoded_jpg_str = {}\".format(decoded_jpg_str[:200]))\n"
     ],
     "language": "python",
     "metadata": {},
     "outputs": [
      {
       "output_type": "stream",
       "stream": "stdout",
       "text": [
        "decoded_jpg_str = b'\\xff\\xd8\\xff\\xe0\\x00\\x10JFIF\\x00\\x01\\x01\\x01\\x00H\\x00H\\x00\\x00\\xff\\xe1\\x00\\xaaExif\\x00\\x00MM\\x00*\\x00\\x00\\x00\\x08\\x00\\x05\\x01\\x12\\x00\\x03\\x00\\x00\\x00\\x01\\x00\\x01\\x00\\x00\\x01\\x1a\\x00\\x05\\x00\\x00\\x00\\x01\\x00\\x00\\x00J\\x01\\x1b\\x00\\x05\\x00\\x00\\x00\\x01\\x00\\x00\\x00R\\x011\\x00\\x02\\x00\\x00\\x00\\x1d\\x00\\x00\\x00Z\\x87i\\x00\\x04\\x00\\x00\\x00\\x01\\x00\\x00\\x00x\\x00\\x00\\x00\\x00\\x00\\x00\\x00G\\x00\\x00\\x00\\x01\\x00\\x00\\x00G\\x00\\x00\\x00\\x01Macromedia Fireworks MX 2004\\x00\\x00\\x00\\x03\\xa0\\x01\\x00\\x03\\x00\\x00\\x00\\x01\\x00\\x01\\x00\\x00\\xa0\\x02\\x00\\x04\\x00\\x00\\x00\\x01\\x00\\x00\\x00 \\xa0\\x03\\x00\\x04\\x00\\x00\\x00\\x01\\x00\\x00\\x00 \\x00\\x00\\x00\\x00\\xff\\xed\\x008Phot'\n"
       ]
      }
     ],
     "prompt_number": 4
    },
    {
     "cell_type": "markdown",
     "metadata": {},
     "source": [
      "\u30d5\u30a1\u30a4\u30eb\u306b\u66f8\u304d\u51fa\u3059\u5834\u5408\u306f\u3001open\u95a2\u6570\u3092\u4f7f\u3044\u3001\u4e0a\u66f8\u304d+\u30d0\u30a4\u30ca\u30ea\u30e2\u30fc\u30c9(\"wb\")\u3092\u5229\u7528\u3057\u307e\u3059\u3002"
     ]
    },
    {
     "cell_type": "code",
     "collapsed": false,
     "input": [
      "with open(\"base64_exam2_answer.jpg\",\"wb\") as fobj:\n",
      "    fobj.write(decoded_jpg_str)"
     ],
     "language": "python",
     "metadata": {},
     "outputs": [],
     "prompt_number": 5
    },
    {
     "cell_type": "markdown",
     "metadata": {},
     "source": [
      "\u53c2\u8003\u306bipython notebook\u3067\u7b54\u3048\u3092\u8868\u793a\u3057\u307e\u3059\u3002\u5b9f\u969b\u306b\u30d5\u30a1\u30a4\u30eb\u3068\u3057\u3066\u958b\u304f\u3053\u3068\u3082\u53ef\u80fd\u306a\u306f\u305a\u3067\u3059\u3002"
     ]
    },
    {
     "cell_type": "markdown",
     "metadata": {},
     "source": [
      "\u7b54\u3048:base64_exam2_answer.jpg\n",
      "\n",
      "![Image of base64_exam2_answer](base64_exam2_answer.jpg)\n",
      "\n",
      "\u3061\u306a\u307f\u306b\u3053\u306e\u753b\u50cf\u306fpython\u306e\u30ed\u30b4\u3067\u3059\u3002\u4ee5\u4e0b\u306eURL\u304b\u3089\u753b\u50cf\u306e\u30ea\u30b5\u30a4\u30ba\u3068\u5207\u308a\u51fa\u3057\u3001\u30d5\u30a1\u30a4\u30eb\u5f62\u5f0f\u306e\u5909\u63db\u3092\u884c\u3063\u305f\u3082\u306e\u3092\u554f\u984c\u306e\u30d5\u30a1\u30a4\u30eb\u3068\u3057\u3066\u3044\u307e\u3059\u3002\n",
      "\n",
      "[The Python Logo | Python.org](https://www.python.org/community/logos/)"
     ]
    }
   ],
   "metadata": {}
  }
 ]
}