{
 "metadata": {
  "name": "",
  "signature": "sha256:23e0dfae4d59ea31a335db7c937cf72c496468ded7e8ba569120b28b2e0cde86"
 },
 "nbformat": 3,
 "nbformat_minor": 0,
 "worksheets": [
  {
   "cells": [
    {
     "cell_type": "markdown",
     "metadata": {},
     "source": [
      "# Base64\u30e2\u30b8\u30e5\u30fc\u30eb\u3067\u30c7\u30fc\u30bf\u306e\u30a8\u30f3\u30b3\u30fc\u30c9\u30fb\u30c7\u30b3\u30fc\u30c9\n",
      "\n",
      "Base64\u30e2\u30b8\u30e5\u30fc\u30eb\u306f\u3001\u30c7\u30fc\u30bf\u3092\u82f1\u6570\u5b57\u306e\u307f\u306e\u6587\u5b57\u5217\u306b\u7f6e\u304d\u63db\u3048\u308b\uff08\u7b26\u53f7\u5316/\u30a8\u30f3\u30b3\u30fc\u30c9\uff09\u3001\u30a8\u30f3\u30b3\u30fc\u30c9\u3057\u305fbase64\u306e\u6587\u5b57\u5217\u3092\u30c7\u30fc\u30bf\u306b\u5fa9\u5143\uff08\u5fa9\u53f7\u5316/\u30c7\u30b3\u30fc\u30c9\uff09\u3059\u308b\u30e2\u30b8\u30e5\u30fc\u30eb\u3067\u3059\u3002\n",
      "\n",
      "## \u53c2\u8003\n",
      "\n",
      "[19.6. base64 \u2014 Base16, Base32, Base64, Base85 Data Encodings \u2014 Python 3.4.3 \u30c9\u30ad\u30e5\u30e1\u30f3\u30c8](http://docs.python.jp/3/library/base64.html)\n",
      "\n",
      "[BASE64\u3068\u306f - \u610f\u5473/\u89e3\u8aac/\u8aac\u660e/\u5b9a\u7fa9 \uff1a IT\u7528\u8a9e\u8f9e\u5178](http://e-words.jp/w/BASE64.html)"
     ]
    },
    {
     "cell_type": "markdown",
     "metadata": {},
     "source": [
      "# \u8ab2\u984c1\n",
      "\n",
      "\u4ee5\u4e0b\u306e\u6587\u5b57\u5217\u3092base64\u30e2\u30b8\u30e5\u30fc\u30eb\u3092\u4f7f\u3063\u3066\u30a8\u30f3\u30b3\u30fc\u30c9\u3057\u3066\u4e0b\u3055\u3044\u3002\u307e\u305f\u3001\u5404\u81ea\u3067\u597d\u304d\u306a\u6587\u5b57\u5217\u3092\u30a8\u30f3\u30b3\u30fc\u30c9\u3001\u30c7\u30b3\u30fc\u30c9\u3057\u3066\u4e0b\u3055\u3044\u3002\n",
      "\n",
      "\u4f8b\u3068\u3057\u3066\u3001\u554f\u984c\u6587\u3092\u30a8\u30f3\u30b3\u30fc\u30c9\u3057\u305f\u7d50\u679c\u3092\u8f09\u305b\u3066\u304a\u304d\u307e\u3059\u3002\n",
      "\n",
      "```\n",
      "\u4ee5\u4e0b\u306e\u6587\u5b57\u5217\u3092base64\u30e2\u30b8\u30e5\u30fc\u30eb\u3092\u4f7f\u3063\u3066\u30a8\u30f3\u30b3\u30fc\u30c9\u3057\u3066\u4e0b\u3055\u3044\u3002\u307e\u305f\u3001\u5404\u81ea\u3067\u81ea\u7531\u306b\u6587\u5b57\u5217\u3092\u30a8\u30f3\u30b3\u30fc\u30c9\u3001\u30c7\u30b3\u30fc\u30c9\u3057\u3066\u4e0b\u3055\u3044\u3002\n",
      "```\n",
      "\u2193\n",
      "```\n",
      "b'5Lul5LiL44Gu5paH5a2X5YiX44KSYmFzZTY044Oi44K444Ol44O844Or44KS5L2/44Gj44Gm44Ko44Oz44Kz44O844OJ44GX44Gm5LiL44GV44GE44CC44G+44Gf44CB5ZCE6Ieq44Gn6Ieq55Sx44Gr5paH5a2X5YiX44KS44Ko44Oz44Kz44O844OJ44CB44OH44Kz44O844OJ44GX44Gm5LiL44GV44GE44CC'\n",
      "```\n",
      "\n",
      "## \u30d2\u30f3\u30c8: Python\u3067\u6271\u3046\u6587\u5b57\u5217\u306b\u3064\u3044\u3066\n",
      "\n",
      "**base64\u30e2\u30b8\u30e5\u30fc\u30eb\u3067\u306f\u30d0\u30a4\u30c8\u6587\u5b57\u5217\u306e\u5165\u51fa\u529b\u304c\u5fc5\u8981\u306a\u305f\u3081\u3001Python\u306e\u6587\u5b57\u5217\u3092\u6271\u3044\u305f\u3044\u5834\u5408\u3001\u6587\u5b57\u30b3\u30fc\u30c9\u3092\u6307\u5b9a\u3057\u3066byte\u6587\u5b57\u5217\u306b\u5909\u63db\u3059\u308b\u5fc5\u8981\u304c\u3042\u308a\u307e\u3059\u3002**\n",
      "\n",
      "\u6307\u5b9a\u3059\u308b\u6587\u5b57\u30b3\u30fc\u30c9\u306f\u5404\u8a00\u8a9e\u3067\u3088\u304f\u5229\u7528\u3055\u308c\u308b**UTF-8** \u3092\u5229\u7528\u304c\u304a\u52e7\u3081\u3067\u3059\u3002\n",
      "\n",
      "### \u30c6\u30ad\u30b9\u30c8\u30c7\u30fc\u30bf\u306e\u6587\u5b57\u30b3\u30fc\u30c9\u306b\u3064\u3044\u3066\n",
      "\n",
      "Python\u3067\u6271\u3048\u308b\u6587\u5b57\u5217\u306f\u3001unicode\u3092\u5229\u7528\u3057\u305f **str\u6587\u5b57\u5217** \u3068\u30d0\u30a4\u30ca\u30ea\u30c7\u30fc\u30bf\u3068\u3057\u3066\u5229\u7528\u3067\u304d\u308b**byte\u6587\u5b57\u5217** \u304c\u5b58\u5728\u3057\u307e\u3059\u3002\n",
      "\n",
      "- str\u6587\u5b57\u5217: \u5185\u90e8\u3067\u306funicode\u8868\u73fe\u3055\u308c\u3066\u3044\u3066\u3001\u4e16\u754c\u3067\u3088\u304f\u4f7f\u308f\u308c\u308b\u8a00\u8a9e\u306e\u6587\u5b57\u3092\u30ab\u30d0\u30fc\u3057\u3066\u3044\u307e\u3059\u3002\n",
      "- byte\u6587\u5b57\u5217: \u30d0\u30a4\u30ca\u30ea\u30c7\u30fc\u30bf\u3092\u6587\u5b57\u5217\u3068\u3057\u3066\u8868\u73fe\u3057\u3066\u3044\u307e\u3059\u3002\u82f1\u6570\u5b57\u3068\u4e00\u90e8\u306e\u8a18\u53f7\u3092\u5408\u308f\u305b\u3066255\u6587\u5b57\u3067\u69cb\u6210\u3055\u308c\u308bascii\u3068ascii\u306b\u5bfe\u5fdc\u3057\u305f16\u9032\u6570(\\x00~\\xff)\u3092\u5229\u7528\u3057\u3066\u3001\u30d0\u30a4\u30ca\u30ea\u30c7\u30fc\u30bf\u3092\u8868\u73fe\u3057\u3066\u3044\u307e\u3059\u3002\n",
      "\n",
      "str\u6587\u5b57\u5217\u306e\u8868\u73fe\u306f\u3001\u30b7\u30f3\u30b0\u30eb, \u30c0\u30d6\u30eb\u30af\u30aa\u30fc\u30c6\u30fc\u30b7\u30e7\u30f3\u3067\u304f\u304f\u308b\u3060\u3051\u3067\u3059\u3002byte\u6587\u5b57\u5217\u306f `b\"byte\u6587\u5b57\u5217\"` \u3068\u3044\u3046\u8868\u8a18\u3092\u5229\u7528\u3057\u307e\u3059\u3002\n",
      "\n",
      "(str/byte)\u6587\u5b57\u5217\u306b\u306fencode, decode\u30e1\u30bd\u30c3\u30c9\uff08\u6587\u5b57\u5217\u306b\u5099\u308f\u3063\u3066\u3044\u308b\u6a5f\u80fd\uff09\u304c\u3042\u308a\u307e\u3059\u3002\n",
      "\n",
      "- decode\u30e1\u30bd\u30c3\u30c9: UTF-8\u3084Shift-JIS, EUC-JP\u3068\u3044\u3063\u305f\u7279\u5b9a\u306e\u6587\u5b57\u30b3\u30fc\u30c9\u3067\u8868\u73fe\u3055\u308c\u3066\u3044\u308bbyte\u5217\u3092Python\u306estr\u6587\u5b57\u5217\u3068\u3057\u3066\u6271\u3044\u305f\u3044\u6642\u306b\u5229\u7528\u3059\u308b\n",
      "- encode\u30e1\u30bd\u30c3\u30c9: str\u6587\u5b57\u5217\u3092\u6587\u5b57\u30b3\u30fc\u30c9\u3092\u6307\u5b9a\u3057\u305f\u30c6\u30ad\u30b9\u30c8\u30c7\u30fc\u30bf\u306b\u3057\u305f\u3044(\u30a8\u30f3\u30b3\u30fc\u30c7\u30a3\u30f3\u30b0)\u6642\u306b\u5229\u7528\u3059\u308b"
     ]
    },
    {
     "cell_type": "code",
     "collapsed": false,
     "input": [
      "# \u6587\u5b57\u5217\u306e\u6271\u3044\u306e\u4f8b\n",
      "\n",
      "# str\u6587\u5b57\u5217\u3092encode\u3057\u3066utf-8\u306ebyte\u6587\u5b57\u5217\u3078\u30a8\u30f3\u30b3\u30fc\u30c9\u3059\u308b\n",
      "hellostr = \"Hello python \u3053\u3093\u306b\u3061\u306f\uff01\"\n",
      "\n",
      "encode_hello_str = hellostr.encode(\"utf-8\")\n",
      "print(encode_hello_str)\n",
      "\n",
      "# utf-8\u306ebyte\u6587\u5b57\u5217\u3092str\u6587\u5b57\u5217\u306b\u30c7\u30b3\u30fc\u30c9\u3059\u308b\n",
      "\n",
      "# byte\u8868\u73fe\u306e\u6587\u5b57\u5217\u306e\u5b9a\u7fa9\u306f b\u3068\u3044\u3046\u63a5\u982d\u8f9e (\u30d0\u30a4\u30c8\u30ea\u30c6\u30e9\u30eb)\u3092\u5229\u7528\u3059\u308b\n",
      "hellobyte_utf8 = b\"Hello python \\xe3\\x81\\x93\\xe3\\x82\\x93\\xe3\\x81\\xab\\xe3\\x81\\xa1\\xe3\\x81\\xaf\\xef\\xbc\\x81\"\n",
      "\n",
      "decode_hellobyte = hellobyte_utf8.decode(\"utf-8\")\n",
      "print(decode_hellobyte)"
     ],
     "language": "python",
     "metadata": {},
     "outputs": []
    },
    {
     "cell_type": "markdown",
     "metadata": {},
     "source": [
      "\u30c6\u30ad\u30b9\u30c8\u30c7\u30fc\u30bf\u3068Python\u306e\u6587\u5b57\u5217\u306e\u6271\u3044\u3092\u56f3\u3067\u8868\u73fe\u3057\u3066\u307f\u307e\u3057\u305f\u3002\n",
      "\n",
      "<img src=\"https://docs.google.com/drawings/d/1XB_w4nES1uHJ5DSXmiuu_lgLMt6yGAyQ2PGotm4mSu0/pub?w=960&amp;h=540\">\n",
      "\n",
      "\u30c6\u30ad\u30b9\u30c8\u30d5\u30a1\u30a4\u30eb\u3068\u6587\u5b57\u30b3\u30fc\u30c9\u306e\u95a2\u4fc2\u306f\u3001`tutorial_exam_csv.ipynb`\u3092\u53c2\u8003\u306b\u3057\u3066\u304f\u3060\u3055\u3044\u3002\uff08\u3053\u306e\u8ab2\u984c\u3067\u306f\u6271\u3044\u307e\u305b\u3093\uff09\n",
      "\n",
      "\u4ee5\u4e0b\u306b\u53c2\u8003\u306b\u306a\u308b\u60c5\u5831\u6e90\u3092\u63d0\u793a\u3057\u307e\u3059\u3002\n",
      "\n",
      "- [\u6587\u5b57\u5217 - Dive Into Python 3 \u65e5\u672c\u8a9e\u7248](http://diveintopython3-ja.rdy.jp/strings.html)\n",
      "- [Unicode HOWTO \u2014 Python 3.4.3 \u30c9\u30ad\u30e5\u30e1\u30f3\u30c8](http://docs.python.jp/3/howto/unicode.html)"
     ]
    },
    {
     "cell_type": "code",
     "collapsed": false,
     "input": [],
     "language": "python",
     "metadata": {},
     "outputs": []
    },
    {
     "cell_type": "code",
     "collapsed": false,
     "input": [],
     "language": "python",
     "metadata": {},
     "outputs": []
    },
    {
     "cell_type": "markdown",
     "metadata": {},
     "source": [
      "# \u8ab2\u984c2\n",
      "\n",
      "\u4ee5\u4e0b\u306e\u6587\u5b57\u5217\u306fjpeg\u30d5\u30a1\u30a4\u30eb\u3067\u3059\u3002\u30c7\u30b3\u30fc\u30c9\u3057\u3066jpg\u30d5\u30a1\u30a4\u30eb\u3068\u3057\u3066\u4fdd\u5b58\u3057\u3066\u4e0b\u3055\u3044\u3002\u753b\u50cf\u3092\u958b\u304f\u3053\u3068\u304c\u53ef\u80fd\u304b\u3082\u78ba\u8a8d\u3057\u3066\u4e0b\u3055\u3044\u3002\n",
      "\n",
      "```\n",
      "b'/9j/4AAQSkZJRgABAQEASABIAAD/4QCqRXhpZgAATU0AKgAAAAgABQESAAMAAAABAAEAAAEaAAUAAAABAAAASgEbAAUAAAABAAAAUgExAAIAAAAdAAAAWodpAAQAAAABAAAAeAAAAAAAAABHAAAAAQAAAEcAAAABTWFjcm9tZWRpYSBGaXJld29ya3MgTVggMjAwNAAAAAOgAQADAAAAAQABAACgAgAEAAAAAQAAACCgAwAEAAAAAQAAACAAAAAA/+0AOFBob3Rvc2hvcCAzLjAAOEJJTQQEAAAAAAAAOEJJTQQlAAAAAAAQ1B2M2Y8AsgTpgAmY7PhCfv/iDFhJQ0NfUFJPRklMRQABAQAADEhMaW5vAhAAAG1udHJSR0IgWFlaIAfOAAIACQAGADEAAGFjc3BNU0ZUAAAAAElFQyBzUkdCAAAAAAAAAAAAAAAAAAD21gABAAAAANMtSFAgIAAAAAAAAAAAAAAAAAAAAAAAAAAAAAAAAAAAAAAAAAAAAAAAAAAAAAAAAAAAAAAAEWNwcnQAAAFQAAAAM2Rlc2MAAAGEAAAAbHd0cHQAAAHwAAAAFGJrcHQAAAIEAAAAFHJYWVoAAAIYAAAAFGdYWVoAAAIsAAAAFGJYWVoAAAJAAAAAFGRtbmQAAAJUAAAAcGRtZGQAAALEAAAAiHZ1ZWQAAANMAAAAhnZpZXcAAAPUAAAAJGx1bWkAAAP4AAAAFG1lYXMAAAQMAAAAJHRlY2gAAAQwAAAADHJUUkMAAAQ8AAAIDGdUUkMAAAQ8AAAIDGJUUkMAAAQ8AAAIDHRleHQAAAAAQ29weXJpZ2h0IChjKSAxOTk4IEhld2xldHQtUGFja2FyZCBDb21wYW55AABkZXNjAAAAAAAAABJzUkdCIElFQzYxOTY2LTIuMQAAAAAAAAAAAAAAEnNSR0IgSUVDNjE5NjYtMi4xAAAAAAAAAAAAAAAAAAAAAAAAAAAAAAAAAAAAAAAAAAAAAAAAAAAAAAAAAAAAAAAAAABYWVogAAAAAAAA81EAAQAAAAEWzFhZWiAAAAAAAAAAAAAAAAAAAAAAWFlaIAAAAAAAAG+iAAA49QAAA5BYWVogAAAAAAAAYpkAALeFAAAY2lhZWiAAAAAAAAAkoAAAD4QAALbPZGVzYwAAAAAAAAAWSUVDIGh0dHA6Ly93d3cuaWVjLmNoAAAAAAAAAAAAAAAWSUVDIGh0dHA6Ly93d3cuaWVjLmNoAAAAAAAAAAAAAAAAAAAAAAAAAAAAAAAAAAAAAAAAAAAAAAAAAAAAAAAAAAAAAGRlc2MAAAAAAAAALklFQyA2MTk2Ni0yLjEgRGVmYXVsdCBSR0IgY29sb3VyIHNwYWNlIC0gc1JHQgAAAAAAAAAAAAAALklFQyA2MTk2Ni0yLjEgRGVmYXVsdCBSR0IgY29sb3VyIHNwYWNlIC0gc1JHQgAAAAAAAAAAAAAAAAAAAAAAAAAAAABkZXNjAAAAAAAAACxSZWZlcmVuY2UgVmlld2luZyBDb25kaXRpb24gaW4gSUVDNjE5NjYtMi4xAAAAAAAAAAAAAAAsUmVmZXJlbmNlIFZpZXdpbmcgQ29uZGl0aW9uIGluIElFQzYxOTY2LTIuMQAAAAAAAAAAAAAAAAAAAAAAAAAAAAAAAAAAdmlldwAAAAAAE6T+ABRfLgAQzxQAA+3MAAQTCwADXJ4AAAABWFlaIAAAAAAATAlWAFAAAABXH+dtZWFzAAAAAAAAAAEAAAAAAAAAAAAAAAAAAAAAAAACjwAAAAJzaWcgAAAAAENSVCBjdXJ2AAAAAAAABAAAAAAFAAoADwAUABkAHgAjACgALQAyADcAOwBAAEUASgBPAFQAWQBeAGMAaABtAHIAdwB8AIEAhgCLAJAAlQCaAJ8ApACpAK4AsgC3ALwAwQDGAMsA0ADVANsA4ADlAOsA8AD2APsBAQEHAQ0BEwEZAR8BJQErATIBOAE+AUUBTAFSAVkBYAFnAW4BdQF8AYMBiwGSAZoBoQGpAbEBuQHBAckB0QHZAeEB6QHyAfoCAwIMAhQCHQImAi8COAJBAksCVAJdAmcCcQJ6AoQCjgKYAqICrAK2AsECywLVAuAC6wL1AwADCwMWAyEDLQM4A0MDTwNaA2YDcgN+A4oDlgOiA64DugPHA9MD4APsA/kEBgQTBCAELQQ7BEgEVQRjBHEEfgSMBJoEqAS2BMQE0wThBPAE/gUNBRwFKwU6BUkFWAVnBXcFhgWWBaYFtQXFBdUF5QX2BgYGFgYnBjcGSAZZBmoGewaMBp0GrwbABtEG4wb1BwcHGQcrBz0HTwdhB3QHhgeZB6wHvwfSB+UH+AgLCB8IMghGCFoIbgiCCJYIqgi+CNII5wj7CRAJJQk6CU8JZAl5CY8JpAm6Cc8J5Qn7ChEKJwo9ClQKagqBCpgKrgrFCtwK8wsLCyILOQtRC2kLgAuYC7ALyAvhC/kMEgwqDEMMXAx1DI4MpwzADNkM8w0NDSYNQA1aDXQNjg2pDcMN3g34DhMOLg5JDmQOfw6bDrYO0g7uDwkPJQ9BD14Peg+WD7MPzw/sEAkQJhBDEGEQfhCbELkQ1xD1ERMRMRFPEW0RjBGqEckR6BIHEiYSRRJkEoQSoxLDEuMTAxMjE0MTYxODE6QTxRPlFAYUJxRJFGoUixStFM4U8BUSFTQVVhV4FZsVvRXgFgMWJhZJFmwWjxayFtYW+hcdF0EXZReJF64X0hf3GBsYQBhlGIoYrxjVGPoZIBlFGWsZkRm3Gd0aBBoqGlEadxqeGsUa7BsUGzsbYxuKG7Ib2hwCHCocUhx7HKMczBz1HR4dRx1wHZkdwx3sHhYeQB5qHpQevh7pHxMfPh9pH5Qfvx/qIBUgQSBsIJggxCDwIRwhSCF1IaEhziH7IiciVSKCIq8i3SMKIzgjZiOUI8Ij8CQfJE0kfCSrJNolCSU4JWgllyXHJfcmJyZXJocmtyboJxgnSSd6J6sn3CgNKD8ocSiiKNQpBik4KWspnSnQKgIqNSpoKpsqzysCKzYraSudK9EsBSw5LG4soizXLQwtQS12Last4S4WLkwugi63Lu4vJC9aL5Evxy/+MDUwbDCkMNsxEjFKMYIxujHyMioyYzKbMtQzDTNGM38zuDPxNCs0ZTSeNNg1EzVNNYc1wjX9Njc2cjauNuk3JDdgN5w31zgUOFA4jDjIOQU5Qjl/Obw5+To2OnQ6sjrvOy07azuqO+g8JzxlPKQ84z0iPWE9oT3gPiA+YD6gPuA/IT9hP6I/4kAjQGRApkDnQSlBakGsQe5CMEJyQrVC90M6Q31DwEQDREdEikTORRJFVUWaRd5GIkZnRqtG8Ec1R3tHwEgFSEtIkUjXSR1JY0mpSfBKN0p9SsRLDEtTS5pL4kwqTHJMuk0CTUpNk03cTiVObk63TwBPSU+TT91QJ1BxULtRBlFQUZtR5lIxUnxSx1MTU19TqlP2VEJUj1TbVShVdVXCVg9WXFapVvdXRFeSV+BYL1h9WMtZGllpWbhaB1pWWqZa9VtFW5Vb5Vw1XIZc1l0nXXhdyV4aXmxevV8PX2Ffs2AFYFdgqmD8YU9homH1YklinGLwY0Njl2PrZEBklGTpZT1lkmXnZj1mkmboZz1nk2fpaD9olmjsaUNpmmnxakhqn2r3a09rp2v/bFdsr20IbWBtuW4SbmtuxG8eb3hv0XArcIZw4HE6cZVx8HJLcqZzAXNdc7h0FHRwdMx1KHWFdeF2Pnabdvh3VnezeBF4bnjMeSp5iXnnekZ6pXsEe2N7wnwhfIF84X1BfaF+AX5ifsJ/I3+Ef+WAR4CogQqBa4HNgjCCkoL0g1eDuoQdhICE44VHhauGDoZyhteHO4efiASIaYjOiTOJmYn+imSKyoswi5aL/IxjjMqNMY2Yjf+OZo7OjzaPnpAGkG6Q1pE/kaiSEZJ6kuOTTZO2lCCUipT0lV+VyZY0lp+XCpd1l+CYTJi4mSSZkJn8mmia1ZtCm6+cHJyJnPedZJ3SnkCerp8dn4uf+qBpoNihR6G2oiailqMGo3aj5qRWpMelOKWpphqmi6b9p26n4KhSqMSpN6mpqhyqj6sCq3Wr6axcrNCtRK24ri2uoa8Wr4uwALB1sOqxYLHWskuywrM4s660JbSctRO1irYBtnm28Ldot+C4WbjRuUq5wro7urW7LrunvCG8m70VvY++Cr6Evv+/er/1wHDA7MFnwePCX8Lbw1jD1MRRxM7FS8XIxkbGw8dBx7/IPci8yTrJuco4yrfLNsu2zDXMtc01zbXONs62zzfPuNA50LrRPNG+0j/SwdNE08bUSdTL1U7V0dZV1tjXXNfg2GTY6Nls2fHadtr724DcBdyK3RDdlt4c3qLfKd+v4DbgveFE4cziU+Lb42Pj6+Rz5PzlhOYN5pbnH+ep6DLovOlG6dDqW+rl63Dr++yG7RHtnO4o7rTvQO/M8Fjw5fFy8f/yjPMZ86f0NPTC9VD13vZt9vv3ivgZ+Kj5OPnH+lf65/t3/Af8mP0p/br+S/7c/23////AABEIACAAIAMBEgACEQEDEQH/xAAfAAABBQEBAQEBAQAAAAAAAAAAAQIDBAUGBwgJCgv/xAC1EAACAQMDAgQDBQUEBAAAAX0BAgMABBEFEiExQQYTUWEHInEUMoGRoQgjQrHBFVLR8CQzYnKCCQoWFxgZGiUmJygpKjQ1Njc4OTpDREVGR0hJSlNUVVZXWFlaY2RlZmdoaWpzdHV2d3h5eoOEhYaHiImKkpOUlZaXmJmaoqOkpaanqKmqsrO0tba3uLm6wsPExcbHyMnK0tPU1dbX2Nna4eLj5OXm5+jp6vHy8/T19vf4+fr/xAAfAQADAQEBAQEBAQEBAAAAAAAAAQIDBAUGBwgJCgv/xAC1EQACAQIEBAMEBwUEBAABAncAAQIDEQQFITEGEkFRB2FxEyIygQgUQpGhscEJIzNS8BVictEKFiQ04SXxFxgZGiYnKCkqNTY3ODk6Q0RFRkdISUpTVFVWV1hZWmNkZWZnaGlqc3R1dnd4eXqCg4SFhoeIiYqSk5SVlpeYmZqio6Slpqeoqaqys7S1tre4ubrCw8TFxsfIycrS09TV1tfY2dri4+Tl5ufo6ery8/T19vf4+fr/2wBDAAICAgICAgMCAgMEAwMDBAUEBAQEBQcFBQUFBQcIBwcHBwcHCAgICAgICAgKCgoKCgoLCwsLCw0NDQ0NDQ0NDQ3/2wBDAQICAgMDAwYDAwYNCQcJDQ0NDQ0NDQ0NDQ0NDQ0NDQ0NDQ0NDQ0NDQ0NDQ0NDQ0NDQ0NDQ0NDQ0NDQ0NDQ0NDQ3/3QAEAAT/2gAMAwEAAhEDEQA/AP34ycV+eP7ZPx48deBfEekeBfAuqSaP5lk2o391bpG1w25/LhiVpUcKhw7EhckgYIAOfo8l4YxeZRdWlJKK6u/6Jnzmc8T4bLZKnVjJyfZL9WjQ+Pn7TPijwdq/ivSvC3iPw1oc/hV7KFdN1KM3Gp6m93GkjPADPGiJGr45R87SWKjGfgFvjR8b9Wmkmt/EWsajMhHmvDYW146nHAdlsnYcdN3b2PH22D4Yp4SyxHI7b3e/3x/I+JxnE1TFJuhKcU/JfpM+ovhD+2l8UdU+IOgeHPGY0zVtL1y/h09ntbVrWeFrjiOVHEro4BxlSoypyG4wflb4O+F/GviD4xeFroaPqZ+z63Dql/d3FjPbwxRQsZpppXeNI1GTwOMk4UVycS/2JhMvq4mooR5U3dWW3noaZFic1q4qnTjOUk2k766fez+gPjjHtXjnhXxZqF14iSxup2ngut+xXAypHIIwB2GCDX8vcOeLmT5vmTyujCcZdHLl5XrbRqTevofumM4cxWGw/wBZm1by3/I//9D7O/be+C3xB8WeI9I8d+AtGudcA02XTbyCzUSTxSxuZYHMZIJRtzKSucHGRjmv0pKgdq+gyjiXE5cuSkk4vv3Pn834bwuYSVWq2pd0fJHw+0SP4ffD/wAP+FtPtZNJa1023kuoOYZTeSorTvNghmlZydxYk9s4r1nxl4S1q91CS/0sLOkwBMZcI6lRjjPBB47iv458XMu4sxudzxUIVJ03quRtr00u19x+rcKYfK8Pg40HKKa72Rw97B4huhtMN5Oj4IVnLg85HyliCfTgmuj8PeBdU86H+0tPgtzDdpc/aTIDPtQg+WEUbcNjklunbNfJ5H4eZtm6UcXTrQV7NSk1Zd1zU7fLmue9is2wmEvySjLTSyT17fFf52KvgXwzrR8SR6hqVrLbQWqs+ZRtLSNwAAeeBXvgGB1r9z4R8G8qyLGrHU6kpzWydrK2t9FufK5rxXicbQ+ruKS8vyP/2Q=='\n",
      "\n",
      "```\n",
      "\n",
      "## \u30d2\u30f3\u30c8\n",
      "base64\u3067\u30c7\u30b3\u30fc\u30c9\u3057\u305f\u30d0\u30a4\u30ca\u30ea\u30c7\u30fc\u30bf\u3092\u66f8\u304d\u51fa\u3059\u3068\u304d\u306f\u3001open\u95a2\u6570\u3092\u4f7f\u3044\u307e\u3059\u3002\u30d5\u30a1\u30a4\u30eb\u306e\u30e2\u30fc\u30c9\u3092\"wb\"\uff08\u4e0a\u66f8\u304d+\u30d0\u30a4\u30ca\u30ea\u30e2\u30fc\u30c9\uff09\u306e\u3088\u3046\u306b\u30d0\u30a4\u30ca\u30ea\u30e2\u30fc\u30c9\u3092\u6307\u5b9a\u3057\u3066\u30d5\u30a1\u30a4\u30eb\u30aa\u30d6\u30b8\u30a7\u30af\u30c8\u3092\u4f5c\u6210\u3057\u307e\u3059\u3002\n",
      "\n",
      "[2. \u7d44\u307f\u8fbc\u307f\u95a2\u6570 open\u95a2\u6570 \u2014 Python 3.4.3 \u30c9\u30ad\u30e5\u30e1\u30f3\u30c8](http://docs.python.jp/3.4/library/functions.html#open)\n"
     ]
    },
    {
     "cell_type": "code",
     "collapsed": false,
     "input": [],
     "language": "python",
     "metadata": {},
     "outputs": []
    }
   ],
   "metadata": {}
  }
 ]
}