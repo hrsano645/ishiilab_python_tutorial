{
 "metadata": {
  "kernelspec": {
   "display_name": "Python 3",
   "language": "python",
   "name": "python3"
  },
  "language_info": {
   "codemirror_mode": {
    "name": "ipython",
    "version": 3
   },
   "file_extension": ".py",
   "mimetype": "text/x-python",
   "name": "python",
   "nbconvert_exporter": "python",
   "pygments_lexer": "ipython3",
   "version": "3.4.3"
  },
  "name": "",
  "signature": "sha256:918f23d73380550fd498736904d3df501bf82b2771f9e46b852a276ae230ef71"
 },
 "nbformat": 3,
 "nbformat_minor": 0,
 "worksheets": [
  {
   "cells": [
    {
     "cell_type": "markdown",
     "metadata": {},
     "source": [
      "# \u6f14\u7fd2:WEB\u30b9\u30af\u30ec\u30a4\u30d4\u30f3\u30b0\n",
      "\n",
      "\u7528\u610f\u3057\u305fHTML\u30d5\u30a1\u30a4\u30eb\u3084\u30b5\u30a4\u30c8\u3092\u4f7f\u3063\u3066\u8ab2\u984c\u306b\u53d6\u308a\u7d44\u307f\u307e\u3059\u3002\n",
      "\n",
      "1. BeautifleSoup\u3092\u4f7f\u3063\u3066\u3001\u7528\u610f\u3055\u308c\u305fHTML\u30d5\u30a1\u30a4\u30eb\u5185\u306ea\u30bf\u30b0\u306b\u6307\u5b9a\u3055\u308c\u3066\u3044\u308bURL\u3092\u53d6\u5f97\u3059\u308b\n",
      "2. requests,BeautifleSoup\u3092\u4f7f\u3063\u3066\u3001\u7528\u610f\u3055\u308c\u305f\u30b5\u30a4\u30c8\u5185\u306eimg\u30bf\u30b0\u306b\u6307\u5b9a\u3055\u308c\u3066\u3044\u308b\u753b\u50cf\u306eURL\u3092\u53d6\u5f97\u3059\u308b\n",
      "\n",
      "## \u6ce8\u610f\u70b9\n",
      "2\u306e\u8ab2\u984c\u3092\u5916\u90e8\u30b5\u30a4\u30c8\u3067\u5229\u7528\u3059\u308b\u3053\u3068\u306f\u53ef\u80fd\u3067\u3059\u304c\u3001\u30c1\u30e5\u30fc\u30c8\u30ea\u30a2\u30eb\u4f1a\u5834\u306e\u56de\u7dda\uff08\u30ea\u30e2\u30fc\u30c8IP\uff09\u3067\u8907\u6570\u4eba\u3067\u30a2\u30af\u30bb\u30b9\u3059\u308b\u3068\u3001\u5916\u90e8\u30b5\u30a4\u30c8\u3078\u8ff7\u60d1\u3092\u304b\u3051\u3066\u3057\u307e\u3046\u4e8b\u306b\u306a\u308a\u307e\u3059\u3002\u3053\u306e\u30c1\u30e5\u30fc\u30c8\u30ea\u30a2\u30eb\u3067\u306f\u884c\u308f\u306a\u3044\u3088\u3046\u306b\u304a\u9858\u3044\u3057\u307e\u3059\u3002\n",
      "\n",
      "\u307e\u305f\u3001\u5404\u81ea\u3067\u30c1\u30e5\u30fc\u30c8\u30ea\u30a2\u30eb\u3092\u884c\u3046\u969b\u306b\u591a\u91cf\u306e\u30a2\u30af\u30bb\u30b9\u3092\u884c\u3046\u3068\u3001\u5229\u7528\u4e2d\u306e\u56de\u7dda\u304c\u5229\u7528\u3067\u304d\u306a\u304f\u306a\u3063\u305f\u308a\u3001\u76f8\u624b\u5148\u306e\u30db\u30b9\u30c8\u3078\u306e\u653b\u6483\u3068\u601d\u308f\u308c\u3066\u906e\u65ad\u3055\u308c\u308b\u53ef\u80fd\u6027\u3082\u3042\u308a\u307e\u3059\u3002\uff08\u30b3\u30fc\u30c9\u306e\u5b9f\u9a13/\u30c6\u30b9\u30c8\u3067\u4f55\u5ea6\u3082\u884c\u3063\u3066\u3057\u307e\u3046\u3001\u30eb\u30fc\u30d7\u51e6\u7406\u3084\u518d\u5e30\u7684\u51e6\u7406\u306b\u3088\u308b\u5b9f\u88c5\u30df\u30b9\u306b\u6ce8\u610f\u3059\u308b\uff09\n",
      "\n",
      "WEB\u30b9\u30af\u30ec\u30a4\u30d4\u30f3\u30b0\u306e\u6ce8\u610f\u70b9\u306f\u4ee5\u4e0b\u306e\u30b5\u30a4\u30c8\u3092\u4e00\u8aad\u3055\u308c\u3066\u304b\u3089\u8a66\u3057\u3066\u307f\u3066\u304f\u3060\u3055\u3044\u3002\n",
      "\n",
      "- [Web\u30b9\u30af\u30ec\u30a4\u30d4\u30f3\u30b0\u306e\u6cd5\u5f8b\u5468\u308a\u306e\u8a71\u3092\u3057\u3088\u3046\uff01 - Qiita](http://qiita.com/nezuq/items/3cc9772118ad112c18dc)\n",
      "- [Web\u30b9\u30af\u30ec\u30a4\u30d4\u30f3\u30b0\u306e\u6ce8\u610f\u4e8b\u9805\u4e00\u89a7 - Qiita](http://qiita.com/nezuq/items/c5e827e1827e7cb29011#web%E3%82%B5%E3%82%A4%E3%83%88%E3%81%B8%E3%82%A2%E3%82%AF%E3%82%BB%E3%82%B9%E3%81%99%E3%82%8B%E6%99%82%E3%81%AF%E4%B8%8B%E8%A8%98%E3%81%AE%E5%88%B6%E9%99%90%E3%82%92%E5%AE%88%E3%82%8B)\n",
      "- \u6709\u540d\u306a\u4e8b\u4f8b: [\u5ca1\u5d0e\u5e02\u7acb\u4e2d\u592e\u56f3\u66f8\u9928\u4e8b\u4ef6 - Wikipedia](https://ja.wikipedia.org/wiki/%E5%B2%A1%E5%B4%8E%E5%B8%82%E7%AB%8B%E4%B8%AD%E5%A4%AE%E5%9B%B3%E6%9B%B8%E9%A4%A8%E4%BA%8B%E4%BB%B6)"
     ]
    },
    {
     "cell_type": "markdown",
     "metadata": {},
     "source": [
      "# \u5229\u7528\u3059\u308b\u30e2\u30b8\u30e5\u30fc\u30eb\u306e\u7d39\u4ecb"
     ]
    },
    {
     "cell_type": "markdown",
     "metadata": {},
     "source": [
      "## BeautifulSoup4(bs4)\u306e\u6271\u3044\u65b9\n",
      "\n",
      "### \u6982\u8981/\u30a4\u30f3\u30b9\u30c8\u30fc\u30eb\n",
      "\n",
      "BeautifulSoup4\u306f HTML, XML\u3092\u30d1\u30fc\u30b9\u3057\u3066\u304f\u308c\u308b\u30c4\u30fc\u30eb\u3002\u6271\u3044\u3084\u3059\u304f\u3066\u6709\u540d\u3002html\u306e\u69cb\u9020\u3092\u30c4\u30ea\u30fc\u5316\u3057\u3066\u304f\u308c\u307e\u3059\u3002\n",
      "\n",
      "[beautifulsoup4 4.3.2 : Python Package Index](https://pypi.python.org/pypi/beautifulsoup4)\n",
      "\n",
      "Python\u306e\u6a19\u6e96\u30e2\u30b8\u30e5\u30fc\u30eb\u306b\u3082\u3001html\u3084xml\u3092\u30d1\u30fc\u30b9\u3059\u308b\u30e9\u30a4\u30d6\u30e9\u30ea\u306f\u3042\u308b\u3002\n",
      "\n",
      "- [20.2. html.parser\u2014 HTML \u304a\u3088\u3073 XHTML \u306e\u30b7\u30f3\u30d7\u30eb\u306a\u30d1\u30fc\u30b5\u30fc \u2014 Python 3.4.2 \u30c9\u30ad\u30e5\u30e1\u30f3\u30c8](http://docs.python.jp/3/library/html.parser.html)\n",
      "- [20.4. XML\u3092\u6271\u3046\u30e2\u30b8\u30e5\u30fc\u30eb\u7fa4 \u2014 Python 3.4.2 \u30c9\u30ad\u30e5\u30e1\u30f3\u30c8](http://docs.python.jp/3/library/xml.html)\n",
      "\n",
      "\u30e2\u30b8\u30e5\u30fc\u30eb\u306e\u30c9\u30ad\u30e5\u30e1\u30f3\u30c8:\n",
      "- [kondou.com - Beautiful Soup 4.2.0 Doc. \u65e5\u672c\u8a9e\u8a33 (2013-11-19\u6700\u7d42\u66f4\u65b0)](http://kondou.com/BS4/): \u3053\u306e\u30c9\u30ad\u30e5\u30e1\u30f3\u30c8\u306f\u516c\u5f0f\u3068\u540c\u3058\u30d0\u30fc\u30b8\u30e7\u30f3\u306e\u3088\u3046\u3067\u3059\u3002\n",
      "- [Beautiful Soup Documentation \u2014 Beautiful Soup 4.2.0 documentation](http://www.crummy.com/software/BeautifulSoup/bs4/doc/)"
     ]
    },
    {
     "cell_type": "markdown",
     "metadata": {},
     "source": [
      "## \u5229\u7528\u4f8b\n",
      "\n",
      "### html\u306e\u6587\u5b57\u5217\u3092\u30d1\u30fc\u30b9"
     ]
    },
    {
     "cell_type": "markdown",
     "metadata": {},
     "source": [
      "\n",
      "## \u8ab2\u984c1.\u7528\u610f\u3055\u308c\u305fHTML\u30d5\u30a1\u30a4\u30eb\u5185\u306ea\u30bf\u30b0\u306b\u6307\u5b9a\u3055\u308c\u3066\u3044\u308bURL\u3092\u53d6\u5f97\u3059\u308b\n",
      "\n",
      "\u3053\u306eipynb\u30d5\u30a1\u30a4\u30eb\u3068\u540c\u3058\u30c7\u30a3\u30ec\u30af\u30c8\u30ea\u306b\u3042\u308b\u3001`exam/webscraping/exam1.html`\u30d5\u30a1\u30a4\u30eb\u3092BeautifulSoup4\u3067\u8aad\u307f\u8fbc\u3093\u3067\u4ee5\u4e0b\u306eURL\u306e\u30ea\u30b9\u30c8\uff08\u9806\u4e0d\u540c\uff09\u3092\u53d6\u5f97\u3057\u3066print\u6587\u3092\u4f7f\u3063\u3066\u30bb\u30eb\u5185\u306e\u6a19\u6e96\u51fa\u529b\u3078\u8868\u793a\u3057\u3066\u4e0b\u3055\u3044\u3002\n",
      "\n",
      "```\n",
      "http://www.python.jp\n",
      "https://www.python.org\n",
      "http://ipython.org\n",
      "http://www.pyzo.org\n",
      "http://www.crummy.com/software/BeautifulSoup/bs4/doc/\n",
      "http://www.python-requests.org/en/latest/\n",
      "http://ishiilab.net\n",
      "```\n"
     ]
    },
    {
     "cell_type": "code",
     "collapsed": false,
     "input": [],
     "language": "python",
     "metadata": {},
     "outputs": []
    },
    {
     "cell_type": "code",
     "collapsed": false,
     "input": [],
     "language": "python",
     "metadata": {},
     "outputs": []
    },
    {
     "cell_type": "markdown",
     "metadata": {},
     "source": [
      "## requests\u306e\u6271\u3044\u65b9\n",
      "\n",
      "### \u6982\u8981/\u30a4\u30f3\u30b9\u30c8\u30fc\u30eb\n",
      "\n",
      "http\u30a2\u30af\u30bb\u30b9\u3092\u975e\u5e38\u306b\u7c21\u5358\u306b\u5b9f\u73fe\u51fa\u6765\u308b\u30e9\u30a4\u30d6\u30e9\u30ea\n",
      "\n",
      "[requests 2.5.3 : Python Package Index](https://pypi.python.org/pypi/requests)\n",
      "\n",
      "python\u306e\u6a19\u6e96\u30e9\u30a4\u30d6\u30e9\u30ea\u306burllib(python2\u7cfb\u3060\u3068urllib, urllib2, urlprese\u3067\u3001\u3053\u308c\u3089python3\u3067\u6574\u7406\u3057\u305f\u7d50\u679c\u304curllib\uff09\u3068\u3044\u3046\u3001http\u901a\u4fe1\u3092\u884c\u3046\u305f\u3081\u306e\u30e9\u30a4\u30d6\u30e9\u30ea\u304c\u3042\u308b\u3002\u3053\u308c\u306f\u30d5\u30a1\u30a4\u30eb\u30e9\u30a4\u30af\u306a\u30aa\u30d6\u30b8\u30a7\u30af\u30c8\u3067\u52d5\u4f5c\u3059\u308b\u3002  \n",
      "\n",
      "[21.5. urllib \u2014 URL \u3092\u6271\u3046\u30e2\u30b8\u30e5\u30fc\u30eb\u7fa4 \u2014 Python 3.4.2 \u30c9\u30ad\u30e5\u30e1\u30f3\u30c8](http://docs.python.jp/3.4/library/urllib.html)\n",
      "\n",
      "html\u306e\u5185\u5bb9\u3092get\u3059\u308b\u7a0b\u5ea6\u306a\u3089\u3055\u307b\u3069\u5909\u308f\u308a\u306f\u306a\u3044\u304c\u3001\u901a\u4fe1\u3092\u3084\u308a\u3068\u308a\u3057\u3088\u3046\u3068\u3059\u308b\u3068\u9762\u5012\u306b\u306a\u308b\uff08http\u306e\u901a\u4fe1\u3092\u751f\u3067\u66f8\u3044\u3066\u3044\u308b\u5bc4\u308a\u306f\u697d\u3060\u304c\u3001\u751f\u306b\u8fd1\u3044\uff09\n",
      "\n",
      "requests\u306f\u4ee5\u4e0b\u306e\u3088\u3046\u306b\u30a4\u30f3\u30b9\u30c8\u30fc\u30eb\u53ef\u80fd\n",
      "\n",
      "    $pip install requests\n",
      "    \n",
      "\u306a\u304a\u3001pyzo\u306b\u306f\u6a19\u6e96\u3067\u540c\u68b1\u3055\u308c\u3066\u3044\u307e\u3059\u3002\n",
      "\n",
      "### requests\u3067\u306e\u6ce8\u610f\u70b9\n",
      "requests\u3067get\u30e1\u30bd\u30c3\u30c9\u3092\u4f55\u5ea6\u3082\u5229\u7528\u3059\u308b\u3068\u3001\u76f8\u624b\u5148\u306e\u30b5\u30fc\u30d0\u30fc\u3078\u4f55\u5ea6\u3082\u30a2\u30af\u30bb\u30b9\u3059\u308b\u3053\u3068\u306b\u306a\u308a\u307e\u3059\u3002\n",
      "\n",
      "### \u53c2\u8003: \n",
      "- [Requests: \u4eba\u9593\u306e\u305f\u3081\u306eHTTP \u2014 requests-docs-ja 1.0.4 documentation](http://requests-docs-ja.readthedocs.org/en/latest/) (\u6ce8\u610f:\u3053\u306e\u30c9\u30ad\u30e5\u30e1\u30f3\u30c8\u306f\u53e4\u3044\u3067\u3059\u304c\u65e5\u672c\u8a9e\u3067\u8aad\u3081\u307e\u3059\uff09\n",
      "- [Requests: HTTP for Humans \u2014 Requests 2.5.3 documentation](http://docs.python-requests.org/en/latest/)\n",
      "- [Requests \u306e\u4f7f\u3044\u65b9 (Python Library) - Qiita](http://qiita.com/sqrtxx/items/49beaa3795925e7de666)\n",
      "- [\u4f7f\u3063\u3066\u3044\u3066\u6c17\u6301\u3061\u304c\u3044\u3044 Python \u306e HTTP \u30af\u30e9\u30a4\u30a2\u30f3\u30c8 \"requests\" | CUBE SUGAR STORAGE](http://momijiame.tumblr.com/post/45560105945/python-http-requests)"
     ]
    },
    {
     "cell_type": "markdown",
     "metadata": {},
     "source": [
      "## \u8ab2\u984c2.\u7528\u610f\u3055\u308c\u305f\u30b5\u30a4\u30c8\u5185\u306eimg\u30bf\u30b0\u306b\u6307\u5b9a\u3055\u308c\u3066\u3044\u308b\u753b\u50cf\u306eURL\u3092\u53d6\u5f97\u3059\u308b\n",
      "\n",
      "\u6307\u5b9a\u3055\u308c\u305fURL\u3078requests\u3067\u30a2\u30af\u30bb\u30b9\u3057\u3001BeautifulSoup4\u3067\u8aad\u307f\u8fbc\u3093\u3067\u4ee5\u4e0b\u306eURL\u306e\u30ea\u30b9\u30c8\uff08\u9806\u4e0d\u540c\uff09\u3092\u53d6\u5f97\u3057\u3066print\u306a\u3069\u3092\u4f7f\u3063\u3066\u30bb\u30eb\u5185\u306e\u6a19\u6e96\u51fa\u529b\u3078\u8868\u793a\u3057\u3066\u4e0b\u3055\u3044\u3002\n",
      "\n",
      "URL: http://ishiilab.net/~sano/python_tutorial/exam2.html\n",
      "\n",
      "    \u81ea\u5206\u306e\u6240\u6709\u3057\u3066\u3044\u308b\u5199\u771f\u3092\u9069\u5f53\u306a\u30d5\u30a1\u30a4\u30eb\u540d\u306b\u3057\u3066\u3001\u65e5\u4ed8\u3092\u5165\u308c\u3066DL\u3059\u308b\u3002\n",
      "\n",
      "    http://ishiilab.net/~sano/python_tutorial/Photos/fujisan-01.jpg\n",
      "    http://ishiilab.net/~sano/python_tutorial/Photos/fujisan-02.jpg\n",
      "    http://ishiilab.net/~sano/python_tutorial/Photos/fujisan-03.jpg\n",
      "    http://ishiilab.net/~sano/python_tutorial/Photos/fujisan-04.jpg\n",
      "    http://ishiilab.net/~sano/python_tutorial/Photos/food-01.jpg\n",
      "    http://ishiilab.net/~sano/python_tutorial/Photos/food-02.jpg\n",
      "    http://ishiilab.net/~sano/python_tutorial/Photos/food-03.jpg\n",
      "    http://ishiilab.net/~sano/python_tutorial/Photos/food-04.jpg\n"
     ]
    },
    {
     "cell_type": "code",
     "collapsed": false,
     "input": [],
     "language": "python",
     "metadata": {},
     "outputs": []
    },
    {
     "cell_type": "code",
     "collapsed": false,
     "input": [],
     "language": "python",
     "metadata": {},
     "outputs": []
    }
   ],
   "metadata": {}
  }
 ]
}