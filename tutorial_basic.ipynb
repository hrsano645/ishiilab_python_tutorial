{
 "metadata": {
  "kernelspec": {
   "display_name": "Python 3",
   "language": "python",
   "name": "python3"
  },
  "language_info": {
   "codemirror_mode": {
    "name": "ipython",
    "version": 3
   },
   "file_extension": ".py",
   "mimetype": "text/x-python",
   "name": "python",
   "nbconvert_exporter": "python",
   "pygments_lexer": "ipython3",
   "version": "3.4.3"
  },
  "name": "",
  "signature": "sha256:e76d6c3bb8b2935a2640076b0bdf95f9e3c01b236105d50db08165e0f8847912"
 },
 "nbformat": 3,
 "nbformat_minor": 0,
 "worksheets": [
  {
   "cells": [
    {
     "cell_type": "heading",
     "level": 1,
     "metadata": {},
     "source": [
      "\u77f3\u4e95\u7814\u7a76\u5ba4 Python\u30c1\u30e5\u30fc\u30c8\u30ea\u30a2\u30eb \u57fa\u790e\u7de8"
     ]
    },
    {
     "cell_type": "markdown",
     "metadata": {},
     "source": [
      "# \u30c1\u30e5\u30fc\u30c8\u30ea\u30a2\u30eb\u306e\u9032\u3081\u65b9\n",
      "\n",
      "\u57fa\u672c\u7684\u306b\u89e3\u8aac\u306f\u884c\u3044\u307e\u305b\u3093\u3002\u5168\u4f53\u7684\u306b\u8e93\u304f\u6240\u3001\u8cea\u554f\u304c\u3042\u308b\u5834\u5408\u306f\u9069\u6642\u89e3\u8aac\u3092\u5165\u308c\u307e\u3059\u3002\n",
      "\n",
      "\u4ee5\u4e0b\u306b\u66f8\u304b\u308c\u3066\u3044\u308b\u30b3\u30fc\u30c9(in[ ]\u3068\u66f8\u304b\u308c\u3066\u3044\u308b\u90e8\u5206)\u3092Shift + Enter\u3092\u62bc\u3057\u3066\u5b9f\u884c\u3057\u3066\u7d50\u679c\u3092\u78ba\u8a8d\u3057\u306a\u304c\u3089\u9032\u3081\u307e\u3059\u3002\n",
      "\n",
      "\u308f\u304b\u3089\u306a\u3044\u6240\u304c\u3042\u308b\u5834\u5408\u306f\u3001\u8b1b\u5e2b\u306b\u8cea\u554f\u3057\u305f\u308a\u3001\u5468\u308a\u306e\u4eba\u304c\u6559\u3048\u308c\u308b\u306a\u3089\u6559\u3048\u3066\u304f\u3060\u3055\u3044\u3002\u6559\u3048\u308b\u3053\u3068\u306f\u5b66\u3076\u3053\u3068\u306b\u3082\u3064\u306a\u304c\u308a\u307e\u3059\u3002\n",
      "\n",
      "\u30c1\u30e5\u30fc\u30c8\u30ea\u30a2\u30eb\u306f\u91cf\u304c\u3042\u308b\u306e\u3067\u3001\u4eca\u65e5\u5168\u3066\u3067\u304d\u306a\u304f\u3066\u3082\u554f\u984c\u7121\u3044\u3067\u3059\u3002\u5404\u81ea\u3067\u9032\u3081\u3066\u3001\u7406\u89e3\u3092\u6df1\u3081\u308b\u3053\u3068\u304c\u5927\u4e8b\u3067\u3059\u3002\n",
      "\n",
      "\u81ea\u5b85\u3067\u51fa\u6765\u308b\u74b0\u5883\u3092\u7528\u610f\u3067\u304d\u308c\u3070\u3001\u540c\u3058\u74b0\u5883\u3067\u78ba\u8a8d\u3059\u308b\u3053\u3068\u304c\u53ef\u80fd\u3067\u3059\u3002\n",
      "\n",
      "## ipython notebook\u306e\u4f7f\u3044\u65b9\n",
      "\n",
      "- \u5404\u30b3\u30fc\u30c9\u3084\u89e3\u8aac\u304c\u66f8\u304b\u308c\u3066\u3044\u308b\u30d6\u30ed\u30c3\u30af\u306f\u30bb\u30eb(Cell)\u3068\u547c\u3073\u307e\u3059\n",
      "- \u30de\u30a6\u30b9\u30af\u30ea\u30c3\u30af\u3001\u65b9\u5411\u30ad\u30fc\u306e\u4e0a\u4e0b\u3067Cell\u3092\u9078\u629e\u3057\u307e\u3059\u3002\n",
      "- Cell\u306e\u9078\u629e\u3092\u3057\u3066\u3001\u300cShift + Enter\u300d\u3092\u62bc\u3057\u3066\u5b9f\u884c\u3057\u307e\u3059\u3002\u30b3\u30fc\u30c9\u306f\u305d\u306e\u5834\u3067\u5b9f\u884c\u3057\u3001\u6a19\u6e96\u51fa\u529b/\u6a19\u6e96\u30a8\u30e9\u30fc\u306e\u6587\u5b57\u5217\u304c\u623b\u3063\u3066\u304d\u307e\u3059\u3002\n",
      "- \u305d\u306e\u4ed6\u306e\u6a5f\u80fd\u306f\u3001\u4e0a\u306b\u3042\u308b\u30c4\u30fc\u30eb\u30d0\u30fc\u3001help\u3092\u78ba\u8a8d\u3057\u3066\u4e0b\u3055\u3044\u3002\uff08\u82f1\u8a9e\u3067\u3059\u304c\u305d\u3053\u307e\u3067\u96e3\u3057\u304f\u306f\u306a\u3044\u306f\u305a\u3067\u3059\uff09\n"
     ]
    },
    {
     "cell_type": "markdown",
     "metadata": {},
     "source": [
      "# \u53c2\u8003\u60c5\u5831\n",
      "\n",
      "\u3053\u306e\u30c1\u30e5\u30fc\u30c8\u30ea\u30a2\u30eb\u4e2d\u4ee5\u5916\u3067\u308f\u304b\u3089\u306a\u3044\u3053\u3068\u304c\u3042\u308b\u5834\u5408\u306f\u3001\u5206\u304b\u308b\u4eba\u306b\u8cea\u554f\u3059\u308b\u304b\u3001\u4ee5\u4e0b\u306e\u60c5\u5831\u3078\u3042\u305f\u3063\u3066\u898b\u3066\u4e0b\u3055\u3044\u3002\n",
      "\n",
      "## WEB\n",
      "\n",
      "WEB\u306e\u60c5\u5831\u3067\u3082\u5341\u5206\u5b66\u7fd2\u53ef\u80fd\u3067\u3059\u3002\u306a\u304a\u3001\u516c\u5f0f\u30c9\u30ad\u30e5\u30e1\u30f3\u30c8\u306f\u307b\u307c\u65e5\u672c\u8a9e\u5316\u3055\u308c\u3066\u3044\u308b\u306e\u3067\u3001\u975e\u5e38\u306b\u4fbf\u308a\u306b\u306a\u308a\u307e\u3059\u3002\n",
      "\n",
      "- [\u30c9\u30c3\u30c8\u30a4\u30f3\u30b9\u30c8\u30fc\u30eb:Python\u5165\u9580 (python2\u7cfb\u3067\u3059\u304c\u53c2\u8003\u306b\u306a\u308a\u307e\u3059)](http://dotinstall.com/lessons/basic_python_v2)\n",
      "- [Python \u516c\u5f0f\u30c9\u30ad\u30e5\u30e1\u30f3\u30c8 Python\u30c1\u30e5\u30fc\u30c8\u30ea\u30a2\u30eb](http://docs.python.jp/3/tutorial/)\n",
      "- [Dive into Python 3 \u65e5\u672c\u8a9e\u7248](http://diveintopython3-ja.rdy.jp/)\n",
      "\n",
      "## \u66f8\u7c4d\n",
      "\n",
      "\u4e0a\u304b\u3089\u6613\u3057\u3044\u9806\u3060\u3068\u601d\u3044\u307e\u3059\u3002\n",
      "\n",
      "- [Python\u30b9\u30bf\u30fc\u30c8\u30d6\u30c3\u30af](http://www.amazon.co.jp/dp/4774142298)\n",
      "- [\u307f\u3093\u306a\u306ePython \u7b2c3\u7248](http://www.amazon.co.jp/dp/4797371595)\n",
      "- [\u521d\u3081\u3066\u306ePython \u7b2c3\u7248](http://www.amazon.co.jp/dp/4873113938)"
     ]
    },
    {
     "cell_type": "heading",
     "level": 1,
     "metadata": {},
     "source": [
      "Python\u30c1\u30e5\u30fc\u30c8\u30ea\u30a2\u30eb"
     ]
    },
    {
     "cell_type": "heading",
     "level": 2,
     "metadata": {},
     "source": [
      "Hello Python"
     ]
    },
    {
     "cell_type": "markdown",
     "metadata": {},
     "source": [
      "print\u95a2\u6570\u3092\u5229\u7528\u3057\u3066\u3001\u6587\u5b57\u5217\u3092\u51fa\u529b\u3057\u3066\u3044\u307e\u3059\u3002\u6587\u5b57\u5217\uff08\u578b\uff09\u306f\u30c0\u30d6\u30eb\u30af\u30aa\u30fc\u30c6\u30fc\u30b7\u30e7\u30f3\u3067\u304f\u304f\u308a\u307e\u3059\u3002\n",
      "\n",
      "\u6587\u5b57\u3068\u3044\u3046\u578b\uff08C\u306eChar\uff09\u306f\u7121\u304f\u3066\u30011\u6587\u5b57\u306e\u6587\u5b57\u5217\u3092\u4f5c\u308b\u3053\u3068\u306f\u51fa\u6765\u307e\u3059\u3002\u6587\u5b57\u5217\u306e\u6271\u3044\u65b9\u306f\u5f8c\u8ff0\u3057\u307e\u3059\u3002"
     ]
    },
    {
     "cell_type": "code",
     "collapsed": false,
     "input": [
      "print(\"hello Python!!! \u306f\u308d\u30fc\u3071\u3044\u305d\u3093\uff01\")"
     ],
     "language": "python",
     "metadata": {},
     "outputs": []
    },
    {
     "cell_type": "heading",
     "level": 2,
     "metadata": {},
     "source": [
      "\u7b97\u8853\u6f14\u7b97"
     ]
    },
    {
     "cell_type": "markdown",
     "metadata": {},
     "source": [
      "\u6f14\u7b97\u5668\u53f7\u3092\u4f7f\u3063\u3066\u6f14\u7b97\u3057\u307e\u3059\u3002\u3069\u3093\u306a\u7d50\u679c\u304c\u623b\u3063\u3066\u304f\u308b\u304b\u8003\u3048\u3066\u5b9f\u884c\u3057\u3066\u307f\u3066\u304f\u3060\u3055\u3044\u3002"
     ]
    },
    {
     "cell_type": "code",
     "collapsed": false,
     "input": [
      "# \u52a0\u7b97 \n",
      "10 +20"
     ],
     "language": "python",
     "metadata": {},
     "outputs": []
    },
    {
     "cell_type": "code",
     "collapsed": false,
     "input": [
      "# \u6e1b\u7b97\n",
      "10 -20"
     ],
     "language": "python",
     "metadata": {},
     "outputs": []
    },
    {
     "cell_type": "code",
     "collapsed": false,
     "input": [
      "# \u4e57\u7b97\n",
      "10 * 20"
     ],
     "language": "python",
     "metadata": {},
     "outputs": []
    },
    {
     "cell_type": "code",
     "collapsed": false,
     "input": [
      "# \u9664\u7b97:\u6d6e\u52d5\u5c0f\u6570(flort)\u304c\u8fd4\u3063\u3066\u304d\u307e\u3059\u3002python2\u7cfb\u306e\u6642\u306f\u5c0f\u6570\u70b9\u306f\u4e38\u3081\uff08\u5207\u308a\u6368\u3066\uff09\u3089\u308c\u3066\u3057\u307e\u3063\u3066\u3044\u307e\u3057\u305f\u3002\n",
      "20 / 10"
     ],
     "language": "python",
     "metadata": {},
     "outputs": []
    },
    {
     "cell_type": "code",
     "collapsed": false,
     "input": [
      "# \u3042\u307e\u308a\n",
      "13 % 2"
     ],
     "language": "python",
     "metadata": {},
     "outputs": []
    },
    {
     "cell_type": "code",
     "collapsed": false,
     "input": [
      "# \u7d2f\u4e57\n",
      "5 ** 2"
     ],
     "language": "python",
     "metadata": {},
     "outputs": []
    },
    {
     "cell_type": "code",
     "collapsed": false,
     "input": [
      "#\u8907\u96d1\u306a\u5f0f\u3082\u4f5c\u308c\u307e\u3059\u3002\n",
      "9 * 3 + 1 "
     ],
     "language": "python",
     "metadata": {},
     "outputs": []
    },
    {
     "cell_type": "heading",
     "level": 2,
     "metadata": {},
     "source": [
      "\u6bd4\u8f03\u6f14\u7b97"
     ]
    },
    {
     "cell_type": "markdown",
     "metadata": {},
     "source": [
      "\u4ee5\u4e0a\u4ee5\u4e0b\u3068\u304b\u672a\u6e80\u3068\u304b\n",
      "* <, >, <=, >=, ==, in"
     ]
    },
    {
     "cell_type": "code",
     "collapsed": false,
     "input": [
      " 1 < 3"
     ],
     "language": "python",
     "metadata": {},
     "outputs": []
    },
    {
     "cell_type": "code",
     "collapsed": false,
     "input": [
      "50 >= 50"
     ],
     "language": "python",
     "metadata": {},
     "outputs": []
    },
    {
     "cell_type": "code",
     "collapsed": false,
     "input": [
      "1 < -1"
     ],
     "language": "python",
     "metadata": {},
     "outputs": []
    },
    {
     "cell_type": "code",
     "collapsed": false,
     "input": [
      "1 == 1"
     ],
     "language": "python",
     "metadata": {},
     "outputs": []
    },
    {
     "cell_type": "heading",
     "level": 2,
     "metadata": {},
     "source": [
      "\u8ad6\u7406\u6f14\u7b97"
     ]
    },
    {
     "cell_type": "markdown",
     "metadata": {},
     "source": [
      "and, or, not \u3068\u8868\u3057\u307e\u3059\u3002(xor\u3068\u304b\u306f\u3042\u308a\u307e\u305b\u3093\uff09\n",
      "\n",
      "\u623b\u308a\u5024\u306f\u771f\u507d\u5024\u3067\u306f\u306a\u304f\u3001\u5229\u7528\u3057\u305f\u5024\u3092\u8fd4\u3059\u3053\u3068\u306b\u6ce8\u610f\u3059\u308b\u3002\uff08\u307e\u308c\u306b\u8ad6\u7406\u6f14\u7b97\u3092\u305d\u306e\u5f8c\u5229\u7528\u3059\u308b\u30b1\u30fc\u30b9\u304c\u3042\u308b\u304c\u3001\u305d\u306e\u6642\u306b\u9593\u9055\u3048\u308b\u3053\u3068\u304c\u3042\u308b\uff09\n",
      "\n",
      "- and \u306f\u8ad6\u7406\u7a4d\u3002A and B \u5de6\u304b\u3089\u8a55\u4fa1\u3057\u3066\u3001\u507d\u306b\u306a\u3063\u305f\u6642\u306e\u5024\u3092\u8fd4\u3059\u3002\u8a55\u4fa1\u3057\u304d\u308c\u305f\u5834\u5408\u306f\u6700\u5f8c\u306e\u5024\u3092\u8fd4\u3059\n",
      "- or \u306f\u8ad6\u7406\u548c\u3002A or B A\u304bB\u304b\u4f55\u65b9\u304b\u304c\u771f\u306b\u306a\u308c\u3070\u771f\u306e\u5024\u3092\u8fd4\u3059\n",
      "- not\u306f\u5426\u5b9a\u3002\u76f4\u524d\u306e\u771f\u507d\u5024\u3092\u3072\u3063\u304f\u308a\u8fd4\u3059\n",
      "\n",
      "\u7d44\u307f\u5408\u308f\u305b\u308b\u3068\u8907\u96d1\u306a\u6761\u4ef6\u5b9a\u7fa9\u304c\u53ef\u80fd"
     ]
    },
    {
     "cell_type": "heading",
     "level": 3,
     "metadata": {},
     "source": [
      "and"
     ]
    },
    {
     "cell_type": "code",
     "collapsed": false,
     "input": [
      "# A\u3082B\u3082\u771f\u306b\u306a\u308b\u306a\u3089B\u3092\u8fd4\u3059\n",
      "10 and 20"
     ],
     "language": "python",
     "metadata": {},
     "outputs": []
    },
    {
     "cell_type": "code",
     "collapsed": false,
     "input": [
      "# A\u304c\u507d\u3067B\u304c\u771f\u306a\u3089\u8a55\u4fa1\u3055\u308c\u305a\u306bA\u3092\u8fd4\u3059\n",
      "0 and 20"
     ],
     "language": "python",
     "metadata": {},
     "outputs": []
    },
    {
     "cell_type": "code",
     "collapsed": false,
     "input": [
      "# A\u304c\u771f\u3067B\u304c\u507d\u306a\u3089\u8a55\u4fa1\u3055\u308c\u3066B\u3092\u8fd4\u3059\n",
      "10 and 0"
     ],
     "language": "python",
     "metadata": {},
     "outputs": []
    },
    {
     "cell_type": "code",
     "collapsed": false,
     "input": [
      "0 and False"
     ],
     "language": "python",
     "metadata": {},
     "outputs": []
    },
    {
     "cell_type": "code",
     "collapsed": false,
     "input": [
      "# \uff12\u56de\u4ee5\u4e0a\u3064\u306a\u3052\u308b\u3053\u3068\u304c\u51fa\u6765\u308b\u3002\u3069\u3093\u306a\u5024\u304c\u623b\u3063\u3066\u304f\u308b\u304b\u60f3\u50cf\u3057\u3066\u307f\u3088\u3046\n",
      "\n",
      "10 and \"true\" and [] and True"
     ],
     "language": "python",
     "metadata": {},
     "outputs": []
    },
    {
     "cell_type": "code",
     "collapsed": false,
     "input": [
      "#\u5e74\u9f62\u309218~65\u6b73\u306e\u4e2d\u306b\u3042\u308b\u304b\u3092\u8abf\u3079\u308b\n",
      "age = 10\n",
      "\n",
      "age >= 18 and age <= 65"
     ],
     "language": "python",
     "metadata": {},
     "outputs": []
    },
    {
     "cell_type": "heading",
     "level": 3,
     "metadata": {},
     "source": [
      "or"
     ]
    },
    {
     "cell_type": "code",
     "collapsed": false,
     "input": [
      "10 or 20"
     ],
     "language": "python",
     "metadata": {},
     "outputs": []
    },
    {
     "cell_type": "code",
     "collapsed": false,
     "input": [
      "0 or 20"
     ],
     "language": "python",
     "metadata": {},
     "outputs": []
    },
    {
     "cell_type": "code",
     "collapsed": false,
     "input": [
      "10 or 0"
     ],
     "language": "python",
     "metadata": {},
     "outputs": []
    },
    {
     "cell_type": "code",
     "collapsed": false,
     "input": [
      "0 or 0"
     ],
     "language": "python",
     "metadata": {},
     "outputs": []
    },
    {
     "cell_type": "heading",
     "level": 3,
     "metadata": {},
     "source": [
      "not"
     ]
    },
    {
     "cell_type": "markdown",
     "metadata": {},
     "source": [
      "not\u306f\u76f4\u5f8c\u306e\u5024\u3092\u771f\u507d\u7684\u306b\u8a55\u4fa1\u3057\u3001\u771f\u507d\u5024\u3092\u8fd4\u3059"
     ]
    },
    {
     "cell_type": "code",
     "collapsed": false,
     "input": [
      "# 10 == 10 \u306fTrue\u306b\u306a\u308b\u304c\u3001\u982d\u306bnot\u3092\u3064\u3051\u308b\u3068\u9006\u306b\u306a\u308b\n",
      "not 10 == 10"
     ],
     "language": "python",
     "metadata": {},
     "outputs": []
    },
    {
     "cell_type": "code",
     "collapsed": false,
     "input": [
      "not 10"
     ],
     "language": "python",
     "metadata": {},
     "outputs": []
    },
    {
     "cell_type": "code",
     "collapsed": false,
     "input": [
      "not False"
     ],
     "language": "python",
     "metadata": {},
     "outputs": []
    },
    {
     "cell_type": "heading",
     "level": 3,
     "metadata": {},
     "source": [
      "\"()\" \u30ab\u30c3\u30b3\u306e\u6271\u3044\u3068\u3001\u6f14\u7b97\u5b50\u306e\u512a\u5148\u9806\u4f4d\u306b\u3064\u3044\u3066"
     ]
    },
    {
     "cell_type": "markdown",
     "metadata": {},
     "source": [
      "\u6f14\u7b97\u5b50\u3092\u304b\u3063\u3053\u3067\u56f2\u3046\u3068\u6f14\u7b97\u306e\u512a\u5148\u9806\u4f4d\u304c\u4e0a\u304c\u308a\u307e\u3059\u3002\n",
      "\n",
      "\u305d\u306e\u4ed6\u306e\u6f14\u7b97\u5b50\u3084\u3001\u6f14\u7b97\u5b50\u306e\u512a\u5148\u9806\u4f4d\u306fpython\u306e\u516c\u5f0f\u30c9\u30ad\u30e5\u30e1\u30f3\u30c8\u3067\u78ba\u8a8d\u3067\u304d\u307e\u3059\u3002\n",
      "\n",
      "http://docs.python.jp/3.4/reference/expressions.html#operator-precedence\n"
     ]
    },
    {
     "cell_type": "heading",
     "level": 2,
     "metadata": {},
     "source": [
      "\u5909\u6570"
     ]
    },
    {
     "cell_type": "markdown",
     "metadata": {},
     "source": [
      "Python\u3067\u306f\u5909\u6570\u3092\u5229\u7528\u3057\u305f\u6642\u70b9\u3067\u81ea\u52d5\u7684\u306b\u4f5c\u6210\u3057\u307e\u3059\u3002\u4e88\u3081\u5ba3\u8a00\u3059\u308b\u5fc5\u8981\u306f\u3042\u308a\u307e\u305b\u3093\u3002"
     ]
    },
    {
     "cell_type": "markdown",
     "metadata": {},
     "source": [
      "\u305f\u3060\u3057\u3001\u30aa\u30d6\u30b8\u30a7\u30af\u30c8\u304c\u5165\u3063\u3066\u3044\u306a\u3044\u72b6\u614b\u3067\u5909\u6570\u306b\u30a2\u30af\u30bb\u30b9\u3057\u3088\u3046\u3068\u3059\u308b\u3068\u30a8\u30e9\u30fc\u304c\u8d77\u304d\u307e\u3059"
     ]
    },
    {
     "cell_type": "code",
     "collapsed": false,
     "input": [
      "print(bucho) #\u30a8\u30e9\u30fc(\u4f8b\u5916\u767a\u751f)"
     ],
     "language": "python",
     "metadata": {},
     "outputs": []
    },
    {
     "cell_type": "code",
     "collapsed": false,
     "input": [
      "bucho = \"show\""
     ],
     "language": "python",
     "metadata": {},
     "outputs": []
    },
    {
     "cell_type": "code",
     "collapsed": false,
     "input": [
      "print(bucho)"
     ],
     "language": "python",
     "metadata": {},
     "outputs": []
    },
    {
     "cell_type": "heading",
     "level": 2,
     "metadata": {},
     "source": [
      "\u30b3\u30e1\u30f3\u30c8"
     ]
    },
    {
     "cell_type": "markdown",
     "metadata": {},
     "source": [
      "\u30b3\u30e1\u30f3\u30c8\u306f \u5148\u982d\u306b\"#\"\u3092\u5165\u308c\u308b\u3002"
     ]
    },
    {
     "cell_type": "code",
     "collapsed": false,
     "input": [
      "# this line is comment"
     ],
     "language": "python",
     "metadata": {},
     "outputs": []
    },
    {
     "cell_type": "markdown",
     "metadata": {},
     "source": [
      "\u8907\u6570\u884c\u306e\u30b3\u30e1\u30f3\u30c8\u306f\u8907\u6570\u884c\u6587\u5b57\u5217\u3092\u4f7f\u3046\n",
      "\n",
      "\u3053\u306e\u8a18\u8ff0\u306f\u3001\u95a2\u6570\u3084\u30af\u30e9\u30b9\u306b\u5229\u7528\u65b9\u6cd5\u306a\u3069\u306e\u8aac\u660e\u3092\u8f09\u305b\u308bdocstring\u3068\u3057\u3066\u3082\u5229\u7528\u3055\u308c\u308b\u3002"
     ]
    },
    {
     "cell_type": "code",
     "collapsed": false,
     "input": [
      "\"\"\"\u3053\u306e\u30d6\u30ed\u30c3\u30af\u306f\u30b3\u30e1\u30f3\u30c8\u3067\u3059\n",
      "\u3068\u3053\u308d\u3067\u65e5\u672c\u8a9e\u3082\u3061\u3083\u3093\u3068\u5165\u529b\u3067\u304d\u307e\u3059\u3088\n",
      "\"\"\""
     ],
     "language": "python",
     "metadata": {},
     "outputs": []
    },
    {
     "cell_type": "heading",
     "level": 1,
     "metadata": {},
     "source": [
      "\u30c7\u30fc\u30bf\u578b"
     ]
    },
    {
     "cell_type": "heading",
     "level": 2,
     "metadata": {},
     "source": [
      "\u6574\u6570"
     ]
    },
    {
     "cell_type": "code",
     "collapsed": false,
     "input": [
      "#\u6574\u6570\n",
      "x = 10\n",
      "y = 20\n",
      "print(x)\n",
      "print(y)"
     ],
     "language": "python",
     "metadata": {},
     "outputs": []
    },
    {
     "cell_type": "heading",
     "level": 2,
     "metadata": {},
     "source": [
      "\u6d6e\u52d5\u5c0f\u6570\u70b9"
     ]
    },
    {
     "cell_type": "markdown",
     "metadata": {},
     "source": [
      "\u5c11\u6570\u306e\u6271\u3044\u306f1\u3064\u306e\u307f\u3067\u3059\uff08C\u3060\u3068float, double\u3068\u304b\u3042\u308a\u307e\u3059\u306d)\n",
      "\n",
      "\u8a08\u7b97\u3055\u305b\u308b\u3068\u304d\u306b\u3001\u5024\u306e\u3069\u308c\u304b\u304c\u5c11\u6570\u306e\u5834\u5408\u3001\u81ea\u52d5\u7684\u306b\u3059\u3079\u3066\u5c11\u6570\u3068\u306a\u308a\u307e\u3059\u3002\n",
      "\n",
      "Python\u306e2\u7cfb\u3067\u306f\u3001\u5272\u308a\u7b97\u3092\u3059\u308b\u3068\u5c0f\u6570\u70b9\u304c\u7701\u304b\u308c\u3066\u3057\u307e\u3044\u307e\u3059\u3002Python 3\u7cfb\u306f\u5272\u308a\u7b97\u306e\u7d50\u679c\u306f\u5c11\u6570\u3068\u306a\u308a\u307e\u3059"
     ]
    },
    {
     "cell_type": "code",
     "collapsed": false,
     "input": [
      "l = 1.4\n",
      "m = 3.756892\n",
      "print(l)\n",
      "print(m)"
     ],
     "language": "python",
     "metadata": {},
     "outputs": []
    },
    {
     "cell_type": "code",
     "collapsed": false,
     "input": [
      "3 + 5 + 1.4"
     ],
     "language": "python",
     "metadata": {},
     "outputs": []
    },
    {
     "cell_type": "heading",
     "level": 2,
     "metadata": {},
     "source": [
      "\u6587\u5b57\u5217"
     ]
    },
    {
     "cell_type": "markdown",
     "metadata": {},
     "source": [
      "\n",
      "\u30c0\u30d6\u30eb\u30af\u30aa\u30fc\u30c6\u30fc\u30b7\u30e7\u30f3(\")\u304b\u30b7\u30f3\u30b0\u30eb\u30af\u30aa\u30fc\u30c6\u30fc\u30b7\u30e7\u30f3(')\u3067\u6587\u5b57\u3092\u56f2\u3046\u3053\u3068\u3067\u3001\u6587\u5b57\u5217\u3068\u3057\u3066\u6271\u3044\u307e\u3059"
     ]
    },
    {
     "cell_type": "code",
     "collapsed": false,
     "input": [
      "s1 = \"hello Python.\"\n",
      "s2 = \"\u65e5\u672c\u8a9e\u3082\u4f7f\u3048\u308b\u3088\uff01\"\n",
      "print(s1)\n",
      "print(s2)"
     ],
     "language": "python",
     "metadata": {},
     "outputs": []
    },
    {
     "cell_type": "markdown",
     "metadata": {},
     "source": [
      "+\u6f14\u7b97\u5b50\u306f\u6587\u5b57\u5217\u306e\u7d50\u5408\u3082\u3067\u304d\u308b\u3002\u307e\u305f*\u6f14\u7b97\u5b50\u3082\u4f7f\u3048\u3066\u3001*3\u3068\u3059\u308b\u3068\u3001\u305d\u306e\u524d\u306e\u6587\u5b57\u5217\u304c\uff13\u56de\u633f\u5165\uff08\u8868\u793a\uff09\u3055\u308c\u308b"
     ]
    },
    {
     "cell_type": "code",
     "collapsed": false,
     "input": [
      "print(s1 + \" \" + s2)"
     ],
     "language": "python",
     "metadata": {},
     "outputs": []
    },
    {
     "cell_type": "code",
     "collapsed": false,
     "input": [
      "print(\"Hello Python \" + \"!\" * 3)"
     ],
     "language": "python",
     "metadata": {},
     "outputs": []
    },
    {
     "cell_type": "markdown",
     "metadata": {},
     "source": [
      "\u6587\u5b57\u5217\u540c\u58eb\u306f\u7d50\u5408\u3067\u304d\u307e\u3059\u304c\u3001\u6587\u5b57\u3068\u5225\u306e\u30c7\u30fc\u30bf\u578b\u306e\u5834\u5408\u306f\u7d50\u5408\u3067\u304d\u307e\u305b\u3093\u3002"
     ]
    },
    {
     "cell_type": "code",
     "collapsed": false,
     "input": [
      "# \u3053\u308c\u306fTypeError\u3092\u8d77\u3053\u3057\u307e\u3059\u3002\n",
      "print(\"Hello Python\" + 3)"
     ],
     "language": "python",
     "metadata": {},
     "outputs": []
    },
    {
     "cell_type": "code",
     "collapsed": false,
     "input": [
      "# \u6570\u5b57\u3068str\u95a2\u6570\uff08\u5f8c\u8ff0\uff09\u3067\u6587\u5b57\u5217\u306b\u3059\u308b\u3068\u7d50\u5408\u3067\u304d\u308b\n",
      "print(\"Hello Python\" + str(3))"
     ],
     "language": "python",
     "metadata": {},
     "outputs": []
    },
    {
     "cell_type": "markdown",
     "metadata": {},
     "source": [
      "\u6539\u884c\u3057\u305f\u3044\u3068\u304d\u306f\u6587\u5b57\u306e\u4e2d\u306b\u6539\u884c\u6587\u5b57(\\n)\u304b\u3001\u8907\u6570\u884c\u6587\u5b57\u5217\u3092\u5229\u7528\u3057\u307e\u3059\u3002\n",
      "\n",
      "*\u203b\u6539\u884c\u6587\u5b57\u3067\u4f7f\u3046\u30d0\u30c3\u30af\u30b9\u30e9\u30c3\u30b7\u30e5\u306f\u65e5\u672c\u8a9e\u74b0\u5883\u3067\u306f\u5186\u30de\u30fc\u30af\u3068\u540c\u7b49\u3067\u3059\u3002\u74b0\u5883\u306b\u3088\u3063\u3066\u306f\u30d0\u30c3\u30af\u30b9\u30e9\u30c3\u30b7\u30e5\u3068\u5206\u304b\u308c\u3066\u3044\u308b\u6642\u304c\u3042\u308a\u307e\u3059\u306e\u3067\u3001\u512a\u5148\u7684\u306b\u30d0\u30c3\u30af\u30b9\u30e9\u30c3\u30b7\u30e5\u3092\u5165\u529b\u3057\u307e\u3057\u3087\u3046\u3002*"
     ]
    },
    {
     "cell_type": "code",
     "collapsed": false,
     "input": [
      "print(\"hello\\npython\")"
     ],
     "language": "python",
     "metadata": {},
     "outputs": []
    },
    {
     "cell_type": "code",
     "collapsed": false,
     "input": [
      "print(\"\"\"hello\n",
      "python\"\"\")"
     ],
     "language": "python",
     "metadata": {},
     "outputs": []
    },
    {
     "cell_type": "markdown",
     "metadata": {},
     "source": [
      "\u30d0\u30c3\u30af\u30b9\u30e9\u30c3\u30b7\u30e5\"\\\"\u3092\u4ed8\u3051\u305f\u7279\u6b8a\u6587\u5b57\u306f\u30a8\u30b9\u30b1\u30fc\u30d7\u6587\u5b57\u3068\u8a00\u308f\u308c\u308b\u3002\n",
      "\n",
      "\u30d0\u30c3\u30af\u30b9\u30e9\u30c3\u30b7\u30e5\u306f\u7279\u6b8a\u306a\u8a18\u53f7\u306a\u306e\u3067\u901a\u5e38\u306f\u8868\u793a\u3067\u304d\u306a\u3044\u304c\u3001\u8868\u793a\u3055\u305b\u305f\u3044\u3068\u304d\u306f\"\\\\\"\u3068\u4e8c\u56de\u5229\u7528\u3059\u308b\u3002\n",
      "\n",
      "\u307e\u305f\u306fraw\u6587\u5b57\u5217\u3068\u3057\u3066\u6587\u5b57\u5217\u3092\u4f5c\u6210\u3059\u308b\u3002raw\u6587\u5b57\u5217\u306f\u30a8\u30b9\u30b1\u30fc\u30d7\u6587\u5b57\u3092\u89e3\u91c8\u3057\u306a\u3044\u72b6\u614b\u3067\u5229\u7528\u51fa\u6765\u308b\u3002"
     ]
    },
    {
     "cell_type": "code",
     "collapsed": false,
     "input": [
      "print(\"test\\test2\")"
     ],
     "language": "python",
     "metadata": {},
     "outputs": []
    },
    {
     "cell_type": "code",
     "collapsed": false,
     "input": [
      "print(\"test\\\\test2\")"
     ],
     "language": "python",
     "metadata": {},
     "outputs": []
    },
    {
     "cell_type": "code",
     "collapsed": false,
     "input": [
      "print(r\"hello\\npython\")"
     ],
     "language": "python",
     "metadata": {},
     "outputs": []
    },
    {
     "cell_type": "heading",
     "level": 2,
     "metadata": {},
     "source": [
      "\u771f\u507d\u5024"
     ]
    },
    {
     "cell_type": "markdown",
     "metadata": {},
     "source": [
      "True/False\u304c\u5229\u7528\u53ef\u80fd\u3002\u982d\u6587\u5b57\u306f\u5fc5\u305a\u5927\u6587\u5b57\u306b\u3059\u308b\u3053\u3068\u3002\n",
      "\n",
      "\u4e3b\u306b\u3001\u6f14\u7b97\u3084\u6761\u4ef6\u5206\u5c90\u306a\u3069\u3001\u5f0f\u3084\u95a2\u6570\u306e\u7d50\u679c\u3001\u771f\u507d\u3092\u8868\u3057\u305f\u3044\u3068\u304d\u3084\u6bd4\u8f03\u3057\u305f\u3044\u3068\u304d\u306b\u4f7f\u3046\n",
      "\n",
      "\u507d\u306e\u5024\u306f\u3001False\u4ee5\u5916\u306b\u3082 \u6570\u5b57\u306e0, \u7a7a\u306e\u6587\u5b57\u5217 \"\", \u306a\u3069\u3001\u7a7a\u306a\u30c7\u30fc\u30bf\u304cFalse\u3068\u540c\u7b49\u306b\u306a\u308b\u3002\u305d\u308c\u4ee5\u5916\u306fTrue\u306b\u306a\u308b\u3002\n",
      "\n",
      "\n",
      "http://docs.python.jp/3.4/library/stdtypes.html#truth-value-testing"
     ]
    },
    {
     "cell_type": "code",
     "collapsed": false,
     "input": [
      "# == \u306f\u6bd4\u8f03\u6f14\u7b97\u3067\u3001\u53cc\u65b9\u304c\u540c\u7b49\u304b\u3092\u8abf\u3079\u308b\u3002\n",
      "0 == False"
     ],
     "language": "python",
     "metadata": {},
     "outputs": []
    },
    {
     "cell_type": "markdown",
     "metadata": {},
     "source": [
      "not\u306fTrue False\u306e\u7d50\u679c\u3092\u9006\u306b\u3057\u307e\u3059\u3002"
     ]
    },
    {
     "cell_type": "code",
     "collapsed": false,
     "input": [
      "not True"
     ],
     "language": "python",
     "metadata": {},
     "outputs": []
    },
    {
     "cell_type": "markdown",
     "metadata": {},
     "source": [
      "## \u30c7\u30fc\u30bf\u306e\u5909\u63db"
     ]
    },
    {
     "cell_type": "markdown",
     "metadata": {},
     "source": [
      "\u6587\u5b57\u5217\u3092int\u95a2\u6570\u3084float\u95a2\u6570\u3092\u4f7f\u3063\u3066\u6574\u6570\u3001\u6d6e\u52d5\u5c0f\u6570\u70b9\u3078\u578b\u5909\u63db\u3057\u307e\u3059\u3002\n",
      "\u307e\u305f\u3001str\u95a2\u6570\u3067\u6574\u6570\u3084\u6d6e\u52d5\u5c0f\u6570\u70b9\u3001\u771f\u507d\u5024\u3084\u30c7\u30fc\u30bf\u69cb\u9020\u3092\u6587\u5b57\u5217\u3068\u3057\u3066\u51fa\u529b\u3067\u304d\u307e\u3059\u3002\n"
     ]
    },
    {
     "cell_type": "code",
     "collapsed": false,
     "input": [
      "print(int(\"10\"))\n",
      "print(float(\"10.0001\"))\n",
      "print(str(10.0001))\n",
      "print(str(True))"
     ],
     "language": "python",
     "metadata": {},
     "outputs": []
    },
    {
     "cell_type": "code",
     "collapsed": false,
     "input": [
      "# type\u95a2\u6570\u306f\u4e0e\u3048\u3089\u308c\u305f\u30c7\u30fc\u30bf\uff08\u30aa\u30d6\u30b8\u30a7\u30af\u30c8\uff09\u304c\u3069\u306e\u578b\u304b\u3092\u8abf\u3079\u307e\u3059\u3002\n",
      "\n",
      "# \u4e21\u8005\u3068\u3082\u51fa\u529b\u306f\u540c\u3058\u306b\u898b\u3048\u308b\n",
      "print(True)\n",
      "print(str(True))\n",
      "\n",
      "# \u3053\u3061\u3089\u306fbool\n",
      "print(type(True))\n",
      "\n",
      "# \u3053\u3061\u3089\u306fstr\n",
      "print(type(str(True)))"
     ],
     "language": "python",
     "metadata": {},
     "outputs": []
    },
    {
     "cell_type": "heading",
     "level": 1,
     "metadata": {},
     "source": [
      "\u30c7\u30fc\u30bf\u69cb\u9020"
     ]
    },
    {
     "cell_type": "markdown",
     "metadata": {},
     "source": [
      "\u30b7\u30fc\u30b1\u30f3\u30b9\uff08\u9023\u7d9a\uff09\u3084\u30de\u30c3\u30d4\u30f3\u30b0\uff08\u610f\u5473\u4ed8\u3051\uff09\u3068\u547c\u3070\u308c\u308b\u30c7\u30fc\u30bf\u306e\u69cb\u9020\u3092\u8868\u3057\u307e\u3059\u3002\n",
      "\n",
      "\u4eca\u307e\u3067\u7d39\u4ecb\u3057\u305f\u578b\u3084\u3001\u3053\u308c\u304b\u3089\u7d39\u4ecb\u3059\u308b\u30c7\u30fc\u30bf\u69cb\u9020\u81ea\u4f53\u3082\u3001\u3053\u306e\u4e2d\u306b\u5165\u308c\u308b\u3053\u3068\u304c\u51fa\u6765\u307e\u3059\u3002"
     ]
    },
    {
     "cell_type": "heading",
     "level": 2,
     "metadata": {},
     "source": [
      "\u30ea\u30b9\u30c8"
     ]
    },
    {
     "cell_type": "markdown",
     "metadata": {},
     "source": [
      "\u4fd7\u306b\u3044\u3046\u914d\u5217\u3002\u9806\u5e8f\u3092\u6301\u3063\u305f\u30c7\u30fc\u30bf\u69cb\u9020\u3067\u3059\u3002\n",
      "\u30ea\u30b9\u30c8\u306b\u306f\u69d8\u3005\u306a\u30c7\u30fc\u30bf\u578b\u3092\u5165\u308c\u308b\u3053\u3068\u304c\u51fa\u6765\u307e\u3059\u3002"
     ]
    },
    {
     "cell_type": "code",
     "collapsed": false,
     "input": [
      "# [] \u3067\u56f2\u3063\u3066 \",\"\u3067\u533a\u5207\u308a\u307e\u3059\n",
      "[1,2,3,4,5]"
     ],
     "language": "python",
     "metadata": {},
     "outputs": []
    },
    {
     "cell_type": "code",
     "collapsed": false,
     "input": [
      "# \u30ea\u30b9\u30c8\u306f\u69d8\u3005\u306a\u578b\u3092\u8a70\u3081\u8fbc\u3081\u308b\n",
      "[1,\"2\",3.0]"
     ],
     "language": "python",
     "metadata": {},
     "outputs": []
    },
    {
     "cell_type": "markdown",
     "metadata": {},
     "source": [
      "\u30a4\u30f3\u30c7\u30c3\u30af\u30b9\u306f0\u304b\u3089\u59cb\u307e\u308a\u307e\u3059\u3002\n",
      "\n",
      "list[0~(n-1)] \u306e\u30a4\u30e1\u30fc\u30b8\u3067\u3059\u3002"
     ]
    },
    {
     "cell_type": "code",
     "collapsed": false,
     "input": [
      "int_list = [1,2,3,4,5]\n",
      "int_list[0]"
     ],
     "language": "python",
     "metadata": {},
     "outputs": []
    },
    {
     "cell_type": "code",
     "collapsed": false,
     "input": [
      "#\u3053\u3046\u3044\u3063\u305f\u8868\u8a18\u3082\u3082\u3061\u308d\u3093\u51fa\u6765\u308b\n",
      "[1,2,3,4,5][0]"
     ],
     "language": "python",
     "metadata": {},
     "outputs": []
    },
    {
     "cell_type": "markdown",
     "metadata": {},
     "source": [
      "\u8ca0\u306e\u6570\u5b57\u3092\u6307\u5b9a\u3059\u308b\u3068\u7d42\u7aef\u304b\u3089\u304b\u3089\u30a2\u30af\u30bb\u30b9\u51fa\u6765\u308b"
     ]
    },
    {
     "cell_type": "code",
     "collapsed": false,
     "input": [
      "[1,2,3,4,5][-1]"
     ],
     "language": "python",
     "metadata": {},
     "outputs": []
    },
    {
     "cell_type": "heading",
     "level": 3,
     "metadata": {},
     "source": [
      "\u8ffd\u52a0"
     ]
    },
    {
     "cell_type": "code",
     "collapsed": false,
     "input": [
      "# \u6570\u5b57\u3092\u8ffd\u52a0\u3057\u3066\u307f\u305f\u4f8b\n",
      "int_list.append(100)\n",
      "print(int_list)"
     ],
     "language": "python",
     "metadata": {},
     "outputs": []
    },
    {
     "cell_type": "markdown",
     "metadata": {},
     "source": [
      "### \u5909\u66f4\n",
      "\n",
      "list[n] = val \u3067\u5024\u306e\u4ee3\u5165\u3001\u5909\u66f4\u304c\u53ef\u80fd"
     ]
    },
    {
     "cell_type": "code",
     "collapsed": false,
     "input": [
      "# 5\u306e\u6b21\u306f100\u3067\u306f\u306a\u3044\u306e\u30676\u306b\u3059\u308b\n",
      "int_list[5] = 6\n",
      "print(int_list)"
     ],
     "language": "python",
     "metadata": {},
     "outputs": []
    },
    {
     "cell_type": "markdown",
     "metadata": {},
     "source": [
      "### \u524a\u9664\n",
      "\n",
      "\u6307\u5b9a\u3057\u305findex\u5024\u306e\u5024\u3092\u6d88\u3059\u3057\u3066\u8a70\u3081\u308b"
     ]
    },
    {
     "cell_type": "code",
     "collapsed": false,
     "input": [
      "del int_list[-1]\n",
      "print(int_list)"
     ],
     "language": "python",
     "metadata": {},
     "outputs": []
    },
    {
     "cell_type": "markdown",
     "metadata": {},
     "source": [
      "### in\u6f14\u7b97\u5b50\n",
      "\n",
      "\u3092\u4f7f\u3046\u3068\u3001\u30ea\u30b9\u30c8\u306e\u4e2d\u306e\u5b58\u5728\u3092\u78ba\u8a8d\u3059\u308b\u3053\u3068\u304c\u51fa\u6765\u308b"
     ]
    },
    {
     "cell_type": "code",
     "collapsed": false,
     "input": [
      "# in\u6f14\u7b97\u5b50\u306f\u30b7\u30fc\u30b1\u30f3\u30b9\u5185\u306b\u5b58\u5728\u3059\u308b\u5024\u304c\u3042\u308b\u304b\u3092\u8abf\u3079\u3066\u304f\u308c\u308b\n",
      "# \u30b7\u30fc\u30b1\u30f3\u30b9\u3068\u8a00\u3046\u3082\u306e\u306f\u30c7\u30fc\u30bf\u69cb\u9020\u3067\u5f8c\u8ff0\n",
      "\n",
      "int_list = [1,2,3,4,5]\n",
      "print(int_list)\n",
      "1 in int_list"
     ],
     "language": "python",
     "metadata": {},
     "outputs": []
    },
    {
     "cell_type": "code",
     "collapsed": false,
     "input": [
      "1 in int_list"
     ],
     "language": "python",
     "metadata": {},
     "outputs": []
    },
    {
     "cell_type": "code",
     "collapsed": false,
     "input": [
      "100 in int_list"
     ],
     "language": "python",
     "metadata": {},
     "outputs": []
    },
    {
     "cell_type": "markdown",
     "metadata": {},
     "source": [
      "### \u30b9\u30e9\u30a4\u30b9\n",
      "\n",
      "[n:n+1] \u30a4\u30f3\u30c7\u30c3\u30af\u30b9\u5024\u3067\u7bc4\u56f2\u6307\u5b9a\u3059\u308b\u3068\u3001\u6307\u5b9a\u3057\u305f\u7bc4\u56f2\u306e\u30ea\u30b9\u30c8\u304c\u304b\u3048\u3063\u3066\u304f\u308b"
     ]
    },
    {
     "cell_type": "code",
     "collapsed": true,
     "input": [
      "print(int_list[0:3])"
     ],
     "language": "python",
     "metadata": {},
     "outputs": []
    },
    {
     "cell_type": "code",
     "collapsed": false,
     "input": [
      "print(int_list[1:2])"
     ],
     "language": "python",
     "metadata": {},
     "outputs": []
    },
    {
     "cell_type": "markdown",
     "metadata": {},
     "source": [
      "##\u30bf\u30d7\u30eb\n",
      "\u30bf\u30d7\u30eb\u306f\u4e00\u5ea6\u4f5c\u6210\u3059\u308b\u3068\u5909\u66f4\u4e0d\u53ef\u80fd\uff08\u8ffd\u52a0, \u524a\u9664, \u5909\u66f4\uff09\u304c\u51fa\u6765\u306a\u3044\u30ea\u30b9\u30c8\u306b\u306a\u308b\u3002\n",
      "\n",
      "\u4f7f\u3044\u9053\u304c\u3042\u308b\u306e\uff1f\u3068\u8a00\u308f\u308c\u308b\u304c\u3001\u5909\u66f4\u4e0d\u53ef\u80fd\u306a\u72b6\u614b\u304c\u307b\u3057\u3044\u6642\u306b\u3088\u304f\u4f7f\u308f\u308c\u308b\uff08\u96e3\u3057\u3044\u306e\u3067\u3053\u306e\u8fba\u3067\u306f\u8a00\u308f\u306a\u3044\uff09"
     ]
    },
    {
     "cell_type": "code",
     "collapsed": false,
     "input": [
      "tupl1 = (1,2,3,4,5)"
     ],
     "language": "python",
     "metadata": {},
     "outputs": []
    },
    {
     "cell_type": "code",
     "collapsed": false,
     "input": [
      "tupl1"
     ],
     "language": "python",
     "metadata": {},
     "outputs": []
    },
    {
     "cell_type": "code",
     "collapsed": false,
     "input": [
      "# \u8ffd\u52a0\u3055\u305b\u3088\u3046\u3068\u3059\u308b\u3068\u30a8\u30e9\u30fc\u304c\u8d77\u3053\u308b\n",
      "tupl1.append(6)"
     ],
     "language": "python",
     "metadata": {},
     "outputs": []
    },
    {
     "cell_type": "markdown",
     "metadata": {},
     "source": [
      "1\u7a2e\u985e\u306e\u30bf\u30d7\u30eb\u3092\u4f5c\u308b\u3068\u304d\u306f\u3001\u5024\u306e\u6700\u5f8c\u306b\u30ab\u30f3\u30de\u3092\u5165\u308c\u5fd8\u308c\u306a\u3044\u3053\u3068\uff08\u30ab\u30f3\u30de\u3092\u5165\u308c\u308b\u3053\u3068\u3067\u30bf\u30d7\u30eb\u3068\u8a8d\u8b58\u3057\u307e\u3059\uff09"
     ]
    },
    {
     "cell_type": "code",
     "collapsed": false,
     "input": [
      "# \u30bf\u30d7\u30eb\u306b\u306a\u3089\u306a\u3044\n",
      "tupl2 = (1)\n",
      "print(tupl2)"
     ],
     "language": "python",
     "metadata": {},
     "outputs": []
    },
    {
     "cell_type": "code",
     "collapsed": false,
     "input": [
      "# \u30bf\u30d7\u30eb\u306b\u306a\u308b\n",
      "tupl3 = (1,)\n",
      "print(tupl3)"
     ],
     "language": "python",
     "metadata": {},
     "outputs": []
    },
    {
     "cell_type": "code",
     "collapsed": false,
     "input": [
      "# \u5b9f\u306f\u30ab\u30c3\u30b3\u3067\u56f2\u308f\u306a\u304f\u3066\u3082\u3044\u3044\n",
      "\n",
      "tupl4 = 1,2,3,4\n",
      "\n",
      "print(tupl4)"
     ],
     "language": "python",
     "metadata": {},
     "outputs": []
    },
    {
     "cell_type": "heading",
     "level": 2,
     "metadata": {},
     "source": [
      "\u6587\u5b57\u5217"
     ]
    },
    {
     "cell_type": "markdown",
     "metadata": {},
     "source": [
      "\u6587\u5b57\u5217\u3082\u30b7\u30fc\u30b1\u30f3\u30b9\u3067\u3001\u30ea\u30b9\u30c8\u7684\u306b\u30a2\u30af\u30bb\u30b9\u3067\u304d\u308b\u3002\u6587\u5b57\u306e\u8ffd\u52a0\u306fappend\u3067\u306f\u51fa\u6765\u306a\u3044"
     ]
    },
    {
     "cell_type": "code",
     "collapsed": false,
     "input": [
      "\"hello Python.\"[0]"
     ],
     "language": "python",
     "metadata": {},
     "outputs": []
    },
    {
     "cell_type": "code",
     "collapsed": false,
     "input": [
      "\"hello Python.\"[0:5]"
     ],
     "language": "python",
     "metadata": {},
     "outputs": []
    },
    {
     "cell_type": "code",
     "collapsed": false,
     "input": [
      "\"hello Python.\".append(\"!!\")"
     ],
     "language": "python",
     "metadata": {},
     "outputs": []
    },
    {
     "cell_type": "heading",
     "level": 2,
     "metadata": {},
     "source": [
      "\u8f9e\u66f8"
     ]
    },
    {
     "cell_type": "markdown",
     "metadata": {},
     "source": [
      "{} \u3092\u3064\u304b\u3063\u3066{\"key\":\"value\"}\u306e\u3088\u3046\u306b\u3059\u308b\u3002\n",
      "\n",
      "C\u8a00\u8a9e\u3067\u8a00\u3046\u3068\u3002\u3002\u3002\uff08\u601d\u3044\u3064\u304b\u306a\u3044\u3001\u4e8c\u6b21\u5143\u914d\u5217\u3067\u306f\u306a\u3044\u3057\u3001\u69cb\u9020\u4f53\u3068\u3082\u8a00\u3044\u304c\u305f\u3044\uff09"
     ]
    },
    {
     "cell_type": "code",
     "collapsed": false,
     "input": [
      "dic1 = {\"name\":\"hiroshi sano\", \"email\":\"sano@ishiilab.net\", }\n",
      "print(dic1)"
     ],
     "language": "python",
     "metadata": {},
     "outputs": []
    },
    {
     "cell_type": "markdown",
     "metadata": {},
     "source": [
      "\u8f9e\u66f8\u306e\u4e2d\u8eab\u306e\u30a2\u30af\u30bb\u30b9\u306f\u3001dict[key]\u3067\u53ef\u80fd"
     ]
    },
    {
     "cell_type": "code",
     "collapsed": false,
     "input": [
      "dic1[\"name\"]"
     ],
     "language": "python",
     "metadata": {},
     "outputs": []
    },
    {
     "cell_type": "code",
     "collapsed": false,
     "input": [
      "#\u8f9e\u66f8\u306e\u5024\u304b\u3089\u66f4\u306b\u76f4\u63a5\u30a2\u30af\u30bb\u30b9\u3059\u308b\u3053\u3068\u3082\n",
      "dic1[\"name\"][1:4]"
     ],
     "language": "python",
     "metadata": {},
     "outputs": []
    },
    {
     "cell_type": "heading",
     "level": 2,
     "metadata": {},
     "source": [
      "\u30d5\u30a9\u30fc\u30de\u30c3\u30c8\u6587\u5b57\u5217"
     ]
    },
    {
     "cell_type": "markdown",
     "metadata": {},
     "source": [
      "\u6587\u5b57\u5217\u306b\u5225\u306e\u6587\u5b57\u5217\u3092\u633f\u5165\u3059\u308b\u3053\u3068\u304c\u51fa\u6765\u307e\u3059\u3002C\u8a00\u8a9e\u306eprintf\u3068\u540c\u3058\u3082\u306e\u3067\u3059\u3002\n",
      "\n",
      "\u69cb\u6587\u306fC\u8a00\u8a9e\u3068\u540c\u3058\u3082\u306e\u304c\u4f7f\u3048\u307e\u3059\u304c\u3001Python3\u7cfb\u306f\u975e\u63a8\u5968\u3068\u306a\u308a\u3001\u65b0\u3057\u3044\u65b9\u6cd5\uff08\u6587\u5b57\u5217\u306eformat\u30e1\u30bd\u30c3\u30c9\uff09\u304c\u63a8\u5968\u3055\u308c\u3066\u3044\u307e\u3059\u3002"
     ]
    },
    {
     "cell_type": "code",
     "collapsed": false,
     "input": [
      "print(\"{} {} {}\".format(\"hello\", \"python\", \":^)\"))"
     ],
     "language": "python",
     "metadata": {},
     "outputs": []
    },
    {
     "cell_type": "code",
     "collapsed": false,
     "input": [
      "print(\"{0} {1} {2}\".format(\"Python\", \"Hello!! \", \"\u4e26\u3073\u304c\u304a\u304b\u3057\u3044\uff1f\"))"
     ],
     "language": "python",
     "metadata": {},
     "outputs": []
    },
    {
     "cell_type": "heading",
     "level": 1,
     "metadata": {},
     "source": [
      "\u5236\u5fa1\u69cb\u6587"
     ]
    },
    {
     "cell_type": "heading",
     "level": 2,
     "metadata": {},
     "source": [
      "\u30a4\u30f3\u30c7\u30f3\u30c8"
     ]
    },
    {
     "cell_type": "markdown",
     "metadata": {},
     "source": [
      "\u30a4\u30f3\u30c7\u30f3\u30c8\u306fPython\u306e\u30d6\u30ed\u30c3\u30af\u3092\u610f\u5473\u3065\u3051\u308b\u6642\u306b\u5229\u7528\u3057\u307e\u3059\u3002\u591a\u8a00\u8a9e\u306b\u3042\u308b{}\u306e\u3088\u3046\u306a\u30ab\u30c3\u30b3\u3067\u30d6\u30ed\u30c3\u30af\u5b9a\u7fa9\u3068\u540c\u3058\u610f\u5473\u3067\u3059\u3002\n",
      "\n",
      "\u4e00\u822c\u7684\u306b\u30b9\u30da\u30fc\u30b94\u3064\u304c\u5229\u7528\u3055\u308c\u307e\u3059\u3002"
     ]
    },
    {
     "cell_type": "code",
     "collapsed": false,
     "input": [
      "if 0 >= 20 :\n",
      "    print(\"\u3053\u306e\u30d6\u30ed\u30c3\u30af\u306f\u8fd4\u3063\u3066\u3053\u306a\u3044\")\n",
      "else:\n",
      "    print(\"\u3053\u306e\u30d6\u30ed\u30c3\u30af\u306f\u8fd4\u3063\u3066\u304f\u308b\u3002\u3060\u3063\u30660\u306f20\u3088\u308a\u5927\u304d\u304f\u306a\u3044\u3057\")"
     ],
     "language": "python",
     "metadata": {},
     "outputs": []
    },
    {
     "cell_type": "code",
     "collapsed": false,
     "input": [
      "# \u3053\u308c\u306f\u30a8\u30e9\u30fc\u3068\u306a\u308b\u3002IndentiationalError\u304c\u304b\u3048\u3063\u3066\u304f\u308b\n",
      "\n",
      "if 0 >= 20 :\n",
      "print(\"\u3053\u306e\u30d6\u30ed\u30c3\u30af\u306f\u8fd4\u3063\u3066\u3053\u306a\u3044\")\n",
      "else:\n",
      "print(\"\u3053\u306e\u30d6\u30ed\u30c3\u30af\u306f\u8fd4\u3063\u3066\u304f\u308b\u3002\u3060\u3063\u30660\u306f20\u3088\u308a\u5927\u304d\u304f\u306a\u3044\u3057\")"
     ],
     "language": "python",
     "metadata": {},
     "outputs": []
    },
    {
     "cell_type": "heading",
     "level": 2,
     "metadata": {},
     "source": [
      "\u6761\u4ef6\u5206\u5c90: if"
     ]
    },
    {
     "cell_type": "markdown",
     "metadata": {},
     "source": [
      "\u6761\u4ef6\u3092\u6307\u5b9a\u3057\u3066\u3001\u305d\u306e\u4e0b\u306b\u30d6\u30ed\u30c3\u30af\u3092\u4f5c\u308a\uff08\u30a4\u30f3\u30c7\u30f3\u30c8\u3059\u308b\uff09\u51e6\u7406\u3092\u66f8\u304f\n",
      "\n",
      "\u6761\u4ef6\u3092\u30ab\u30c3\u30b3\u3067\u56f2\u3046\u5fc5\u8981\u306f\u306a\u3044\u3002\u5fc5\u8981\u306a\u5834\u5408\uff08\u6f14\u7b97\u5b50\u306e\u6709\u7dda\u3092\u5909\u3048\u305f\u3044\u3068\u304d\uff09\u306b\u5408\u308f\u305b\u3066\u5165\u308c\u307e\u3059\u3002"
     ]
    },
    {
     "cell_type": "code",
     "collapsed": false,
     "input": [
      "name = \"hiroshi\"\n",
      "age = 29\n",
      "\n",
      "if age >= 20:\n",
      "    print(name + \"\u3055\u3093\u306f\u6210\u4eba\u3067\u3059\")\n",
      "else:\n",
      "    # else\u306f\u3001if\u306e\u6761\u4ef6\u306b\u5f53\u3066\u306f\u307e\u3089\u306a\u3044\u5834\u5408\u306b\u4f7f\u3046\n",
      "    print(name + \"\u3055\u3093\u306f\u6210\u4eba\u3067\u306f\u3042\u308a\u307e\u305b\u3093\u3002\")"
     ],
     "language": "python",
     "metadata": {},
     "outputs": []
    },
    {
     "cell_type": "code",
     "collapsed": false,
     "input": [
      "# \u8907\u6570\u306e\u6761\u4ef6\u3092\u307e\u3068\u3081\u3066\u66f8\u304f\u3068\u304d\u306felif\u3092\u4f7f\u3046\n",
      "\n",
      "name2 = \"hiroshi\"\n",
      "age2 = 29\n",
      "if age2 >= 0 and age2 <= 5:\n",
      "    print(name2 +\"\u3055\u3093\u306f\u5e7c\u5e74\u671f\u3060\u305d\u3046\u3067\u3059\")\n",
      "\n",
      "elif age2 >= 6 and age2 <= 14:\n",
      "    print(name2 +\"\u3055\u3093\u306f\u5c11\u5e74\u671f\u3060\u305d\u3046\u3067\u3059\")\n",
      "\n",
      "elif age2 >= 15 and age2 <= 30:\n",
      "    print(name2 +\"\u3055\u3093\u306f\u9752\u5e74\u671f\u3060\u305d\u3046\u3067\u3059\")\n",
      "    \n",
      "elif age2 >= 31 and age2 <= 44:\n",
      "    print(name2 +\"\u3055\u3093\u306f\u58ee\u5e74\u671f\u3060\u305d\u3046\u3067\u3059\")\n",
      "    \n",
      "elif age2 >= 45 and age2 <= 64:\n",
      "    print(name2 +\"\u3055\u3093\u306f\u4e2d\u5e74\u671f\u3060\u305d\u3046\u3067\u3059\")\n",
      "    \n",
      "elif age2 <= 64:\n",
      "    print(name2 +\"\u3055\u3093\u306f\u9ad8\u5e74\u671f\u3060\u305d\u3046\u3067\u3059\")"
     ],
     "language": "python",
     "metadata": {},
     "outputs": []
    },
    {
     "cell_type": "heading",
     "level": 2,
     "metadata": {},
     "source": [
      "\u518d\u5e30:for"
     ]
    },
    {
     "cell_type": "markdown",
     "metadata": {},
     "source": [
      "for\u6587\u306f\u3001C\u8a00\u8a9e\u3067\u3044\u3046for\u6587\u3068\u306f\u5c11\u3057\u7570\u306a\u308a\u307e\u3059\u3002\n",
      "\n",
      "foreach\u3068\u547c\u3070\u308c\u3066\u3044\u3066\u3001\u7279\u5b9a\u306e\u30b7\u30fc\u30b1\u30f3\u30b9\u3092\u30eb\u30fc\u30d7\u3055\u305b\u308b\u6a5f\u80fd\u304c\u3042\u308a\u307e\u3059\u3002\n",
      "\n",
      "C\u8a00\u8a9e\u306efor\u6587\u306b\u7fd2\u3046\u5834\u5408\u306f\u3001\u6570\u5b57\u306e\u30b7\u30fc\u30b1\u30f3\u30b9\u3092\u4f5c\u308brange\u95a2\u6570\u3092\u5229\u7528\u3057\u307e\u3059"
     ]
    },
    {
     "cell_type": "code",
     "collapsed": false,
     "input": [
      "# \u30b7\u30fc\u30b1\u30f3\u30b9\u3092\u7528\u610f\u3057\u3066\u304a\u3044\u3066\u30eb\u30fc\u30d7\u3055\u305b\u308b\u3068\u3053\u3046\u306a\u308b\n",
      "# ref: https://twitter.com/kama_AGE/status/624345432089464832\n",
      "suffix_list = [\"foo\", \"\u30d0\u30fc\", \"baz\"]\n",
      "\n",
      "for suffix in suffix_list:\n",
      "    print(\"\u3059\u3044\u304b\" + suffix)"
     ],
     "language": "python",
     "metadata": {},
     "outputs": []
    },
    {
     "cell_type": "markdown",
     "metadata": {},
     "source": [
      "C\u8a00\u8a9e\u3063\u307d\u304f\u66f8\u304f\u3068\u304d\u306f\u3001range\u95a2\u6570\u3092\u5229\u7528\u3057\u3001\u9806\u5217\u306a\u6570\u5b57\u306e\u30ea\u30b9\u30c8\u3092\u751f\u6210\u3057\u3066for\u6587\u306b\u5229\u7528\u3057\u307e\u3059\u3002"
     ]
    },
    {
     "cell_type": "code",
     "collapsed": false,
     "input": [
      "# range\u95a2\u6570\u3092\u4f7f\u3063\u3066C\u8a00\u8a9e\u306efor\u6587\u3089\u3057\u304f\u3059\u308b\u3068\n",
      "\n",
      "for i in range(5):\n",
      "    print (\"Loop No\" + str(i))"
     ],
     "language": "python",
     "metadata": {},
     "outputs": []
    },
    {
     "cell_type": "heading",
     "level": 2,
     "metadata": {},
     "source": [
      "\u518d\u5e30:while"
     ]
    },
    {
     "cell_type": "markdown",
     "metadata": {},
     "source": [
      "\u7279\u5b9a\u306e\u6761\u4ef6\u306b\u306a\u308b\u307e\u3067\u30d6\u30ed\u30c3\u30af\u5185\u3092\u7e70\u308a\u8fd4\u3059\n",
      "\n",
      "\u3053\u3061\u3089\u306fC\u8a00\u8a9e\u3084\u305d\u306e\u4ed6\u306e\u8a00\u8a9e\u306ewhile\u3068\u307b\u307c\u540c\u3058"
     ]
    },
    {
     "cell_type": "code",
     "collapsed": false,
     "input": [
      "count = 0\n",
      "\n",
      "# count\u304c10\u306b\u306a\u308b\u307e\u3067\u30eb\u30fc\u30d7\n",
      "while count <= 10:\n",
      "    print(count)\n",
      "    #  count = count + 1 \u306e\u3088\u3046\u306b count\u30781\u305a\u3064\u8db3\u3057\u3066\u3044\u308b\u3002\n",
      "    # \u30a4\u30f3\u30af\u30ea\u30e1\u30f3\u30c8\u306f\u7121\u3044\u3002\u7d2f\u7b97\u4ee3\u5165\u6587\u3068\u547c\u3070\u308c\u308b\u8868\u8a18\u3092\u5229\u7528\u3059\u308b\n",
      "    count += 1"
     ],
     "language": "python",
     "metadata": {},
     "outputs": []
    },
    {
     "cell_type": "heading",
     "level": 2,
     "metadata": {},
     "source": [
      "With: \u30b3\u30f3\u30c6\u30ad\u30b9\u30c8\u30d6\u30ed\u30c3\u30af"
     ]
    },
    {
     "cell_type": "markdown",
     "metadata": {},
     "source": [
      "with\u6587\u306f\u7279\u5b9a\u306e\u95a2\u6570\u3084\u30e1\u30bd\u30c3\u30c9\u3067\u5229\u7528\u3067\u304d\u3001\u51e6\u7406\u306e\u7d42\u4e86\u5f8c\u306b\u5fc5\u305a\u5b9f\u884c\u3057\u305f\u3044\u3088\u3046\u306a\u51e6\u7406\uff08\u7d42\u4e86\u51e6\u7406\u3068\u547c\u3070\u308c\u308b\uff09\u3092\u307e\u3068\u3081\u305f\u3044\u3068\u304d\u306b\u5229\u7528\u3057\u307e\u3059\u3002\n",
      "\n",
      "\u30d5\u30a1\u30a4\u30eb\u3092\u958b\u304fopen\u95a2\u6570\u306b\u3088\u304f\u5229\u7528\u3055\u308c\u307e\u3059\u3002\u30d5\u30a1\u30a4\u30eb\u306f\u958b\u3044\u305f\u5f8c\u306b\u9589\u3058\u308b\u51e6\u7406 close\u95a2\u6570\u306e\u5b9f\u884c\u304c\u5fc5\u8981\u3067\u3059\u304c\u3001with\u6587\u3092\u4f7f\u3046\u3068\u81ea\u52d5\u7684\u306bclose\u304c\u547c\u3070\u308c\u308b\u3088\u3046\u306b\u4f5c\u3089\u308c\u3066\u3044\u307e\u3059\u3002\n",
      "\n",
      "(ref: http://docs.python.jp/3.4/reference/compound_stmts.html#as ) "
     ]
    },
    {
     "cell_type": "code",
     "collapsed": false,
     "input": [
      "# requirements.txt\u3092\u8868\u793a\u3057\u3066\u3044\u307e\u3059\n",
      "\n",
      "with open(\"exam/basic/num.txt\") as f:\n",
      "    print(f.read())"
     ],
     "language": "python",
     "metadata": {},
     "outputs": []
    },
    {
     "cell_type": "heading",
     "level": 2,
     "metadata": {},
     "source": [
      "Try: \u4f8b\u5916\u51e6\u7406"
     ]
    },
    {
     "cell_type": "markdown",
     "metadata": {},
     "source": [
      "\u4f8b\u5916\uff08\u30a8\u30e9\u30fc\uff09\u51e6\u7406\u3067\u3059\u3002Try\u7bc0\u3067\u30a8\u30e9\u30fc\u304c\u51fa\u305d\u3046\u306a\u51e6\u7406\u3092\u66f8\u304d\u3001except\u7bc0\u3067\u30a8\u30e9\u30fc\u6642\u306e\u51e6\u7406\u3092\u66f8\u304d\u307e\u3059\u3002\n",
      "\n",
      "\u4f8b\u5916\u306f\u4e88\u3081\u6c7a\u307e\u3063\u3066\u3044\u308b\u4f8b\u5916\u578b\u3068\u3044\u3046\u3082\u306e\u304c\u3042\u308a\u307e\u3059\u3002\n",
      "\n",
      "- 0\u306f\u5272\u308a\u5207\u308c\u306a\u3044ZeroDivisionError \n",
      "- \u5909\u6570\u304c\u5b58\u5728\u3057\u306a\u3044NameError\n",
      "\n",
      "\u4f8b\u3048\u3070\u3001\u958b\u304d\u305f\u3044\u30d5\u30a1\u30a4\u30eb\u540d\u3092\u6307\u5b9a\u3059\u308b\u304c\u3001\u5b58\u5728\u3057\u306a\u3044\u6642\u3082\u3042\u308b\u3002\u5b58\u5728\u3057\u306a\u3044\u6642\u306e\u51e6\u7406\u3092\u3053\u306e\u69cb\u6587\u3067\u66f8\u304f\u3053\u3068\u304c\u51fa\u6765\u308b"
     ]
    },
    {
     "cell_type": "code",
     "collapsed": false,
     "input": [
      "print(100/0) #0\u306f\u5272\u308a\u5207\u308c\u306a\u3044ZeroDivisionError\u304c\u767a\u751f"
     ],
     "language": "python",
     "metadata": {
      "scrolled": true
     },
     "outputs": []
    },
    {
     "cell_type": "markdown",
     "metadata": {},
     "source": [
      "except\u7bc0\u3068\u30a8\u30e9\u30fc\u3092\u6307\u5b9a\u3059\u308b\u3068\u3001\u305d\u306e\u30a8\u30e9\u30fc\u7528\u306e\u51e6\u7406\u3092\u7528\u610f\u3059\u308b\u3053\u3068\u304c\u51fa\u6765\u308b"
     ]
    },
    {
     "cell_type": "code",
     "collapsed": false,
     "input": [
      "try:\n",
      "    print(100/0)\n",
      "except ZeroDivisionError:\n",
      "    print(\"0\u3067\u5272\u308a\u304d\u308c\u307e\u305b\u3093\u30a8\u30e9\u30fc\u3092\u62fe\u3044\u307e\u3057\u305f\")"
     ],
     "language": "python",
     "metadata": {},
     "outputs": []
    },
    {
     "cell_type": "code",
     "collapsed": false,
     "input": [
      "with open(\"testtt.txt\") as f:\n",
      "    print(f.read())"
     ],
     "language": "python",
     "metadata": {},
     "outputs": []
    },
    {
     "cell_type": "code",
     "collapsed": false,
     "input": [
      "try: \n",
      "    f = open(\"testtt.txt\")\n",
      "    print(f.read())\n",
      "except FileNotFoundError :\n",
      "    print(\"\u30d5\u30a1\u30a4\u30eb\u304c\u5b58\u5728\u3057\u307e\u305b\u3093\uff01\uff01\")"
     ],
     "language": "python",
     "metadata": {},
     "outputs": []
    },
    {
     "cell_type": "markdown",
     "metadata": {},
     "source": [
      "`finally`\u7bc0\u3092\u5b9a\u7fa9\u3059\u308b\u3068\u3001`try`\u3067\u30a8\u30e9\u30fc\u304c\u767a\u751f\u3057\u3066\u3082\u3057\u306a\u304f\u3066\u3082\u5b9f\u884c\u3059\u308b\u5fc5\u8981\u304c\u3042\u308b\u51e6\u7406\u3092\u884c\u3046\u3053\u3068\u304c\u51fa\u6765\u308b"
     ]
    },
    {
     "cell_type": "code",
     "collapsed": false,
     "input": [
      "%cat \"exam/basic/num.txt\""
     ],
     "language": "python",
     "metadata": {},
     "outputs": []
    },
    {
     "cell_type": "code",
     "collapsed": false,
     "input": [
      "f = open(\"exam/basic/num.txt\")\n",
      "try: \n",
      "    num = int(f.read())\n",
      "    print(100/num)\n",
      "except ZeroDivisionError:\n",
      "    print(\"\u8aad\u307f\u8fbc\u3093\u3060\u6570\u5b57\u306f0\u3067\u3057\u305f\u3002\")\n",
      "finally:\n",
      "    f.close()\n",
      "    print(\"\u30d5\u30a1\u30a4\u30eb\u3092\u9589\u3058\u307e\u3057\u305f\u3002\")"
     ],
     "language": "python",
     "metadata": {},
     "outputs": []
    },
    {
     "cell_type": "markdown",
     "metadata": {},
     "source": [
      "## \u95a2\u6570\n",
      "\n",
      "def \u6587\u3067\u5b9a\u7fa9\u3057\u307e\u3059\u3002\n",
      "\n",
      "\u307e\u3068\u3081\u305f\u3044\u51e6\u7406\u3092\u30a4\u30f3\u30c7\u30f3\u30c8\u3057\u3066\u8a18\u8f09\u3057\u307e\u3059\u3002\n",
      "\n",
      "### \u623b\u308a\u5024\u3092\u8fd4\u3055\u306a\u3044\n",
      "\n",
      "\u8fd4\u3055\u306a\u3044\u30d1\u30bf\u30fc\u30f3\u3068\u8fd4\u3059\u30d1\u30bf\u30fc\u30f3\u306e\u9055\u3044\u306f\u3001return\u6587\u306e\u5b9a\u7fa9\u304c\u3042\u308b\u304b\u306a\u3044\u304b\u3067\u3059\u3002\n",
      "\n",
      "\u8fd4\u3055\u306a\u3044\u30d1\u30bf\u30fc\u30f3\u306f\u3001\u5b9f\u884c\u3057\u3066\u3082\u6a19\u6e96\u51fa\u529b\u306a\u3069\u306b\u60c5\u5831\u306f\u51fa\u3055\u306a\u3044\u306e\u3067\u3001\u308f\u304b\u308a\u3084\u3059\u304fprint\u6587\u3092\u4f7f\u3063\u3066\u3044\u307e\u3059\u3002"
     ]
    },
    {
     "cell_type": "markdown",
     "metadata": {},
     "source": [
      "#### \u30d5\u30a3\u30dc\u30ca\u30c3\u30c1\u6570\u5217\u3092\u7f85\u5217\u3059\u308b\n",
      "\n",
      "ref: http://docs.python.jp/3.4/tutorial/controlflow.html#defining-functions"
     ]
    },
    {
     "cell_type": "code",
     "collapsed": false,
     "input": [
      "def fib(n):    # write Fibonacci series up to n\n",
      "   \"\"\"Print a Fibonacci series up to n.\"\"\"\n",
      "   a, b = 0, 1\n",
      "   while a < n:\n",
      "       print(a, end=' ')\n",
      "       a, b = b, a+b\n",
      "   print()"
     ],
     "language": "python",
     "metadata": {},
     "outputs": []
    },
    {
     "cell_type": "code",
     "collapsed": false,
     "input": [
      "fib(10)"
     ],
     "language": "python",
     "metadata": {},
     "outputs": []
    },
    {
     "cell_type": "code",
     "collapsed": false,
     "input": [
      "fib(12345)"
     ],
     "language": "python",
     "metadata": {},
     "outputs": []
    },
    {
     "cell_type": "heading",
     "level": 4,
     "metadata": {},
     "source": [
      "\u7279\u5b9a\u306e\u6587\u5b57\u5217\u3092\u51fa\u529b\u3059\u308b"
     ]
    },
    {
     "cell_type": "code",
     "collapsed": false,
     "input": [
      "def greeting_print(greet_word, name):\n",
      "    print( greet_word + \" \" + name +  \" :-)\")"
     ],
     "language": "python",
     "metadata": {},
     "outputs": []
    },
    {
     "cell_type": "code",
     "collapsed": false,
     "input": [
      "greeting_print(\"hello!\",\"hiroshi\")"
     ],
     "language": "python",
     "metadata": {},
     "outputs": []
    },
    {
     "cell_type": "markdown",
     "metadata": {},
     "source": [
      "### \u8fd4\u308a\u5024\u304c\u623b\u308b\n",
      "\n",
      "\u95a2\u6570\u5185\u3067return\u6587\u3092\u4f7f\u3046\u3068\u3001\u5024\u3092\u8fd4\u3059\u3053\u3068\u304c\u3067\u304d\u308b"
     ]
    },
    {
     "cell_type": "markdown",
     "metadata": {},
     "source": [
      "#### \u30d5\u30a3\u30dc\u30ca\u30c3\u30c1\u6570\u5217\u3092\u7f85\u5217\u3092\u8fd4\u3059\n",
      "\n",
      "ref: http://docs.python.jp/3.4/tutorial/controlflow.html#defining-functions"
     ]
    },
    {
     "cell_type": "code",
     "collapsed": false,
     "input": [
      "#ref:http://docs.python.jp/3.4/tutorial/controlflow.html#defining-functions\n",
      "def fib2(n): # return Fibonacci series up to n\n",
      "     \"\"\"Return a list containing the Fibonacci series up to n.\"\"\"\n",
      "     result = []\n",
      "     a, b = 0, 1\n",
      "     while a < n:\n",
      "         result.append(a)    # see below\n",
      "         a, b = b, a+b\n",
      "     return result"
     ],
     "language": "python",
     "metadata": {},
     "outputs": []
    },
    {
     "cell_type": "code",
     "collapsed": false,
     "input": [
      "#\u30ea\u30b9\u30c8\u3092\u8fd4\u3057\u3066\u3044\u308b\u306e\u3067\u3001\u5b9f\u884c\u3059\u308b\u3068\u30ea\u30b9\u30c8\u304c\u304b\u3048\u3063\u3066\u304f\u308b\n",
      "fib2(10)"
     ],
     "language": "python",
     "metadata": {},
     "outputs": []
    },
    {
     "cell_type": "heading",
     "level": 4,
     "metadata": {},
     "source": [
      "\u7279\u5b9a\u306e\u6587\u5b57\u5217\u3092\u8fd4\u3059"
     ]
    },
    {
     "cell_type": "code",
     "collapsed": false,
     "input": [
      "# \u7279\u5b9a\u306e\u6587\u5b57\u5217\u3092\u51fa\u3057\u3066\u307f\u308b\n",
      "\n",
      "def greeting_str(greet_word, name):\n",
      "    return greet_word + \" \" + name +  \" :-)\""
     ],
     "language": "python",
     "metadata": {},
     "outputs": []
    },
    {
     "cell_type": "code",
     "collapsed": false,
     "input": [
      "# \u6587\u5b57\u5217\u3092\u8fd4\u3059\u3088\u3046\u306b\u3057\u3066\u3044\u308b\u306e\u3067\u6587\u5b57\u5217\u304c\u304b\u3048\u3063\u3066\u304f\u308b\n",
      "greeting_str(\"hello!\",\"hiroshi\")"
     ],
     "language": "python",
     "metadata": {},
     "outputs": []
    },
    {
     "cell_type": "markdown",
     "metadata": {},
     "source": [
      "## \u30c7\u30d5\u30a9\u30eb\u30c8\u5f15\u6570\n",
      "\n",
      "\u5f15\u6570\u306b\u4e88\u3081\u30c7\u30d5\u30a9\u30eb\u30c8\u306e\u5024\u3092\u6307\u5b9a\u3059\u308b\u3053\u3068\u304c\u51fa\u6765\u308b"
     ]
    },
    {
     "cell_type": "code",
     "collapsed": false,
     "input": [
      "def greeting_str_mod(greeting=\"hello\",name=\"python\"):\n",
      "    print(greeting + \" \" + name + \"!!\")"
     ],
     "language": "python",
     "metadata": {},
     "outputs": []
    },
    {
     "cell_type": "code",
     "collapsed": false,
     "input": [
      "greeting_str_mod()"
     ],
     "language": "python",
     "metadata": {},
     "outputs": []
    },
    {
     "cell_type": "code",
     "collapsed": false,
     "input": [
      "greeting_str_mod(\"\u3053\u3093\u306b\u3061\u306f\")"
     ],
     "language": "python",
     "metadata": {},
     "outputs": []
    },
    {
     "cell_type": "markdown",
     "metadata": {},
     "source": [
      "# \u30af\u30e9\u30b9\n",
      "\n",
      "python\u306f\u30aa\u30d6\u30b8\u30a7\u30af\u30c8\u6307\u5411\u8a00\u8a9e\u3067\u3001\u30af\u30e9\u30b9\u306e\u6982\u5ff5\u3092\u5229\u7528\u3067\u304d\u308b\u3002\n",
      "\n",
      "\u72ec\u81ea\u306e\u30c7\u30fc\u30bf\u578b\u3001\u64cd\u4f5c\u3057\u3084\u3059\u304f\u3059\u308b\u305f\u3081\u306e\u30aa\u30d6\u30b8\u30a7\u30af\u30c8\u3092\u4f5c\u308a\u305f\u3044\u3068\u304d\u306b\u5229\u7528\u3059\u308b"
     ]
    },
    {
     "cell_type": "code",
     "collapsed": false,
     "input": [
      "class Parson():\n",
      "    def __init__(self, name, age):\n",
      "        self.name = name\n",
      "        self.age = age\n",
      "    def say_age(self):\n",
      "        print(\"\u300c{}\u300d\u3055\u3093\u306f{}\u6b73\u3067\u3059\u3002\".format(self.name, self.age))\n",
      "    def say_age_hex(self):\n",
      "        print(\"\u300c{}\u300d\u3055\u3093\u306f{:#x}\u6b73\u3067\u3059\u3002\".format(self.name, self.age))"
     ],
     "language": "python",
     "metadata": {},
     "outputs": []
    },
    {
     "cell_type": "code",
     "collapsed": false,
     "input": [
      "itiro = Parson(\"\u4e00\u90ce\", 35)"
     ],
     "language": "python",
     "metadata": {},
     "outputs": []
    },
    {
     "cell_type": "code",
     "collapsed": false,
     "input": [
      "itiro.say_age()"
     ],
     "language": "python",
     "metadata": {},
     "outputs": []
    },
    {
     "cell_type": "code",
     "collapsed": false,
     "input": [
      "itiro.say_age_hex()"
     ],
     "language": "python",
     "metadata": {},
     "outputs": []
    },
    {
     "cell_type": "markdown",
     "metadata": {},
     "source": [
      "# \u30d5\u30a1\u30a4\u30eb\u8aad\u307f\u66f8\u304d\n",
      "\n",
      "\u30d5\u30a1\u30a4\u30eb\u306e\u8aad\u307f\u66f8\u304d\u306fopen\u95a2\u6570\u3092\u5229\u7528\u3057\u307e\u3059\u3002\n",
      "\n",
      "open\u95a2\u6570\u3067\u30d5\u30a1\u30a4\u30eb\u540d\u3092\u6307\u5b9a\u3057\u3066\u958b\u304f\u3068\u30d5\u30a1\u30a4\u30eb\u30aa\u30d6\u30b8\u30a7\u30af\u30c8\u304c\u751f\u6210\u3055\u308c\u307e\u3059\u3002\u3053\u306e\u30d5\u30a1\u30a4\u30eb\u30aa\u30d6\u30b8\u30a7\u30af\u30c8\u3092\u4f7f\u3063\u3066\u30d5\u30a1\u30a4\u30eb\u306e\u4e2d\u8eab\u3092\u898b\u305f\u308a\u3001\u8ffd\u8a18\u3001\u4e0a\u66f8\u304d\u3068\u8a00\u3063\u305f\u66f8\u304d\u8fbc\u307f\u51e6\u7406\u3092\u884c\u3044\u307e\u3059\u3002\n",
      "\n",
      "\u958b\u3044\u305f\u30d5\u30a1\u30a4\u30eb\u306f\u3001close\u30e1\u30bd\u30c3\u30c9\u3092\u4f7f\u3063\u3066\u30d5\u30a1\u30a4\u30eb\u3092\u9589\u3058\u308b\u5fc5\u8981\u304c\u3042\u308a\u307e\u3059\u3002\n",
      "\n",
      "With\u7bc0\u3092\u4f7f\u3046\u3068close\u30e1\u30bd\u30c3\u30c9\u306e\u51e6\u7406\u3092\u66f8\u304f\u5fc5\u8981\u304c\u306a\u304f\u306a\u308a\u307e\u3059\u3002\u305f\u3060\u3057With\u306e\u30d6\u30ed\u30c3\u30af\u4e2d\u3067\u30d5\u30a1\u30a4\u30eb\u3092\u958b\u304f\u3053\u3068\u304c\u51fa\u6765\u308b\u306e\u3067\u3001With\u7bc0\u3067\u958b\u3044\u305f\u5834\u5408\u306f\u30d6\u30ed\u30c3\u30af\u306e\u4e2d\u3067\u30c7\u30fc\u30bf\u306e\u53d6\u5f97\uff08\u5909\u6570\u306b\u5165\u308c\u308b\u306a\u3069\uff09\u304c\u5fc5\u8981\u306b\u306a\u308a\u307e\u3059\u3002\n",
      "\n",
      "[7. \u5165\u529b\u3068\u51fa\u529b \u2014 Python 3.4.3 \u30c9\u30ad\u30e5\u30e1\u30f3\u30c8](http://docs.python.jp/3/tutorial/inputoutput.html#reading-and-writing-files)"
     ]
    },
    {
     "cell_type": "code",
     "collapsed": false,
     "input": [
      "# \u8aad\u307f\u8fbc\u307f\u4f8b\u305d\u306e1\n",
      "# read\u306f\u8a18\u9332\u3055\u308c\u3066\u3044\u308b\u30d5\u30a1\u30a4\u30eb\u306e\u4e2d\u8eab\u3092\u3059\u3079\u3066\u3001\u5f15\u6570\u306b\u8aad\u307f\u8fbc\u3080\u30d0\u30a4\u30c8(byte)\u306e\u6570\u3092\u6307\u5b9a\u3059\u308b\u3053\u3068\u304c\u51fa\u6765\u308b\u3002\n",
      "text_f = open(\"./requirements.txt\",\"r\")\n",
      "print(text_f.read())\n",
      "text_f.close()"
     ],
     "language": "python",
     "metadata": {},
     "outputs": []
    },
    {
     "cell_type": "code",
     "collapsed": false,
     "input": [
      "# \u8aad\u307f\u8fbc\u307f\u4f8b\u305d\u306e2\n",
      "# \u6539\u884c\u304c\u3042\u308b\u30c6\u30ad\u30b9\u30c8\u30d5\u30a1\u30a4\u30eb\u306b\u5bfe\u3057\u3066readlines\u30e1\u30bd\u30c3\u30c9\u3092\u4f7f\u3046\u3053\u3068\u3067\u3001\u6539\u884c\u30b3\u30fc\u30c9\u3067\u884c\u3092\u533a\u5207\u3063\u305f\u30ea\u30b9\u30c8\u3092\u8fd4\u3057\u307e\u3059\u3002\n",
      "\n",
      "text_f = open(\"./requirements.txt\",\"r\")\n",
      "\n",
      "readline_text = text_f.readlines()\n",
      "for line in readline_text:\n",
      "    print(line)\n",
      "text_f.close()"
     ],
     "language": "python",
     "metadata": {},
     "outputs": []
    },
    {
     "cell_type": "code",
     "collapsed": false,
     "input": [
      "# \u8aad\u307f\u8fbc\u307f\u4f8b\u305d\u306e3\n",
      "\n",
      "# with\u7bc0\u3092\u4f7f\u3046\u3068\u3001\u6700\u5f8c\u306eclose()\u3092\u3084\u308b\u5fc5\u8981\u304c\u306a\u304f\u306a\u308a\u307e\u3059\u3002\n",
      "# \u884c\u6570\u304c\u5c11\u306a\u304f\u306a\u308a\u307e\u3059\u304c\u3001with\u30d6\u30ed\u30c3\u30af\u304b\u3089\u629c\u3051\u308b\u3068\u30d5\u30a1\u30a4\u30eb\u304c\u9589\u3058\u3066\u3057\u307e\u3046\u306e\u3067\u3001With\u30d6\u30ed\u30c3\u30af\u5185\u3067\u30c7\u30fc\u30bf\u3092\u4fdd\u6301\u3059\u308b\u5fc5\u8981\u304c\u3042\u308b\u3002\n",
      "with open(\"./requirements.txt\",\"r\") as text_f:\n",
      "    print(text_f.read())"
     ],
     "language": "python",
     "metadata": {},
     "outputs": []
    },
    {
     "cell_type": "code",
     "collapsed": false,
     "input": [
      "# \u66f8\u304d\u8fbc\u307f\u4f8b\n",
      "\n",
      "with open(\"./exam/basic/helloworld.txt\",\"w\") as hw_f:\n",
      "    hw_f.write(\"Hello Python!!\\n\")\n",
      "    hw_f.write(\"\u30cf\u30ed\u30fc\u30d1\u30a4\u30bd\u30f3\\n\")"
     ],
     "language": "python",
     "metadata": {},
     "outputs": []
    },
    {
     "cell_type": "code",
     "collapsed": false,
     "input": [
      "%cat ./exam/basic/helloworld.txt"
     ],
     "language": "python",
     "metadata": {},
     "outputs": []
    },
    {
     "cell_type": "markdown",
     "metadata": {},
     "source": [
      "# \u30e2\u30b8\u30e5\u30fc\u30eb\n",
      "\n",
      "\u30e2\u30b8\u30e5\u30fc\u30eb\u3092\u4f7f\u3046\u3068\u304d\u306fimport\u6587\u3092\u4f7f\u3044\u307e\u3059\u3002\n",
      "\n",
      "Python\u306f\u300c\u30d0\u30c3\u30c6\u30ea\u30fc\u5185\u8535\u8a00\u8a9e\u300d\u3068\u3082\u547c\u3070\u308c\u3066\u3044\u3066\u3001Python\u3092\u30a4\u30f3\u30b9\u30c8\u30fc\u30eb\u3059\u308b\u3060\u3051\u3067\u3042\u3089\u3086\u308b\u4f5c\u696d\u3084\u30bd\u30d5\u30c8\u30a6\u30a7\u30a2\u958b\u767a\u306b\u5bfe\u5fdc\u3067\u304d\u308b\u3068\u3055\u308c\u3066\u3044\u307e\u3059\u3002\n",
      "\n",
      "\u6a19\u6e96\u3067\u642d\u8f09\u3055\u308c\u3066\u3044\u308b\u30e2\u30b8\u30e5\u30fc\u30eb\u306e\u4e00\u90e8\u3092\u7d39\u4ecb\u3057\u307e\u3059\u3002"
     ]
    },
    {
     "cell_type": "markdown",
     "metadata": {},
     "source": [
      "## os\n",
      "\n",
      "import os\u3092\u5ba3\u8a00\u3059\u308b\u3068\u305d\u308c\u4ee5\u964d\u3067\u3001os\u30e2\u30b8\u30e5\u30fc\u30eb\u306e\u69d8\u3005\u306a\u6a5f\u80fd\u304c\u5229\u7528\u3067\u304d\u307e\u3059\u3002"
     ]
    },
    {
     "cell_type": "code",
     "collapsed": true,
     "input": [
      "import os"
     ],
     "language": "python",
     "metadata": {},
     "outputs": []
    },
    {
     "cell_type": "markdown",
     "metadata": {},
     "source": [
      "### os.path\n",
      "os.path\u30e2\u30b8\u30e5\u30fc\u30eb\u306f\u3001\u30d5\u30a1\u30a4\u30eb, \u30c7\u30a3\u30ec\u30af\u30c8\u30ea\u30d1\u30b9\u3092\u6271\u3046\u30e2\u30b8\u30e5\u30fc\u30eb\u3067\u3059\u3002os\u30e2\u30b8\u30e5\u30fc\u30eb\u5185\u306b\u3042\u308b\u30b5\u30d6\u30e2\u30b8\u30e5\u30fc\u30eb\u3067\u3059\u3002\u3067\u3082os\u30e2\u30b8\u30e5\u30fc\u30eb\u3067\u3088\u304f\u5229\u7528\u3055\u308c\u307e\u3059\u3002\n",
      "\u3053\u3053\u3067\u306f\u3001\u3088\u304f\u4f7f\u308f\u308c\u308b\u6a5f\u80fd\u3092\u7d39\u4ecb\u3057\u307e\u3059\u3002\n",
      "\n",
      "- join\n",
      "- abspath\n",
      "- exists\n",
      "- dirname\n",
      "- split\n",
      "- splitext"
     ]
    },
    {
     "cell_type": "code",
     "collapsed": false,
     "input": [
      "# os.path.join(\"path\",\"path\")\u3067path\u306e\u7d50\u5408\u304c\u51fa\u6765\u308b\u3002\u30d1\u30b9\u306e\u6587\u5b57\u5217\u3092\u3064\u304f\u308b\u3068\u304d\u306b\u5b89\u5168\u306b\u4f5c\u308c\u308b\n",
      "\n",
      "print(os.path.join(\"/usr/local/lib/python3.4\", \"python\"))"
     ],
     "language": "python",
     "metadata": {},
     "outputs": []
    },
    {
     "cell_type": "code",
     "collapsed": false,
     "input": [
      "# abspath\u306f\u7d76\u5bfe\u30d1\u30b9\u3092\u4f5c\u308a\u307e\u3059\u3002ipython notebook\u3067\u306f\u958b\u3044\u3066\u3044\u308bipynb\u30d5\u30a1\u30a4\u30eb\u3068\u540c\u3058\u4f4d\u7f6e\u3092\u8d77\u70b9\uff08\u30ab\u30ec\u30f3\u30c8\u30c7\u30a3\u30ec\u30af\u30c8\u30ea\uff09\u306b\u3057\u3066\u30d1\u30b9\u3092\u4f5c\u6210\u3059\u308b\n",
      "os.path.abspath(\"tutorial_basic.ipynb\")"
     ],
     "language": "python",
     "metadata": {},
     "outputs": []
    },
    {
     "cell_type": "code",
     "collapsed": false,
     "input": [
      "# exists\u306f\u5165\u529b\u3057\u305f\u30d5\u30a1\u30a4\u30eb\u30d1\u30b9\u3084\u30d5\u30a9\u30eb\u30c0\u30d1\u30b9\u304c\u3042\u308b\u304b\u3092\u78ba\u8a8d\u3059\u308b\u3002\n",
      "os.path.exists(\"tutorial_basic.ipynv\") # \u3053\u308c\u306f\u308f\u3056\u3068typo\u3057\u3066\u308b"
     ],
     "language": "python",
     "metadata": {},
     "outputs": []
    },
    {
     "cell_type": "code",
     "collapsed": false,
     "input": [
      "# dirname\u306f\u30d5\u30a1\u30a4\u30eb\u30d1\u30b9\u3092\u5165\u308c\u308b\u3068\u305d\u306e\u30d5\u30a1\u30a4\u30eb\u304c\u5165\u3063\u3066\u3044\u308b\u30c7\u30a3\u30ec\u30af\u30c8\u30ea\u30d1\u30b9\u3092\u53d6\u5f97\u3057\u307e\u3059\u3002\n",
      "filepath = \"/home/ishiilab/exam.txt\"\n",
      "os.path.dirname(filepath)\n"
     ],
     "language": "python",
     "metadata": {},
     "outputs": []
    },
    {
     "cell_type": "code",
     "collapsed": false,
     "input": [
      "# split\u306f(\u30c7\u30a3\u30ec\u30af\u30c8\u30ea\u30d1\u30b9,\u30d5\u30a1\u30a4\u30eb\u540d+\u62e1\u5f35\u5b50)\u306e\u3088\u3046\u306b\u30d1\u30b9\u3092\u5206\u96e2\u3057\u307e\u3059\u3002\u5206\u96e2\u3057\u305f\u7d50\u679c\u306f2\u3064\u306e\u5024\u304c\u5165\u3063\u305f\u30bf\u30d7\u30eb\u3068\u3057\u3066\u8fd4\u308a\u307e\u3059\u3002\n",
      "print(filepath)\n",
      "print(os.path.split(filepath))"
     ],
     "language": "python",
     "metadata": {},
     "outputs": []
    },
    {
     "cell_type": "code",
     "collapsed": false,
     "input": [
      "# splitext\u306f(\u30c7\u30a3\u30ec\u30af\u30c8\u30ea\u30d1\u30b9+\u30d5\u30a1\u30a4\u30eb\u540d,\u62e1\u5f35\u5b50)\u306e\u3088\u3046\u306b\u30d1\u30b9\u3092\u5206\u96e2\u3057\u307e\u3059\u3002\u5206\u96e2\u3057\u305f\u7d50\u679c\u306f2\u3064\u306e\u5024\u304c\u5165\u3063\u305f\u30bf\u30d7\u30eb\u3068\u3057\u3066\u8fd4\u308a\u307e\u3059\u3002\n",
      "print(filepath)\n",
      "print(os.path.splitext(filepath))"
     ],
     "language": "python",
     "metadata": {},
     "outputs": []
    },
    {
     "cell_type": "markdown",
     "metadata": {},
     "source": [
      "## datetime\n",
      "\n",
      "\n",
      "\u65e5\u4ed8\u3084\u6642\u9593\u3092\u6271\u3046\u30e2\u30b8\u30e5\u30fc\u30eb\u3002\u8a08\u7b97\u3082\u51fa\u6765\u308b\u3002\n",
      "\n",
      "http://www.python.jp/doc/3.4/library/datetime.html"
     ]
    },
    {
     "cell_type": "code",
     "collapsed": true,
     "input": [
      "import datetime"
     ],
     "language": "python",
     "metadata": {},
     "outputs": []
    },
    {
     "cell_type": "markdown",
     "metadata": {},
     "source": [
      "`datetime.datetime.now()` \u95a2\u6570\u306f\u3001\u5b9f\u884c\u3057\u305f\u6642\u306e\u6642\u523b\u3092datetime\u30c7\u30fc\u30bf\u578b(\u30aa\u30d6\u30b8\u30a7\u30af\u30c8)\u3068\u3057\u3066\u8fd4\u3057\u307e\u3059\u3002"
     ]
    },
    {
     "cell_type": "code",
     "collapsed": false,
     "input": [
      "datetime.datetime.now()"
     ],
     "language": "python",
     "metadata": {},
     "outputs": []
    },
    {
     "cell_type": "markdown",
     "metadata": {},
     "source": [
      "datetime\u3092print\u6587\u3067\u8868\u793a\u3055\u305b\u308b\u3068\u3001\u4e88\u3081\u6c7a\u3081\u3089\u308c\u305f\u30d5\u30a9\u30fc\u30de\u30c3\u30c8\u3067\u30c6\u30ad\u30b9\u30c8\u51fa\u529b\u3057\u307e\u3059\u3002"
     ]
    },
    {
     "cell_type": "code",
     "collapsed": false,
     "input": [
      "#\u897f\u66a6-\u6708-\u65e5 \u6642:\u5206:\u79d2.\u30df\u30ea\u79d2\n",
      "print(datetime.datetime.now())"
     ],
     "language": "python",
     "metadata": {},
     "outputs": []
    },
    {
     "cell_type": "markdown",
     "metadata": {},
     "source": [
      "datetime\u30aa\u30d6\u30b8\u30a7\u30af\u30c8\u306f\u3001\u305d\u308c\u305e\u308c\u3001\u5e74,\u6708,\u65e5,\u6642,\u5206,\u79d2 \u306e\u5024\u3092\u53d6\u308a\u51fa\u3059\u3053\u3068\u304c\u51fa\u6765\u308b "
     ]
    },
    {
     "cell_type": "code",
     "collapsed": false,
     "input": [
      "now_time = datetime.datetime.now()\n",
      "print(now_time.year)\n",
      "print(now_time.month)\n",
      "print(now_time.day)"
     ],
     "language": "python",
     "metadata": {},
     "outputs": []
    },
    {
     "cell_type": "markdown",
     "metadata": {},
     "source": [
      "datetime\u30aa\u30d6\u30b8\u30a7\u30af\u30c8\u3092\u6587\u5b57\u5217\u3068\u3057\u3066\u8868\u73fe\u3057\u305f\u3044\u5834\u5408\u306f\u3001datetime\u30aa\u30d6\u30b8\u30a7\u30af\u30c8\u306b\u3042\u308bstrftime\u30e1\u30bd\u30c3\u30c9\u3092\u5229\u7528\u3059\u308b"
     ]
    },
    {
     "cell_type": "code",
     "collapsed": false,
     "input": [
      "now_time = datetime.datetime.now()\n",
      "now_time.strftime(\"%Y-%m-%d %H:%M:%S\")"
     ],
     "language": "python",
     "metadata": {},
     "outputs": []
    },
    {
     "cell_type": "markdown",
     "metadata": {},
     "source": [
      "date\u30aa\u30d6\u30b8\u30a7\u30af\u30c8\u306f\u3001\u65e5\u4ed8\u3060\u3051\u3092\u6271\u3044\u307e\u3059\u3002"
     ]
    },
    {
     "cell_type": "code",
     "collapsed": false,
     "input": [
      "datetime.date.today()"
     ],
     "language": "python",
     "metadata": {},
     "outputs": []
    },
    {
     "cell_type": "code",
     "collapsed": false,
     "input": [
      "today = datetime.date.today()\n",
      "today.year"
     ],
     "language": "python",
     "metadata": {},
     "outputs": []
    },
    {
     "cell_type": "markdown",
     "metadata": {},
     "source": [
      "timedelta \u30aa\u30d6\u30b8\u30a7\u30af\u30c8\u3092\u5229\u7528\u3059\u308b\u3068\u3001\u76f4\u611f\u7684\u306b\u65e5\u4ed8\u3092\u52a0\u7b97\u3001\u6e1b\u7b97\u3059\u308b\u3053\u3068\u304c\u51fa\u6765\u307e\u3059\u3002\n"
     ]
    },
    {
     "cell_type": "code",
     "collapsed": false,
     "input": [
      "# \u4eca\u65e5\u304b\u3089\u4e00\u65e5\u3092\u5f15\u3044\u3066\u307f\u308b\n",
      "now_time = datetime.datetime.now()\n",
      "print(now_time)\n",
      "print(now_time - datetime.timedelta(days=1))"
     ],
     "language": "python",
     "metadata": {},
     "outputs": []
    },
    {
     "cell_type": "code",
     "collapsed": false,
     "input": [
      "#\u4eca\u65e5\u304b\u30894\u9031\u9593\u5f8c\u306f\u4f55\u65e5\u304b\n",
      "today = datetime.date.today()\n",
      "print(today + datetime.timedelta(weeks=5)) "
     ],
     "language": "python",
     "metadata": {},
     "outputs": []
    },
    {
     "cell_type": "markdown",
     "metadata": {},
     "source": [
      "## random \n",
      "\u64ec\u4f3c\u4e71\u6570\u3092\u767a\u751f\u3055\u305b\u308b\u30e2\u30b8\u30e5\u30fc\u30eb\u3002\n",
      "\n",
      "http://docs.python.jp/3.4/library/random.html"
     ]
    },
    {
     "cell_type": "code",
     "collapsed": false,
     "input": [
      "import random"
     ],
     "language": "python",
     "metadata": {},
     "outputs": []
    },
    {
     "cell_type": "markdown",
     "metadata": {},
     "source": [
      "randome\u306f\u5b9f\u884c\u3059\u308b\u30680~1\u306e\u7bc4\u56f2\u3067\u30e9\u30f3\u30c0\u30e0\u306a\u5c0f\u6570\u70b9\u3092\u8fd4\u3057\u307e\u3059\u3002"
     ]
    },
    {
     "cell_type": "code",
     "collapsed": false,
     "input": [
      "# \u6bce\u56de\u5024\u304c\u9055\u3046\n",
      "print(random.random())\n",
      "print(random.random())\n",
      "print(random.random())"
     ],
     "language": "python",
     "metadata": {},
     "outputs": []
    },
    {
     "cell_type": "markdown",
     "metadata": {},
     "source": [
      "randint\u306f\u7b2c\u4e00\u5f15\u6570\u304b\u3089\u7b2c\u4e8c\u5f15\u6570\u306e\u9593\u306e\u6570\u5b57\u3092\u30e9\u30f3\u30c0\u30e0\u306b\u8fd4\u3057\u307e\u3059\u3002"
     ]
    },
    {
     "cell_type": "code",
     "collapsed": false,
     "input": [
      "print(\"1\u5ea6\u76ee\u306e\u5b9f\u884c----------\")\n",
      "print(random.randint(1,10))\n",
      "print(random.randint(1,20))\n",
      "print(random.randint(1,100))\n",
      "\n",
      "print(\"2\u5ea6\u76ee\u306e\u5b9f\u884c----------\")\n",
      "print(random.randint(1,10))\n",
      "print(random.randint(1,20))\n",
      "print(random.randint(1,100))"
     ],
     "language": "python",
     "metadata": {
      "scrolled": true
     },
     "outputs": []
    },
    {
     "cell_type": "markdown",
     "metadata": {},
     "source": [
      "\u4eca\u307e\u3067\u306e\u4f8b\u3067\u306f\u3001\u30b7\u30fc\u30c9\u5024\u306f\u5b9f\u884c\u6642\u306e\u6642\u523b\u3092\u5229\u7528\u3057\u3066\u3044\u307e\u3059\u3002\n",
      "random.seed\u3067\u5024\u3092\u30bb\u30c3\u30c8\u3059\u308b\u3053\u3068\u3067\u3001\u540c\u3058\u4e71\u6570\u5024\u3092\u53d6\u5f97\u3067\u304d\u307e\u3059\u3002"
     ]
    },
    {
     "cell_type": "code",
     "collapsed": false,
     "input": [
      "# \u30b7\u30fc\u30c9\u5024\u3092\u8a2d\u5b9a\u3057\u305f\u5834\u5408\u3001\u30b7\u30fc\u30c9\u5024\u3092\u521d\u671f\u5316, \u540c\u3058\u30b7\u30fc\u30c9\u5024\u3092\u8a2d\u5b9a\u3057\u305f\u5834\u5408\n",
      "\n",
      "print(\"\u30b7\u30fc\u30c9\u5024\u8a2d\u5b9a---------\")\n",
      "random.seed(\"ishiilab_python_tutorial\")\n",
      "print(random.randint(1,10))\n",
      "print(random.randint(1,20))\n",
      "\n",
      "print(\"\u30b7\u30fc\u30c9\u5024\u521d\u671f\u5316---------\")\n",
      "random.seed()\n",
      "print(random.randint(1,10))\n",
      "print(random.randint(1,20))\n",
      "\n",
      "print(\"\u30b7\u30fc\u30c9\u5024\u518d\u8a2d\u5b9a---------\")\n",
      "random.seed(\"ishiilab_python_tutorial\")\n",
      "print(random.randint(1,10))\n",
      "print(random.randint(1,20))"
     ],
     "language": "python",
     "metadata": {},
     "outputs": []
    },
    {
     "cell_type": "markdown",
     "metadata": {},
     "source": [
      "## json\n",
      "json(JavaScript Object Notation)\u3068\u547c\u3070\u308c\u308b\u3002\u30c7\u30fc\u30bf\u69cb\u9020\u3092\u8a18\u8ff0\u3059\u308b\u8efd\u91cf\u30c7\u30fc\u30bf\u8a18\u8ff0\u8a00\u8a9e\u3092\u6271\u3046\u30e2\u30b8\u30e5\u30fc\u30eb\u3002\n",
      "\n",
      "Python\u306e\u30c7\u30fc\u30bf\u3092\u4fdd\u5b58\u3057\u305f\u3044\u3001WEB\u306eAPI\u3078\u30a2\u30af\u30bb\u30b9\u3057\u305f\u6642\u306e\u30c7\u30fc\u30bf\u304c\u3053\u308c\u3060\u3063\u305f\u308a\u3059\u308b\u3068\u304d\u306b\u5229\u7528\u3057\u307e\u3059\u3002\n",
      "\n",
      "http://www.python.jp/doc/3.4/library/json.html"
     ]
    },
    {
     "cell_type": "code",
     "collapsed": false,
     "input": [
      "#json.loads\u3067\u30c7\u30fc\u30bf\u3092\u30ed\u30fc\u30c9\u3057\u307e\u3059\u3002\u6587\u5b57\u5217\u306e\u4f8b\n",
      "\n",
      "import json\n",
      "\n",
      "json.loads(\"\"\"\n",
      "{\n",
      "    \"name\":\"hiroshi\",\n",
      "    \"age\":29,\n",
      "    \"organization\":[\"sano-design\", \"Tokai University Ishii labolatory\"],\n",
      "    \"like\":{\n",
      "        \"food\":[\"kare-\",\"ra-men\",\"korokke\",\"niku\"]\n",
      "    }\n",
      "}\n",
      "\"\"\")"
     ],
     "language": "python",
     "metadata": {},
     "outputs": []
    },
    {
     "cell_type": "code",
     "collapsed": false,
     "input": [
      "# json\u30d5\u30a1\u30a4\u30eb\u3092\u4f8b\u306b\u3057\u305f\u3082\u306e\n",
      "\n",
      "with open(\"exam/basic/hiroshi_info.json\",\"r\") as json_f:\n",
      "    hiroshi_info_jsonfile = json.loads(json_f.read())\n",
      "    print(hiroshi_info_jsonfile)"
     ],
     "language": "python",
     "metadata": {},
     "outputs": []
    },
    {
     "cell_type": "markdown",
     "metadata": {},
     "source": [
      "json.dumps\u306bPython\u306e\u30c7\u30fc\u30bf\u578b\u3092\u6e21\u3059\u3068json\u5f62\u5f0f\u306b\u5909\u63db\u3057\u307e\u3059"
     ]
    },
    {
     "cell_type": "code",
     "collapsed": false,
     "input": [
      "# \u3053\u306e\u5909\u6570\u306b\u306fPython\u306e\u8f9e\u66f8\u578b\u3092\u5165\u308c\u308b\n",
      "hiroshi_info_pyobj = {\n",
      "    \"name\":\"hiroshi\",\n",
      "    \"organization\":[\"sano-design\", \"Tokai University Ishii labolatory\"],\n",
      "    \"age\":29,\n",
      "    \"like\":{\n",
      "        \"food\":[\"kare-\",\"ra-men\",\"korokke\",\"niku\"]\n",
      "    }}\n",
      "\n",
      "# json.dumps\u3078\u901a\u3059\u3068json\u306e\u6587\u5b57\u5217\u306b\u306a\u308b\n",
      "json.dumps(hiroshi_info_pyobj)\n",
      "\n",
      "# \u9055\u3044\u3092\u78ba\u8a8d\n",
      "# \n",
      "\n",
      "print(type(hiroshi_info_pyobj))\n",
      "print(type(json.dumps(hiroshi_info_pyobj)))"
     ],
     "language": "python",
     "metadata": {},
     "outputs": []
    }
   ],
   "metadata": {}
  }
 ]
}